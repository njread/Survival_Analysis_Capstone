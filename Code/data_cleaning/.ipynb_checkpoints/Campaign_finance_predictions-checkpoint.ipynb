{
 "cells": [
  {
   "cell_type": "markdown",
   "metadata": {},
   "source": [
    "# Capstone Project\n",
    "\n",
    "\n",
    "## Data Cleaning\n",
    "\n",
    "### Problem Statement:\n",
    "When predicting outcomes of elections there are many factors that go into the success of an individual candidates campaign. Having cash on hand for expenses is vital for a campaign to survive and we believe that it can be an important factor in predicting weather the campaign will be successful or unsuccessful but not the only factor. In this project we believe that we can predict the outcomes of elections based on the financial contribution rates and the main expenditures of house campaigns. We seek to find if there is a \"critical mass\" of money spent on a variety of factors including paid media, staffing and transportation etc. that a candidate can use in order to flip or retain a seat in US primary elections.\n",
    "\n",
    "Using a combination of network analysis of donor relationships and regression methods. we believe that we can create a model to predict if a candidates campaign will be successful or if their campaign will fail.  \n",
    "\n",
    "***For this project we will determine success by the accuracy of how many elections we successfully predict as compared to a base line where we will predict election results based on who has the most money.***\n",
    "\n",
    "\n",
    "\n",
    "\n",
    "\n"
   ]
  },
  {
   "cell_type": "markdown",
   "metadata": {},
   "source": [
    "- [Imports](#import)\n",
    "- [Reading In The Data](#reading)\n",
    "- [Part 1 Data Cleaning](#pt1)\n",
    "- [Part 2 Data Cleaning](#pt2)"
   ]
  },
  {
   "cell_type": "markdown",
   "metadata": {},
   "source": [
    "### Imports \n",
    "<a id=\"import\"></a>"
   ]
  },
  {
   "cell_type": "code",
   "execution_count": 1,
   "metadata": {},
   "outputs": [],
   "source": [
    "import seaborn as sns\n",
    "import pandas  as pd\n",
    "import numpy   as np\n",
    "import glob"
   ]
  },
  {
   "cell_type": "markdown",
   "metadata": {},
   "source": [
    "### Reading in the data\n",
    "<a id=\"reading\"></a>"
   ]
  },
  {
   "cell_type": "markdown",
   "metadata": {},
   "source": [
    "After contacting the FEC we were able to bulk download the data for  Individual Campaign Donations,  Campaign Expenditures and political Action Committees (PAC's) donations. This resulted in a 27.5 GB data set which exists on an external hard drive. The file paths for the years exist below and are organized into the smallest forms that Pandas can handle. Due to the volume of donations in the 2016 and current election we have broken these out into 2 data frames. "
   ]
  },
  {
   "cell_type": "code",
   "execution_count": 3,
   "metadata": {},
   "outputs": [],
   "source": [
    "# file path for all of the donatinos. All pulled from FEC.GOV \n",
    "file_path_2005_2008 = [\n",
    "            '/Volumes/Polotics_capstone_drive/capstone/Data/2005-2006/Donations',\n",
    "            '/Volumes/Polotics_capstone_drive/capstone/Data/2007-2008/Donations'\n",
    "            ]\n",
    "file_path_2009_2012 = [\n",
    "            '/Volumes/Polotics_capstone_drive/capstone/Data/2009-2010/Donations',\n",
    "            '/Volumes/Polotics_capstone_drive/capstone/Data/2011-2012/Donations/indiv12/by_date'\n",
    "            ]\n",
    "\n",
    "file_path_2013_2016 = [\n",
    "            '/Volumes/Polotics_capstone_drive/capstone/Data/2013-2014/Donations/indiv14/by_date',\n",
    "            '/Volumes/Polotics_capstone_drive/capstone/Data/2015-2016/Donatoins/indiv16/by_date'    \n",
    "            ]\n",
    "\n",
    "file_path_2016_pt2 = [\n",
    "            '/Volumes/Polotics_capstone_drive/capstone/Data/2015-2016/Donatoins/by_date_2'\n",
    "            ]\n",
    "\n",
    "file_path_2017_2020 = [\n",
    "            '/Volumes/Polotics_capstone_drive/capstone/Data/2017-2018/Donations/indiv18/by_date',\n",
    "            ]\n",
    "\n",
    "file_path_2017_2020_pt2 =[\n",
    "            '/Volumes/Polotics_capstone_drive/capstone/Data/2017-2018/Donations/2017-18_pt2',\n",
    "            '/Volumes/Polotics_capstone_drive/capstone/Data/2019-2020/Donations/indiv20/by_date'\n",
    "            ]\n"
   ]
  },
  {
   "cell_type": "code",
   "execution_count": 4,
   "metadata": {},
   "outputs": [],
   "source": [
    "# File path for the campaings expenditures. All files pulled from FEC.Gov\n",
    "\n",
    "File_path_exp_2005_2008=['/Volumes/Polotics_capstone_drive/capstone/Data/2005-2006/Exp',\n",
    "                         '/Volumes/Polotics_capstone_drive/capstone/Data/2007-2008/Exp']\n",
    "\n",
    "File_path_exp_2009_2012=['/Volumes/Polotics_capstone_drive/capstone/Data/2009-2010/Exp',\n",
    "                         '/Volumes/Polotics_capstone_drive/capstone/Data/2011-2012/Exp']\n",
    "\n",
    "File_path_exp_2013_2016=['/Volumes/Polotics_capstone_drive/capstone/Data/2013-2014/Exp',\n",
    "                         '/Volumes/Polotics_capstone_drive/capstone/Data/2015-2016/Exp']\n",
    "\n",
    "File_path_exp_2017_2020=['/Volumes/Polotics_capstone_drive/capstone/Data/2017-2018/Exp',\n",
    "                         '/Volumes/Polotics_capstone_drive/capstone/Data/2019-2020/Exp']"
   ]
  },
  {
   "cell_type": "code",
   "execution_count": 5,
   "metadata": {},
   "outputs": [],
   "source": [
    "# File path for the super pac contrubutions. All files pulled from FEC.Gov\n",
    "\n",
    "File_path_pac_2005_2008=['/Volumes/Polotics_capstone_drive/capstone/Data/2005-2006/PAC',\n",
    "                         '/Volumes/Polotics_capstone_drive/capstone/Data/2007-2008/PAC']\n",
    "\n",
    "File_path_pac_2009_2012=['/Volumes/Polotics_capstone_drive/capstone/Data/2009-2010/PAC',\n",
    "                         '/Volumes/Polotics_capstone_drive/capstone/Data/2011-2012/PAC']\n",
    "\n",
    "File_path_pac_2013_2016=['/Volumes/Polotics_capstone_drive/capstone/Data/2013-2014/PAC',\n",
    "                         '/Volumes/Polotics_capstone_drive/capstone/Data/2015-2016/PAC']\n",
    "\n",
    "File_path_pac_2017_2020=['/Volumes/Polotics_capstone_drive/capstone/Data/2017-2018/PAC',\n",
    "                         '/Volumes/Polotics_capstone_drive/capstone/Data/2019-2020/PAC']"
   ]
  },
  {
   "cell_type": "code",
   "execution_count": 6,
   "metadata": {
    "scrolled": false
   },
   "outputs": [],
   "source": [
    "# function for reading in the data useing glob package\n",
    "def gather_files(file_path):\n",
    "    full_lines = []\n",
    "    for path in file_path:\n",
    "        files = [f for f in glob.glob(path + \"**/*.txt\", recursive=True)]\n",
    "        for file in files:\n",
    "            print(f'I am working on {file}')\n",
    "            with open(file, encoding = 'utf8', errors = 'ignore') as f:\n",
    "                for line in f:\n",
    "                    line_list = [i.strip() for i in line.split('|')]\n",
    "                    full_lines.append(line_list)\n",
    "    print(\"Now converting to Data Frame\")\n",
    "    df = pd.DataFrame(full_lines)\n",
    "    print(\"All done your datafram is ready\")\n",
    "    return(df)"
   ]
  },
  {
   "cell_type": "code",
   "execution_count": 7,
   "metadata": {
    "scrolled": true
   },
   "outputs": [
    {
     "name": "stdout",
     "output_type": "stream",
     "text": [
      "I am working on /Volumes/Polotics_capstone_drive/capstone/Data/2017-2018/Donations/2017-18_pt2/itcont_2018_20180705_20180825.txt\n",
      "I am working on /Volumes/Polotics_capstone_drive/capstone/Data/2017-2018/Donations/2017-18_pt2/itcont_2018_20180826_20180928.txt\n",
      "I am working on /Volumes/Polotics_capstone_drive/capstone/Data/2017-2018/Donations/2017-18_pt2/itcont_2018_20180929_20181019.txt\n",
      "I am working on /Volumes/Polotics_capstone_drive/capstone/Data/2017-2018/Donations/2017-18_pt2/itcont_2018_20181020_20181106.txt\n",
      "I am working on /Volumes/Polotics_capstone_drive/capstone/Data/2017-2018/Donations/2017-18_pt2/itcont_2018_20181107_20181230.txt\n",
      "I am working on /Volumes/Polotics_capstone_drive/capstone/Data/2017-2018/Donations/2017-18_pt2/itcont_2018_20181231_52010302.txt\n",
      "I am working on /Volumes/Polotics_capstone_drive/capstone/Data/2019-2020/Donations/indiv20/by_date/itcont_2020_20010425_20190425.txt\n",
      "I am working on /Volumes/Polotics_capstone_drive/capstone/Data/2019-2020/Donations/indiv20/by_date/itcont_2020_20190426_20190628.txt\n",
      "I am working on /Volumes/Polotics_capstone_drive/capstone/Data/2019-2020/Donations/indiv20/by_date/itcont_2020_20190629_20190908.txt\n",
      "I am working on /Volumes/Polotics_capstone_drive/capstone/Data/2019-2020/Donations/indiv20/by_date/itcont_2020_20190909_20191031.txt\n",
      "Now converting to Data Frame\n",
      "All done your datafram is ready\n"
     ]
    }
   ],
   "source": [
    "# this function for reading in the file path of the data\n",
    "# use nameing convention df_startYear_endYear for data frames names\n",
    "file_path_2017_2020_pt2 = gather_files(file_path_2017_2020_pt2)\n"
   ]
  },
  {
   "cell_type": "markdown",
   "metadata": {},
   "source": [
    "## Part 1 of Data Cleaning : Managing size of data and data types\n",
    "<a id=\"pt1\"></a>\n",
    "---\n",
    "in the following functions we will reduce the number of columns and convert necessary values to integers or floats. This will further reduce the size of the files allowing us to work with them in a more realistic way "
   ]
  },
  {
   "cell_type": "code",
   "execution_count": 8,
   "metadata": {
    "scrolled": true
   },
   "outputs": [],
   "source": [
    "\n",
    "def Names_of_col_for_donations(df):\n",
    "    # names of columns given from the FEC\n",
    "    \n",
    "    df.rename(columns={0: 'CMTE_ID', 1:'AMNDT_IND', 2:'RPT_TP', 3:'TRANSACTION_PGI',\n",
    "                       4:'IMAGE_NUM', 5:'TRANSACTION_TP', 6:'ENTITY_TP', 7:'NAME',8:'CITY',\n",
    "                       9:'STATE', 10:'ZIP_CODE', 11:'EMPLOYER', 12:'OCCUPATION',\n",
    "                       13:'TRANSACTION_DT', 14:'TRANSACTION_AMT', 15:'OTHER_ID',\n",
    "                       16:'TRAN_ID', 17:'FILE_NUM', 18:'MEMO_CD', 19:'MEMO_TEXT',\n",
    "                       20:'SUB_ID'},\n",
    "                       inplace=True)\n",
    "    print('Column names changed')\n",
    "    # Droppign of un needed columns \n",
    "    df.drop(['IMAGE_NUM',\n",
    "             'TRANSACTION_PGI',\n",
    "             'MEMO_TEXT',\n",
    "             'TRANSACTION_TP',\n",
    "             'TRAN_ID',\n",
    "             'OTHER_ID',\n",
    "            'MEMO_TEXT',\n",
    "            'MEMO_CD'], axis = 1,inplace = True) \n",
    "    print(\"un needed columns were droped :) \")\n",
    "    \n",
    "    # converting to the correct data type\n",
    "    df['TRANSACTION_AMT'] = df['TRANSACTION_AMT'].astype(str).astype(int)\n",
    "    df['SUB_ID'] = df['SUB_ID'].astype(str).astype(int)\n",
    "    df['TRANSACTION_DT'] = df['TRANSACTION_DT'].astype(str)\n",
    "    print('Data types changed')\n",
    "    \n",
    "    # Date time operation and cleaning sets any missing values to be 0 then drops them\n",
    "    df['TRANSACTION_DT'].replace(to_replace =\"\", \n",
    "                             value ='0',inplace = True)\n",
    "    df = df[df.TRANSACTION_DT != '0']\n",
    "    df.fillna(0)\n",
    "    print('Dropped 0s')\n",
    "    \n",
    "    # sets the values to be a date time object \n",
    "    df['TRANSACTION_DT'] = pd.to_datetime(df['TRANSACTION_DT'], format='%m%d%Y',errors = 'coerce')\n",
    "    df.set_index('TRANSACTION_DT',inplace = True)\n",
    "    df = df.loc['CHANGE FOR THE CORRECT DATE RANGE']\n",
    "    print('Date time object')\n",
    "    \n",
    "    # sorts the vlaues to be in order \n",
    "    df.sort_index(inplace = True)\n",
    "    # forces any dates that were entered wron to be droped \n",
    "    print('data is organized ')\n",
    "    # drops unneeded columns  \n",
    "    return(df)\n"
   ]
  },
  {
   "cell_type": "code",
   "execution_count": 9,
   "metadata": {},
   "outputs": [],
   "source": [
    "def Names_of_col_for_expenses(df):\n",
    "\n",
    "    # names of columns given from the FEC\n",
    "    \n",
    "    df.rename(columns={0:'CMTE_ID', 1:'AMNDT_IND', 2:'RPT_YR', 3:'RPT_TP', 4:'IMAGE_NUM',\n",
    "                       5:'LINE_NUM', 6:'FORM_TP_CD', 7:'SCHED_TP_CD', 8:'NAME', 9:'CITY',\n",
    "                       10:'STATE', 11:'ZIP_CODE', 12:'TRANSACTION_DT',13:'TRANSACTION_AMT',\n",
    "                       14:'TRANSACTION_PGI', 15:'PURPOSE', 16:'CATEGORY', 17:'CATEGORY_DESC',\n",
    "                       18:'MEMO_CD', 19:'MEMO_TEXT', 20:'ENTITY_TP', 21:'SUB_ID',\n",
    "                       22:'FILE_NUM', 23:'TRAN_ID', 24:'BACK_REF_TRAN_ID'}, inplace=True)\n",
    "    print('Column names changed')\n",
    "    # drops unneeded columns \n",
    "    df.drop(['IMAGE_NUM',\n",
    "             'TRANSACTION_PGI',\n",
    "             'MEMO_TEXT',\n",
    "             'TRAN_ID',\n",
    "            'SCHED_TP_CD',\n",
    "            'LINE_NUM',\n",
    "            'MEMO_CD',\n",
    "            'MEMO_TEXT'\n",
    "            ], axis = 1,inplace = True) \n",
    "    print(\"un needed columns were droped :) \")\n",
    "\n",
    "    # makes the necisary values to be the correct data type\n",
    "    \n",
    "    df['TRANSACTION_AMT'].replace(to_replace =[\"\"], \n",
    "                             value ='0',inplace = True)\n",
    "    df = df[df.TRANSACTION_AMT != '0']\n",
    "    df['TRANSACTION_AMT'] = df['TRANSACTION_AMT'].astype(str).astype(float)\n",
    "    df['SUB_ID'] = df['SUB_ID'].astype(str).astype(int)\n",
    "    df['TRANSACTION_DT'] = df['TRANSACTION_DT'].astype(str)\n",
    "    df.fillna(0)\n",
    "    print('Data types changed')\n",
    "    \n",
    "    # Date time operation and cleaning sets any missing values to be 0 then drops them\n",
    "    \n",
    "    df['TRANSACTION_DT'].replace(to_replace =\"\", \n",
    "                             value ='0',inplace = True)\n",
    "    df = df[df.TRANSACTION_DT != '0']\n",
    "    print('Dropped 0s')\n",
    "    \n",
    "    # sets the values to be a date time object \n",
    "    \n",
    "    df['TRANSACTION_DT'] = pd.to_datetime(df['TRANSACTION_DT'], format='%m/%d/%Y',errors = 'coerce')\n",
    "    df.set_index('TRANSACTION_DT',inplace = True)\n",
    "    df = df.loc['CHANGE FOR THE CORRECT DATE RANGE']\n",
    "    print('Date time object')\n",
    "    \n",
    "    # sorts the vlaues to be in order \n",
    "    \n",
    "    df.sort_index(inplace = True)\n",
    "    \n",
    "    # forces any dates that were entered wron to be droped \n",
    "    \n",
    "    print('data is organized ')\n",
    "    \n",
    "    return(df)"
   ]
  },
  {
   "cell_type": "code",
   "execution_count": 10,
   "metadata": {},
   "outputs": [],
   "source": [
    "def Names_of_col_for_pac(df):\n",
    "    \n",
    "    # names of columns given from the FEC\n",
    "    \n",
    "    df.rename(columns={0: 'CMTE_ID',1:'AMNDT_IND',2:'RPT_TP',3:'TRANSACTION_PGI',4:'IMAGE_NUM',\n",
    "                        5:'TRANSACTION_TP',6:'ENTITY_TP',7:'NAME',8:'CITY',9:'STATE',\n",
    "                        10:'ZIP_CODE',11:'EMPLOYER',12:'OCCUPATION',13:'TRANSACTION_DT',\n",
    "                        14:'TRANSACTION_AMT',15:'OTHER_ID',16:'CAND_ID',17:'TRAN_ID',\n",
    "                        18:'FILE_NUM',19:'MEMO_CD',20:'MEMO_TEXT',\n",
    "                        21:'SUB_ID'}, inplace=True)\n",
    "    print('Column names changed')\n",
    "    df.drop(['OTHER_ID',\n",
    "             'TRANSACTION_PGI',\n",
    "             'TRAN_ID',\n",
    "            'SCHED_TP_CD',\n",
    "            'LINE_NUM',\n",
    "            'MEMO_CD',\n",
    "            'MEMO_TEXT',\n",
    "            ], axis = 1,inplace = True)\n",
    "    # makes the necisary values to be the correct data type\n",
    "    \n",
    "    df['TRANSACTION_AMT'].replace(to_replace =[\"\"], \n",
    "                             value ='0',inplace = True)\n",
    "    df = df[df.TRANSACTION_AMT != '0']\n",
    "    df['TRANSACTION_AMT'] = df['TRANSACTION_AMT'].astype(str).astype(float)\n",
    "    df['SUB_ID'] = df['SUB_ID'].astype(str).astype(int)\n",
    "    df['TRANSACTION_DT'] = df['TRANSACTION_DT'].astype(str)\n",
    "    print('Data types changed')\n",
    "    # Date time operation and cleaning sets any missing values to be 0 then drops them\n",
    "    df['TRANSACTION_DT'].replace(to_replace =\"\", \n",
    "                             value ='0',inplace = True)\n",
    "    df = df[df.TRANSACTION_DT != '0']\n",
    "    print('Dropped 0s')\n",
    "    df.fillna(0)\n",
    "    # sets the values to be a date time object \n",
    "    df['TRANSACTION_DT'] = pd.to_datetime(df['TRANSACTION_DT'], format='%m%d%Y',errors = 'coerce')\n",
    "    df.set_index('TRANSACTION_DT',inplace = True)\n",
    "    #THIS WILL NEED TO BE CHANGED FOR THE CORRECT TIME FRAME FOR EACH YEAR\n",
    "    \n",
    "    df = df.loc['CHANGE FOR THE CORRECT DATE RANGE']\n",
    "    print('Date time object')\n",
    "    # sorts the vlaues to be in order \n",
    "    df.sort_index(inplace = True)\n",
    "    # forces any dates that were entered wron to be droped \n",
    "    print('data is organized ')\n",
    "\n",
    "    return(df)\n"
   ]
  },
  {
   "cell_type": "code",
   "execution_count": 11,
   "metadata": {},
   "outputs": [
    {
     "name": "stdout",
     "output_type": "stream",
     "text": [
      "Column names changed\n",
      "un needed columns were droped :) \n",
      "Data types changed\n",
      "Dropped 0s\n",
      "Date time object\n",
      "data is organized \n"
     ]
    }
   ],
   "source": [
    "# Makes csv of donataions with the first steps of cleaning our data \n",
    "Names_of_col_for_donations(file_path_2017_2020_pt2).to_csv('../../Data/don/2017_2020_pt2.csv')"
   ]
  },
  {
   "cell_type": "code",
   "execution_count": null,
   "metadata": {},
   "outputs": [],
   "source": [
    "# Makes csv of Expenses with the first steps of cleaning our data \n",
    "Names_of_col_for_expenses().to_csv('file_Path_For_exp')"
   ]
  },
  {
   "cell_type": "code",
   "execution_count": null,
   "metadata": {},
   "outputs": [],
   "source": [
    "# Makes csv of PAC with the first steps of cleaning our data \n",
    "Names_of_col_for_pac(File_path_pac_2017_2020).to_csv('file_Path_For_Pac')"
   ]
  },
  {
   "cell_type": "markdown",
   "metadata": {},
   "source": [
    "## Part 2 of data cleaning: Specifying Specific Candidates\n",
    "<a id=\"pt2\"></a>\n",
    "\n",
    "---\n",
    "After running all of our data through the appropriate functions we can now work with our our clean data about 10 GB which is much more manageable. Our next step in cleaning the data is to isolate what campaigns we need to target. We can achieve this with some independent research and help from the FEC_MASTER_LIST which is a file the holds every campaign that has been register with the agencies. The FEC gives us every committee including Legislative, House and Senate campaigns however we only need to look at those that dealt with the primaries in the years 2008, 2012, 2016 and the current campaign 2020.\n",
    "\n"
   ]
  },
  {
   "cell_type": "markdown",
   "metadata": {},
   "source": [
    "We will decide if candidates are of statistical significance if they were on a national debate stage, or polled at %2 in a national poll. This will allow us to narrow down our candidate pool to include only seriously considered candidates. "
   ]
  },
  {
   "cell_type": "markdown",
   "metadata": {},
   "source": [
    "#### 2008 individual donations to candidates"
   ]
  },
  {
   "cell_type": "code",
   "execution_count": 70,
   "metadata": {},
   "outputs": [],
   "source": [
    "\n",
    "df_2005_2008_donations = pd.read_csv('../../Data/don/2005_2008.csv')"
   ]
  },
  {
   "cell_type": "code",
   "execution_count": 71,
   "metadata": {},
   "outputs": [],
   "source": [
    "# list of the Democratic candidates in the primary 2008\n",
    "Obama = df_2005_2008_donations.loc[df_2005_2008_donations['CMTE_ID'].isin(['C00431445'])]\n",
    "Clinton = df_2005_2008_donations.loc[df_2005_2008_donations['CMTE_ID'].isin(['C00431569'])]\n",
    "Edwards = df_2005_2008_donations.loc[df_2005_2008_donations['CMTE_ID'].isin(['C00431205'])]\n",
    "Richardson = df_2005_2008_donations.loc[df_2005_2008_donations['CMTE_ID'].isin(['C00431577'])]\n",
    "Biden = df_2005_2008_donations.loc[df_2005_2008_donations['CMTE_ID'].isin(['C00334037'])]\n",
    "Dodd = df_2005_2008_donations.loc[df_2005_2008_donations['CMTE_ID'].isin(['C00431379'])]\n",
    "Gravel = df_2005_2008_donations.loc[df_2005_2008_donations['CMTE_ID'].isin(['C00423202'])]\n",
    "Kucinich = df_2005_2008_donations.loc[df_2005_2008_donations['CMTE_ID'].isin(['C00430975'])]"
   ]
  },
  {
   "cell_type": "code",
   "execution_count": 72,
   "metadata": {},
   "outputs": [],
   "source": [
    "# list of the Republican candidates in the primary 2008\n",
    "McCain = df_2005_2008_donations.loc[df_2005_2008_donations['CMTE_ID'].isin(['C00430470'])]\n",
    "Huckabee = df_2005_2008_donations.loc[df_2005_2008_donations['CMTE_ID'].isin(['C00431809'])]\n",
    "Romney = df_2005_2008_donations.loc[df_2005_2008_donations['CMTE_ID'].isin(['C00431171'])]\n",
    "Paul = df_2005_2008_donations.loc[df_2005_2008_donations['CMTE_ID'].isin(['C00432914'])]\n",
    "Thompson = df_2005_2008_donations.loc[df_2005_2008_donations['CMTE_ID'].isin(['C00438507'])]\n",
    "Keyes = df_2005_2008_donations.loc[df_2005_2008_donations['CMTE_ID'].isin(['C00452532'])]\n",
    "Hunter = df_2005_2008_donations.loc[df_2005_2008_donations['CMTE_ID'].isin(['C00431411'])]\n",
    "Giuliani = df_2005_2008_donations.loc[df_2005_2008_donations['CMTE_ID'].isin(['C00430512'])]"
   ]
  },
  {
   "cell_type": "markdown",
   "metadata": {},
   "source": [
    "We will write all of these data frames to their own CSV to be used later in the EDA process "
   ]
  },
  {
   "cell_type": "code",
   "execution_count": 74,
   "metadata": {},
   "outputs": [],
   "source": [
    "# Republican and Democrat candidates for 2008\n",
    "Obama.to_csv('../../Data/don/2005_2008_ind_cand/Obama_2008.csv')\n",
    "Clinton.to_csv('../../Data/don/2005_2008_ind_cand/Clinton_2008.csv')\n",
    "Edwards.to_csv('../../Data/don/2005_2008_ind_cand/Edwards_2008.csv')\n",
    "Richardson.to_csv('../../Data/don/2005_2008_ind_cand/Richardson_2008.csv')\n",
    "Biden.to_csv('../../Data/don/2005_2008_ind_cand/Biden_2008.csv')\n",
    "Dodd.to_csv('../../Data/don/2005_2008_ind_cand/Dodd_2008.csv')\n",
    "Gravel.to_csv('../../Data/don/2005_2008_ind_cand/Gravel_2008.csv')\n",
    "Kucinich.to_csv('../../Data/don/2005_2008_ind_cand/Kucinich_2008.csv')\n",
    "McCain.to_csv('../../Data/don/2005_2008_ind_cand/McCain_2008.csv')\n",
    "Huckabee.to_csv('../../Data/don/2005_2008_ind_cand/Huckabee_2008.csv')\n",
    "Romney.to_csv('../../Data/don/2005_2008_ind_cand/Romney_2008.csv')\n",
    "Paul.to_csv('../../Data/don/2005_2008_ind_cand/Paul_2008.csv')\n",
    "Thompson.to_csv('../../Data/don/2005_2008_ind_cand/Thompson_2008.csv')\n",
    "Keyes.to_csv('../../Data/don/2005_2008_ind_cand/Keyes_2008.csv')\n",
    "Hunter.to_csv('../../Data/don/2005_2008_ind_cand/Hunter_2008.csv') \n",
    "Giuliani.to_csv('../../Data/don/2005_2008_ind_cand/Giuliani_2008.csv')"
   ]
  },
  {
   "cell_type": "markdown",
   "metadata": {},
   "source": [
    "#### 2012 individual donations to candidates"
   ]
  },
  {
   "cell_type": "code",
   "execution_count": 79,
   "metadata": {},
   "outputs": [],
   "source": [
    "\n",
    "df_2009_2012_donations = pd.read_csv('../../Data/don/2009_2012.csv')"
   ]
  },
  {
   "cell_type": "code",
   "execution_count": 80,
   "metadata": {},
   "outputs": [],
   "source": [
    "# Republican candidates for 2012\n",
    "Romney = df_2009_2012_donations.loc[df_2009_2012_donations['CMTE_ID'].isin(['C00431171'])]\n",
    "Santorum = df_2009_2012_donations.loc[df_2009_2012_donations['CMTE_ID'].isin(['C00496034'])] \n",
    "Paul = df_2009_2012_donations.loc[df_2009_2012_donations['CMTE_ID'].isin(['C00495820'])]\n",
    "Gingrich = df_2009_2012_donations.loc[df_2009_2012_donations['CMTE_ID'].isin(['C00496497'])] "
   ]
  },
  {
   "cell_type": "code",
   "execution_count": 81,
   "metadata": {},
   "outputs": [],
   "source": [
    "Romney.to_csv('../../Data/don/2009_2012_ind_cand/Romney_2012.csv')\n",
    "Santorum.to_csv('../../Data/don/2009_2012_ind_cand/Santorum_2012.csv')\n",
    "Paul.to_csv('../../Data/don/2009_2012_ind_cand/Paul_2012.csv') \n",
    "Gingrich.to_csv('../../Data/don/2009_2012_ind_cand/Gingrich_2012.csv')"
   ]
  },
  {
   "cell_type": "markdown",
   "metadata": {},
   "source": [
    "**There are no democrat candidates in 2012 because Obama won the white house in 2008 so the democrats were incumbents.**"
   ]
  },
  {
   "cell_type": "markdown",
   "metadata": {},
   "source": [
    "#### 2016 donations to individual candidates"
   ]
  },
  {
   "cell_type": "code",
   "execution_count": 82,
   "metadata": {},
   "outputs": [],
   "source": [
    "#part 1 of the donations 2013-2016\n",
    "df_2013_2016_donations = pd.read_csv('../../Data/don/2013_2016.csv')\n",
    "\n",
    "#part 2 of the donations 2013-2016 becasue pandas cant handle all of the rows\n",
    "df_2013_2016_donations_pt2 = pd.read_csv('../../Data/don/2013_2016_pt2.csv')"
   ]
  },
  {
   "cell_type": "code",
   "execution_count": 83,
   "metadata": {},
   "outputs": [],
   "source": [
    "# Republican candidates for 2016\n",
    "\n",
    "Trump = df_2013_2016_donations.loc[df_2013_2016_donations['CMTE_ID'].isin(['C00580100'])]\n",
    "Cruz = df_2013_2016_donations.loc[df_2013_2016_donations['CMTE_ID'].isin(['C00574624'])]\n",
    "Kasich = df_2013_2016_donations.loc[df_2013_2016_donations['CMTE_ID'].isin(['C00581876'])]\n",
    "Rubio = df_2013_2016_donations.loc[df_2013_2016_donations['CMTE_ID'].isin(['C00458844'])]\n",
    "Carson = df_2013_2016_donations.loc[df_2013_2016_donations['CMTE_ID'].isin(['C00573519'])]\n",
    "Bush = df_2013_2016_donations.loc[df_2013_2016_donations['CMTE_ID'].isin(['C00579458'])]\n",
    "Paul = df_2013_2016_donations.loc[df_2013_2016_donations['CMTE_ID'].isin(['C00575449'])]\n",
    "Christie = df_2013_2016_donations.loc[df_2013_2016_donations['CMTE_ID'].isin(['C00580399'])]\n",
    "Huckabee = df_2013_2016_donations.loc[df_2013_2016_donations['CMTE_ID'].isin(['C00577981'])]\n",
    "Fiorina = df_2013_2016_donations.loc[df_2013_2016_donations['CMTE_ID'].isin(['C00577312'])]\n",
    "Gilmore = df_2013_2016_donations.loc[df_2013_2016_donations['CMTE_ID'].isin(['C00582668'])]\n",
    "Santorum = df_2013_2016_donations.loc[df_2013_2016_donations['CMTE_ID'].isin(['C00578492'])]\n",
    "Perry = df_2013_2016_donations.loc[df_2013_2016_donations['CMTE_ID'].isin(['C00500587'])]\n",
    "Walker = df_2013_2016_donations.loc[df_2013_2016_donations['CMTE_ID'].isin(['C00580480'])]\n",
    "Jindal = df_2013_2016_donations.loc[df_2013_2016_donations['CMTE_ID'].isin(['C00580159'])]\n",
    "Graham = df_2013_2016_donations.loc[df_2013_2016_donations['CMTE_ID'].isin(['C00578757'])]\n",
    "Pataki = df_2013_2016_donations.loc[df_2013_2016_donations['CMTE_ID'].isin(['C00578245'])]"
   ]
  },
  {
   "cell_type": "code",
   "execution_count": 84,
   "metadata": {},
   "outputs": [],
   "source": [
    "# Democrat candidates for 2016\n",
    "Clinton_2016 = df_2013_2016_donations.loc[df_2013_2016_donations['CMTE_ID'].isin(['C00575795'])]\n",
    "Sanders_2016 = df_2013_2016_donations.loc[df_2013_2016_donations['CMTE_ID'].isin(['C00577130'])]\n",
    "OMalley = df_2013_2016_donations.loc[df_2013_2016_donations['CMTE_ID'].isin(['C00578658'])]"
   ]
  },
  {
   "cell_type": "code",
   "execution_count": 85,
   "metadata": {},
   "outputs": [],
   "source": [
    "#republican nomanies\n",
    "Trump.to_csv('../../Data/don/2013_2016_ind_cand/Trump_2016.csv')\n",
    "Cruz.to_csv('../../Data/don/2013_2016_ind_cand/Cruz_2016.csv')\n",
    "Kasich.to_csv('../../Data/don/2013_2016_ind_cand/Kasich_2016.csv') \n",
    "Rubio.to_csv('../../Data/don/2013_2016_ind_cand/Rubio_2016.csv')\n",
    "Carson.to_csv('../../Data/don/2013_2016_ind_cand/Carson_2016.csv')\n",
    "Bush.to_csv('../../Data/don/2013_2016_ind_cand/Bush_2016.csv')\n",
    "Paul.to_csv('../../Data/don/2013_2016_ind_cand/Paul_2016.csv') \n",
    "Christie.to_csv('../../Data/don/2013_2016_ind_cand/Christie_2016.csv')\n",
    "Huckabee.to_csv('../../Data/don/2013_2016_ind_cand/Huckabee_2016.csv')\n",
    "Fiorina.to_csv('../../Data/don/2013_2016_ind_cand/Fiorina_2016.csv')\n",
    "Gilmore.to_csv('../../Data/don/2013_2016_ind_cand/Gilmore_2016.csv') \n",
    "Santorum.to_csv('../../Data/don/2013_2016_ind_cand/Santorum_2016.csv')\n",
    "Perry.to_csv('../../Data/don/2013_2016_ind_cand/Perry_2016.csv')\n",
    "Walker.to_csv('../../Data/don/2013_2016_ind_cand/Walker_2016.csv')\n",
    "Jindal.to_csv('../../Data/don/2013_2016_ind_cand/Jindal_2016.csv') \n",
    "Graham.to_csv('../../Data/don/2013_2016_ind_cand/Grahm_2016.csv')\n",
    "Pataki.to_csv('../../Data/don/2013_2016_ind_cand/Pataki_2016.csv')\n",
    "# demacratic nomanies \n",
    "Clinton_2016.to_csv('../../Data/don/2013_2016_ind_cand/Clinton_2016.csv')\n",
    "Sanders_2016.to_csv('../../Data/don/2013_2016_ind_cand/Sanders_2016.csv') \n",
    "OMalley.to_csv('../../Data/don/2013_2016_ind_cand/Omalley_2016.csv')\n"
   ]
  },
  {
   "cell_type": "code",
   "execution_count": 86,
   "metadata": {},
   "outputs": [],
   "source": [
    "# Republican candidates for 2016_pt2\n",
    "Trump2 = df_2013_2016_donations_pt2.loc[df_2013_2016_donations_pt2['CMTE_ID'].isin(['C00580100'])]\n",
    "Cruz2 = df_2013_2016_donations_pt2.loc[df_2013_2016_donations_pt2['CMTE_ID'].isin(['C00574624'])]\n",
    "Kasich2 = df_2013_2016_donations_pt2.loc[df_2013_2016_donations_pt2['CMTE_ID'].isin(['C00581876'])]\n",
    "Rubio2 = df_2013_2016_donations_pt2.loc[df_2013_2016_donations_pt2['CMTE_ID'].isin(['C00458844'])]\n",
    "Carson2 = df_2013_2016_donations_pt2.loc[df_2013_2016_donations_pt2['CMTE_ID'].isin(['C00573519'])]\n",
    "Bush2 = df_2013_2016_donations_pt2.loc[df_2013_2016_donations_pt2['CMTE_ID'].isin(['C00579458'])]\n",
    "Paul2 = df_2013_2016_donations_pt2.loc[df_2013_2016_donations_pt2['CMTE_ID'].isin(['C00575449'])]\n",
    "Christie2 = df_2013_2016_donations_pt2.loc[df_2013_2016_donations_pt2['CMTE_ID'].isin(['C00580399'])]\n",
    "Huckabee2 = df_2013_2016_donations_pt2.loc[df_2013_2016_donations_pt2['CMTE_ID'].isin(['C00577981'])]\n",
    "Fiorina2 = df_2013_2016_donations_pt2.loc[df_2013_2016_donations_pt2['CMTE_ID'].isin(['C00577312'])]\n",
    "Gilmore2 = df_2013_2016_donations_pt2.loc[df_2013_2016_donations_pt2['CMTE_ID'].isin(['C00582668'])]\n",
    "Santorum2 = df_2013_2016_donations_pt2.loc[df_2013_2016_donations_pt2['CMTE_ID'].isin(['C00578492'])]\n",
    "Perry2 = df_2013_2016_donations_pt2.loc[df_2013_2016_donations_pt2['CMTE_ID'].isin(['C00500587'])]\n",
    "Walker2 = df_2013_2016_donations_pt2.loc[df_2013_2016_donations_pt2['CMTE_ID'].isin(['C00580480'])]\n",
    "Jindal2 = df_2013_2016_donations_pt2.loc[df_2013_2016_donations_pt2['CMTE_ID'].isin(['C00580159'])]\n",
    "Graham2 = df_2013_2016_donations_pt2.loc[df_2013_2016_donations_pt2['CMTE_ID'].isin(['C00578757'])]\n",
    "Pataki2 = df_2013_2016_donations_pt2.loc[df_2013_2016_donations_pt2['CMTE_ID'].isin(['C00578245'])]\n",
    "# Democratic candidates for 2016_pt2\n",
    "# Democrat candidates for 2016\n",
    "Clinton_20162 = df_2013_2016_donations_pt2.loc[df_2013_2016_donations_pt2['CMTE_ID'].isin(['C00575795'])]\n",
    "Sanders_20162 = df_2013_2016_donations_pt2.loc[df_2013_2016_donations_pt2['CMTE_ID'].isin(['C00577130'])]\n",
    "OMalley2 = df_2013_2016_donations_pt2.loc[df_2013_2016_donations_pt2['CMTE_ID'].isin(['C00578658'])]"
   ]
  },
  {
   "cell_type": "code",
   "execution_count": 87,
   "metadata": {},
   "outputs": [],
   "source": [
    "Trump2.to_csv('../../Data/don/2013_2016_ind_cand/Trump_2016_pt2.csv')\n",
    "Cruz2.to_csv('../../Data/don/2013_2016_ind_cand/Cruz_2016_pt2.csv')\n",
    "Kasich2.to_csv('../../Data/don/2013_2016_ind_cand/Kasich_2016_pt2.csv') \n",
    "Rubio2.to_csv('../../Data/don/2013_2016_ind_cand/Rubio_2016_pt2.csv')\n",
    "Carson2.to_csv('../../Data/don/2013_2016_ind_cand/Carson_2016_pt2.csv')\n",
    "Bush2.to_csv('../../Data/don/2013_2016_ind_cand/Bush_2016_pt2.csv')\n",
    "Paul2.to_csv('../../Data/don/2013_2016_ind_cand/Paul_2016_pt2.csv') \n",
    "Christie2.to_csv('../../Data/don/2013_2016_ind_cand/Christie_2016_pt2.csv')\n",
    "Huckabee2.to_csv('../../Data/don/2013_2016_ind_cand/Huckabee_2016_pt2.csv')\n",
    "Fiorina2.to_csv('../../Data/don/2013_2016_ind_cand/Fiorina_2016_pt2.csv')\n",
    "Gilmore2.to_csv('../../Data/don/2013_2016_ind_cand/Gilmore_2016_pt2.csv') \n",
    "Santorum2.to_csv('../../Data/don/2013_2016_ind_cand/Santorum_2016_pt2.csv')\n",
    "Perry2.to_csv('../../Data/don/2013_2016_ind_cand/Perry_2016_pt2.csv')\n",
    "Walker2.to_csv('../../Data/don/2013_2016_ind_cand/Walker_2016_pt2.csv')\n",
    "Jindal2.to_csv('../../Data/don/2013_2016_ind_cand/Jindal_2016_pt2.csv') \n",
    "Graham2.to_csv('../../Data/don/2013_2016_ind_cand/Grahm_2016_pt2.csv')\n",
    "Pataki2.to_csv('../../Data/don/2013_2016_ind_cand/Pataki_2016_pt2.csv')\n",
    "# demacratic nomanies \n",
    "Clinton_20162.to_csv('../../Data/don/2013_2016_ind_cand/Clinton_2016_pt2.csv')\n",
    "Sanders_20162.to_csv('../../Data/don/2013_2016_ind_cand/Sanders_2016_pt2.csv') \n",
    "OMalley2.to_csv('../../Data/don/2013_2016_ind_cand/Omalley_2016_pt2.csv')"
   ]
  },
  {
   "cell_type": "markdown",
   "metadata": {},
   "source": [
    "### Expenditures"
   ]
  },
  {
   "cell_type": "markdown",
   "metadata": {},
   "source": [
    "#### Expenditures for 2008 by candidate"
   ]
  },
  {
   "cell_type": "code",
   "execution_count": 88,
   "metadata": {},
   "outputs": [
    {
     "name": "stderr",
     "output_type": "stream",
     "text": [
      "/Library/Frameworks/Python.framework/Versions/3.6/lib/python3.6/site-packages/IPython/core/interactiveshell.py:3058: DtypeWarning: Columns (11) have mixed types. Specify dtype option on import or set low_memory=False.\n",
      "  interactivity=interactivity, compiler=compiler, result=result)\n"
     ]
    }
   ],
   "source": [
    "df_2008_exp = pd.read_csv('../../Data/exp/2005_2008_exp.csv') "
   ]
  },
  {
   "cell_type": "code",
   "execution_count": 89,
   "metadata": {},
   "outputs": [],
   "source": [
    "df_2008_exp.drop(columns=['AMNDT_IND','RPT_TP','LINE_NUM','FORM_TP_CD','NAME','CITY',\n",
    "                          'CATEGORY','CATEGORY_DESC','MEMO_CD','ENTITY_TP','25'],inplace = True)"
   ]
  },
  {
   "cell_type": "code",
   "execution_count": 90,
   "metadata": {},
   "outputs": [],
   "source": [
    "# list of the Democratic candidates in the primary 2008\n",
    "Obama = df_2008_exp.loc[df_2008_exp['CMTE_ID'].isin(['C00431445'])]\n",
    "Clinton = df_2008_exp.loc[df_2008_exp['CMTE_ID'].isin(['C00431569'])]\n",
    "Edwards = df_2008_exp.loc[df_2008_exp['CMTE_ID'].isin(['C00431205'])]\n",
    "Richardson = df_2008_exp.loc[df_2008_exp['CMTE_ID'].isin(['C00431577'])]\n",
    "Biden = df_2008_exp.loc[df_2008_exp['CMTE_ID'].isin(['C00334037'])]\n",
    "Dodd = df_2008_exp.loc[df_2008_exp['CMTE_ID'].isin(['C00431379'])]\n",
    "Gravel = df_2008_exp.loc[df_2008_exp['CMTE_ID'].isin(['C00423202'])]\n",
    "Kucinich = df_2008_exp.loc[df_2008_exp['CMTE_ID'].isin(['C00430975'])]\n",
    "# list of the Republican candidates in the primary 2008\n",
    "McCain = df_2008_exp.loc[df_2008_exp['CMTE_ID'].isin(['C00430470'])]\n",
    "Huckabee = df_2008_exp.loc[df_2008_exp['CMTE_ID'].isin(['C00431809'])]\n",
    "Romney = df_2008_exp.loc[df_2008_exp['CMTE_ID'].isin(['C00431171'])]\n",
    "Paul = df_2008_exp.loc[df_2008_exp['CMTE_ID'].isin(['C00432914'])]\n",
    "Thompson = df_2008_exp.loc[df_2008_exp['CMTE_ID'].isin(['C00438507'])]\n",
    "Keyes = df_2008_exp.loc[df_2008_exp['CMTE_ID'].isin(['C00452532'])]\n",
    "Hunter = df_2008_exp.loc[df_2008_exp['CMTE_ID'].isin(['C00431411'])]\n",
    "Giuliani = df_2008_exp.loc[df_2008_exp['CMTE_ID'].isin(['C00430512'])]"
   ]
  },
  {
   "cell_type": "code",
   "execution_count": 92,
   "metadata": {},
   "outputs": [],
   "source": [
    "Obama.to_csv('../../Data/exp/2008_ind_cand_exp/obama_exp.csv')\n",
    "Clinton.to_csv('../../Data/exp/2008_ind_cand_exp/Clinton_exp.csv')\n",
    "Edwards.to_csv('../../Data/exp/2008_ind_cand_exp/Edwards_exp.csv')\n",
    "Richardson.to_csv('../../Data/exp/2008_ind_cand_exp/Richardson_exp.csv')\n",
    "Biden.to_csv('../../Data/exp/2008_ind_cand_exp/Biden_exp.csv')\n",
    "Dodd.to_csv('../../Data/exp/2008_ind_cand_exp/Dodd_exp.csv')\n",
    "Gravel.to_csv('../../Data/exp/2008_ind_cand_exp/Gravel_exp.csv')\n",
    "Kucinich.to_csv('../../Data/exp/2008_ind_cand_exp/Kucinish_exp.csv')\n",
    "McCain.to_csv('../../Data/exp/2008_ind_cand_exp/MaCain_exp.csv')\n",
    "Huckabee.to_csv('../../Data/exp/2008_ind_cand_exp/Huckabee_exp.csv')\n",
    "Romney.to_csv('../../Data/exp/2008_ind_cand_exp/Romney_exp.csv')\n",
    "Paul.to_csv('../../Data/exp/2008_ind_cand_exp/Paul_exp.csv')\n",
    "Thompson.to_csv('../../Data/exp/2008_ind_cand_exp/Thompson_exp.csv')\n",
    "Keyes.to_csv('../../Data/exp/2008_ind_cand_exp/Keyes_exp.csv')\n",
    "Hunter.to_csv('../../Data/exp/2008_ind_cand_exp/Hunter_exp.csv')\n",
    "Giuliani.to_csv('../../Data/exp/2008_ind_cand_exp/Giuliani_exp.csv')"
   ]
  },
  {
   "cell_type": "markdown",
   "metadata": {},
   "source": [
    "#### Expenditures for 2012 by candidate"
   ]
  },
  {
   "cell_type": "code",
   "execution_count": 93,
   "metadata": {},
   "outputs": [
    {
     "name": "stderr",
     "output_type": "stream",
     "text": [
      "/Library/Frameworks/Python.framework/Versions/3.6/lib/python3.6/site-packages/IPython/core/interactiveshell.py:3058: DtypeWarning: Columns (11,14) have mixed types. Specify dtype option on import or set low_memory=False.\n",
      "  interactivity=interactivity, compiler=compiler, result=result)\n"
     ]
    }
   ],
   "source": [
    "df_2012_exp = pd.read_csv('../../Data/exp/2009_2012_exp.csv') "
   ]
  },
  {
   "cell_type": "code",
   "execution_count": 94,
   "metadata": {},
   "outputs": [],
   "source": [
    "df_2012_exp.drop(columns=['AMNDT_IND','RPT_TP','LINE_NUM','FORM_TP_CD','NAME','CITY',\n",
    "                          'CATEGORY','CATEGORY_DESC','MEMO_CD','ENTITY_TP','25'],inplace = True)"
   ]
  },
  {
   "cell_type": "code",
   "execution_count": 95,
   "metadata": {},
   "outputs": [],
   "source": [
    "Romney_exp = df_2012_exp.loc[df_2012_exp['CMTE_ID'].isin(['C00431171'])]\n",
    "Santorum_exp =df_2012_exp.loc[df_2012_exp['CMTE_ID'].isin(['C00496034'])] \n",
    "Paul_exp = df_2012_exp.loc[df_2012_exp['CMTE_ID'].isin(['C00495820'])]\n",
    "Gingrich_exp = df_2012_exp.loc[df_2012_exp['CMTE_ID'].isin(['C00496497'])] "
   ]
  },
  {
   "cell_type": "code",
   "execution_count": 96,
   "metadata": {},
   "outputs": [],
   "source": [
    "Romney_exp.to_csv('../../Data/exp/2012_ind_cand_exp/Romney_exp.csv')\n",
    "Santorum_exp.to_csv('../../Data/exp/2012_ind_cand_exp/Santorum_exp.csv')\n",
    "Paul_exp.to_csv('../../Data/exp/2012_ind_cand_exp/Paul_exp.csv')\n",
    "Gingrich_exp.to_csv('../../Data/exp/2012_ind_cand_exp/Gingrich_exp.csv')"
   ]
  },
  {
   "cell_type": "markdown",
   "metadata": {},
   "source": [
    "#### Expenditures for 2016 by candidate"
   ]
  },
  {
   "cell_type": "code",
   "execution_count": 97,
   "metadata": {},
   "outputs": [
    {
     "name": "stderr",
     "output_type": "stream",
     "text": [
      "/Library/Frameworks/Python.framework/Versions/3.6/lib/python3.6/site-packages/IPython/core/interactiveshell.py:3058: DtypeWarning: Columns (12) have mixed types. Specify dtype option on import or set low_memory=False.\n",
      "  interactivity=interactivity, compiler=compiler, result=result)\n"
     ]
    }
   ],
   "source": [
    "df_2016_exp = pd.read_csv('../../Data/exp/2013_2016_exp.csv') "
   ]
  },
  {
   "cell_type": "code",
   "execution_count": 98,
   "metadata": {},
   "outputs": [],
   "source": [
    "df_2016_exp.drop(columns=['AMNDT_IND','RPT_TP','FORM_TP_CD','NAME','CITY',\n",
    "                          'CATEGORY','CATEGORY_DESC','MEMO_CD','ENTITY_TP','25'],inplace = True)"
   ]
  },
  {
   "cell_type": "code",
   "execution_count": 146,
   "metadata": {},
   "outputs": [],
   "source": [
    "Trump_exp = df_2016_exp.loc[df_2016_exp['CMTE_ID'].isin(['C00580100'])]\n",
    "Cruz_exp = df_2016_exp.loc[df_2016_exp['CMTE_ID'].isin(['C00574624'])]\n",
    "Kasich_exp = df_2016_exp.loc[df_2016_exp['CMTE_ID'].isin(['C00581876'])]\n",
    "Rubio_exp = df_2016_exp.loc[df_2016_exp['CMTE_ID'].isin(['C00458844'])]\n",
    "Carson_exp = df_2016_exp.loc[df_2016_exp['CMTE_ID'].isin(['C00573519'])]\n",
    "Bush_exp = df_2016_exp.loc[df_2016_exp['CMTE_ID'].isin(['C00579458'])]\n",
    "Paul_exp = df_2016_exp.loc[df_2016_exp['CMTE_ID'].isin(['C00575449'])]\n",
    "Christie_exp = df_2016_exp.loc[df_2016_exp['CMTE_ID'].isin(['C00580399'])]\n",
    "Huckabee_exp = df_2016_exp.loc[df_2016_exp['CMTE_ID'].isin(['C00577981'])]\n",
    "Fiorina_exp = df_2016_exp.loc[df_2016_exp['CMTE_ID'].isin(['C00577312'])]\n",
    "Gilmore_exp = df_2016_exp.loc[df_2016_exp['CMTE_ID'].isin(['C00582668'])]\n",
    "Santorum_exp = df_2016_exp.loc[df_2016_exp['CMTE_ID'].isin(['C00578492'])]\n",
    "Perry_exp = df_2016_exp.loc[df_2016_exp['CMTE_ID'].isin(['C00500587'])]\n",
    "Walker_exp = df_2016_exp.loc[df_2016_exp['CMTE_ID'].isin(['C00580480'])]\n",
    "Jindal_exp = df_2016_exp.loc[df_2016_exp['CMTE_ID'].isin(['C00580159'])]\n",
    "Graham_exp = df_2016_exp.loc[df_2016_exp['CMTE_ID'].isin(['C00578757'])]\n",
    "Pataki_exp = df_2016_exp.loc[df_2016_exp['CMTE_ID'].isin(['C00578245'])]\n",
    "# Demoratic candidates for 2016_pt2\n",
    "# Democrat candidates for 2016\n",
    "Clinton_2016_exp = df_2016_exp.loc[df_2016_exp['CMTE_ID'].isin(['C00575795'])]\n",
    "Sanders_2016_exp = df_2016_exp.loc[df_2016_exp['CMTE_ID'].isin(['C00577130'])]\n",
    "OMalley_exp = df_2016_exp.loc[df_2016_exp['CMTE_ID'].isin(['C00578658'])]"
   ]
  },
  {
   "cell_type": "code",
   "execution_count": 100,
   "metadata": {},
   "outputs": [],
   "source": [
    "Trump_exp.to_csv('../../Data/exp/2016_ind_cand_exp/Trump_exp.csv')\n",
    "Cruz_exp.to_csv('../../Data/exp/2016_ind_cand_exp/Cruz_exp.csv')\n",
    "Kasich_exp.to_csv('../../Data/exp/2016_ind_cand_exp/Kasich_exp.csv')\n",
    "Rubio_exp.to_csv('../../Data/exp/2016_ind_cand_exp/Rubio_exp.csv')\n",
    "Carson_exp.to_csv('../../Data/exp/2016_ind_cand_exp/Carson_exp.csv')\n",
    "Bush_exp.to_csv('../../Data/exp/2016_ind_cand_exp/Bush_exp.csv')\n",
    "Paul_exp.to_csv('../../Data/exp/2016_ind_cand_exp/Paul_exp.csv')\n",
    "Christie_exp.to_csv('../../Data/exp/2016_ind_cand_exp/Christie_exp.csv')\n",
    "Huckabee_exp.to_csv('../../Data/exp/2016_ind_cand_exp/Huckabee_exp.csv')\n",
    "Fiorina_exp.to_csv('../../Data/exp/2016_ind_cand_exp/Fiorina_exp.csv')\n",
    "Gilmore_exp.to_csv('../../Data/exp/2016_ind_cand_exp/Gilmore_exp.csv')\n",
    "Santorum_exp.to_csv('../../Data/exp/2016_ind_cand_exp/Santorum_exp.csv')\n",
    "Perry_exp.to_csv('../../Data/exp/2016_ind_cand_exp/Perry_exp.csv')\n",
    "Walker_exp.to_csv('../../Data/exp/2016_ind_cand_exp/Walker_exp.csv')\n",
    "Jindal_exp.to_csv('../../Data/exp/2016_ind_cand_exp/Jindal_exp.csv')\n",
    "Graham_exp.to_csv('../../Data/exp/2016_ind_cand_exp/Graham_exp.csv')\n",
    "Pataki_exp.to_csv('../../Data/exp/2016_ind_cand_exp/Pataki_exp.csv')\n",
    "Clinton_2016_exp.to_csv('../../Data/exp/2016_ind_cand_exp/Clinton_exp.csv')\n",
    "Sanders_2016_exp.to_csv('../../Data/exp/2016_ind_cand_exp/Sanders_exp.csv')\n",
    "OMalley_exp.to_csv('../../Data/exp/2016_ind_cand_exp/OMalley_exp.csv')"
   ]
  },
  {
   "cell_type": "markdown",
   "metadata": {},
   "source": [
    "#### Expenditures for 2020 candidates"
   ]
  },
  {
   "cell_type": "code",
   "execution_count": null,
   "metadata": {},
   "outputs": [],
   "source": []
  },
  {
   "cell_type": "code",
   "execution_count": null,
   "metadata": {},
   "outputs": [],
   "source": []
  },
  {
   "cell_type": "code",
   "execution_count": null,
   "metadata": {},
   "outputs": [],
   "source": [
    "# all donation data for 2020 election cycle\n",
    "df_2017_2020_donations_pt1 = pd.read_csv('../../Data/don/2017_2020.csv')\n",
    "df_2017_2020_donations_pt2 = pd.read_csv('../../Data/don/2017_2020_pt2.csv')"
   ]
  },
  {
   "cell_type": "code",
   "execution_count": null,
   "metadata": {},
   "outputs": [],
   "source": [
    "# Democrat candidates for 2020\n"
   ]
  },
  {
   "cell_type": "markdown",
   "metadata": {},
   "source": [
    "### Condensing 2016 & 2020 data"
   ]
  },
  {
   "cell_type": "markdown",
   "metadata": {},
   "source": [
    "After looking at size of this data set I believe that we can further reduce the csv's into just 2016 and 2020 and not need a parts 1 and 2. To do this we will merge the data frames using `pd.concat` we can do this be cause we are expecting the same rows for each data frame. "
   ]
  },
  {
   "cell_type": "markdown",
   "metadata": {},
   "source": [
    "#### 2016 individual candidates condensed "
   ]
  },
  {
   "cell_type": "code",
   "execution_count": 101,
   "metadata": {},
   "outputs": [
    {
     "name": "stderr",
     "output_type": "stream",
     "text": [
      "/Library/Frameworks/Python.framework/Versions/3.6/lib/python3.6/site-packages/IPython/core/interactiveshell.py:3058: DtypeWarning: Columns (9) have mixed types. Specify dtype option on import or set low_memory=False.\n",
      "  interactivity=interactivity, compiler=compiler, result=result)\n"
     ]
    }
   ],
   "source": [
    "# read in just the csv for the candidates\n",
    "Trump_pt2= pd.read_csv('../../Data/don/2013_2016_ind_cand/Trump_2016_pt2.csv')\n",
    "Cruz_pt2= pd.read_csv('../../Data/don/2013_2016_ind_cand/Cruz_2016_pt2.csv')\n",
    "Kasich_pt2= pd.read_csv('../../Data/don/2013_2016_ind_cand/Kasich_2016_pt2.csv') \n",
    "Rubio_pt2= pd.read_csv('../../Data/don/2013_2016_ind_cand/Rubio_2016_pt2.csv')\n",
    "Carson_pt2= pd.read_csv('../../Data/don/2013_2016_ind_cand/Carson_2016_pt2.csv')\n",
    "Bush_pt2= pd.read_csv('../../Data/don/2013_2016_ind_cand/Bush_2016_pt2.csv')\n",
    "Paul_pt2= pd.read_csv('../../Data/don/2013_2016_ind_cand/Paul_2016_pt2.csv') \n",
    "Christie_pt2= pd.read_csv('../../Data/don/2013_2016_ind_cand/Christie_2016_pt2.csv')\n",
    "Huckabee_pt2= pd.read_csv('../../Data/don/2013_2016_ind_cand/Huckabee_2016_pt2.csv')\n",
    "Fiorina_pt2= pd.read_csv('../../Data/don/2013_2016_ind_cand/Fiorina_2016_pt2.csv')\n",
    "Gilmore_pt2= pd.read_csv('../../Data/don/2013_2016_ind_cand/Gilmore_2016_pt2.csv') \n",
    "Santorum_pt2= pd.read_csv('../../Data/don/2013_2016_ind_cand/Santorum_2016_pt2.csv')\n",
    "Perry_pt2= pd.read_csv('../../Data/don/2013_2016_ind_cand/Perry_2016_pt2.csv')\n",
    "Walker_pt2= pd.read_csv('../../Data/don/2013_2016_ind_cand/Walker_2016_pt2.csv')\n",
    "Jindal_pt2= pd.read_csv('../../Data/don/2013_2016_ind_cand/Jindal_2016_pt2.csv') \n",
    "Grahm_pt2= pd.read_csv('../../Data/don/2013_2016_ind_cand/Grahm_2016_pt2.csv')\n",
    "Pataki_pt2= pd.read_csv('../../Data/don/2013_2016_ind_cand/Pataki_2016_pt2.csv')\n",
    "# demacratic nomanies \n",
    "Clinton_pt2= pd.read_csv('../../Data/don/2013_2016_ind_cand/Clinton_2016_pt2.csv')\n",
    "Sanders_pt2= pd.read_csv('../../Data/don/2013_2016_ind_cand/Sanders_2016_pt2.csv') \n",
    "Omalley_pt2= pd.read_csv('../../Data/don/2013_2016_ind_cand/Omalley_2016_pt2.csv')"
   ]
  },
  {
   "cell_type": "code",
   "execution_count": 102,
   "metadata": {},
   "outputs": [],
   "source": [
    "# read in just the path for the candidates \n",
    "Trump_pt1= pd.read_csv('../../Data/don/2013_2016_ind_cand/Trump_2016.csv')\n",
    "Cruz_pt1= pd.read_csv('../../Data/don/2013_2016_ind_cand/Cruz_2016.csv')\n",
    "Kasich_pt1= pd.read_csv('../../Data/don/2013_2016_ind_cand/Kasich_2016.csv') \n",
    "Rubio_pt1= pd.read_csv('../../Data/don/2013_2016_ind_cand/Rubio_2016.csv')\n",
    "Carson_pt1= pd.read_csv('../../Data/don/2013_2016_ind_cand/Carson_2016.csv')\n",
    "Bush_pt1= pd.read_csv('../../Data/don/2013_2016_ind_cand/Bush_2016.csv')\n",
    "Paul_pt1= pd.read_csv('../../Data/don/2013_2016_ind_cand/Paul_2016.csv') \n",
    "Christie_pt1= pd.read_csv('../../Data/don/2013_2016_ind_cand/Christie_2016.csv')\n",
    "Huckabee_pt1= pd.read_csv('../../Data/don/2013_2016_ind_cand/Huckabee_2016.csv')\n",
    "Fiorina_pt1= pd.read_csv('../../Data/don/2013_2016_ind_cand/Fiorina_2016.csv')\n",
    "Gilmore_pt1= pd.read_csv('../../Data/don/2013_2016_ind_cand/Gilmore_2016.csv') \n",
    "Santorum_pt1= pd.read_csv('../../Data/don/2013_2016_ind_cand/Santorum_2016.csv')\n",
    "Perry_pt1= pd.read_csv('../../Data/don/2013_2016_ind_cand/Perry_2016.csv')\n",
    "Walker_pt1= pd.read_csv('../../Data/don/2013_2016_ind_cand/Walker_2016.csv')\n",
    "Jindal_pt1= pd.read_csv('../../Data/don/2013_2016_ind_cand/Jindal_2016.csv') \n",
    "Grahm_pt1= pd.read_csv('../../Data/don/2013_2016_ind_cand/Grahm_2016.csv')\n",
    "Pataki_pt1= pd.read_csv('../../Data/don/2013_2016_ind_cand/Pataki_2016.csv')\n",
    "# demacratic nomanies \n",
    "Clinton_pt1= pd.read_csv('../../Data/don/2013_2016_ind_cand/Clinton_2016.csv')\n",
    "Sanders_pt1= pd.read_csv('../../Data/don/2013_2016_ind_cand/Sanders_2016.csv') \n",
    "Omalley_pt1= pd.read_csv('../../Data/don/2013_2016_ind_cand/Omalley_2016.csv')"
   ]
  },
  {
   "cell_type": "code",
   "execution_count": 267,
   "metadata": {},
   "outputs": [],
   "source": [
    "# concat the two data frames together into one data frame \n",
    "Trump = pd.concat([Trump_pt1,Trump_pt2])\n",
    "Cruz = pd.concat([Cruz_pt1,Cruz_pt2])\n",
    "Kasich = pd.concat([Kasich_pt1,Kasich_pt2])\n",
    "Rubio = pd.concat([Rubio_pt1,Rubio_pt2])\n",
    "Carson = pd.concat([Carson_pt1,Carson_pt2])\n",
    "Bush = pd.concat([Bush_pt1,Bush_pt2])\n",
    "Paul = pd.concat([Paul_pt1,Paul_pt2])\n",
    "Christie = pd.concat([Christie_pt1,Christie_pt2])\n",
    "Huckabee = pd.concat([Huckabee_pt1,Huckabee_pt2])\n",
    "Fiorina = pd.concat([Fiorina_pt1,Fiorina_pt2])\n",
    "Gilmore = pd.concat([Gilmore_pt1,Gilmore_pt2])\n",
    "Santorum = pd.concat([Santorum_pt1,Santorum_pt2])\n",
    "Perry = pd.concat([Perry_pt1,Perry_pt2]) \n",
    "Walker = pd.concat([Walker_pt1,Walker_pt2]) \n",
    "Jindal = pd.concat([Jindal_pt1,Jindal_pt2]) \n",
    "Grahm = pd.concat([Grahm_pt1,Grahm_pt2])  \n",
    "Pataki = pd.concat([Pataki_pt1,Pataki_pt2])\n",
    "Clinton = pd.concat([Clinton_pt1,Clinton_pt2])\n",
    "Sanders = pd.concat([Sanders_pt1,Sanders_pt2])\n",
    "Omalley = pd.concat([Omalley_pt1,Omalley_pt2])"
   ]
  },
  {
   "cell_type": "code",
   "execution_count": null,
   "metadata": {},
   "outputs": [],
   "source": []
  },
  {
   "cell_type": "code",
   "execution_count": 268,
   "metadata": {},
   "outputs": [],
   "source": [
    "# put the 2016 candidates in a final csv \n",
    "Trump.to_csv('../../Data/don/2013_2016_ind_cand_final/Trump_2016_don_clean.csv')\n",
    "Cruz.to_csv('../../Data/don/2013_2016_ind_cand_final/Cruz_2016_don_clean.csv')\n",
    "Kasich.to_csv('../../Data/don/2013_2016_ind_cand_final/Kasich_2016_don_clean.csv')\n",
    "Rubio.to_csv('../../Data/don/2013_2016_ind_cand_final/Rubio_2016_don_clean.csv')\n",
    "Carson.to_csv('../../Data/don/2013_2016_ind_cand_final/Carson_2016_don_clean.csv')\n",
    "Bush.to_csv('../../Data/don/2013_2016_ind_cand_final/Bush_2016_don_clean.csv')\n",
    "Paul.to_csv('../../Data/don/2013_2016_ind_cand_final/Paul_2016_don_clean.csv')\n",
    "Christie.to_csv('../../Data/don/2013_2016_ind_cand_final/Christie_2016_don_clean.csv')\n",
    "Huckabee.to_csv('../../Data/don/2013_2016_ind_cand_final/Huckabee_2016_don_clean.csv')\n",
    "Fiorina.to_csv('../../Data/don/2013_2016_ind_cand_final/Fiorina_2016_don_clean.csv')\n",
    "Gilmore.to_csv('../../Data/don/2013_2016_ind_cand_final/Gilmore_2016_don_clean.csv')\n",
    "Santorum.to_csv('../../Data/don/2013_2016_ind_cand_final/Santorm_2016_don_clean.csv')\n",
    "Perry.to_csv('../../Data/don/2013_2016_ind_cand_final/Perry_2016_don_clean.csv')\n",
    "Walker.to_csv('../../Data/don/2013_2016_ind_cand_final/Walker_2016_don_clean.csv')\n",
    "Jindal.to_csv('../../Data/don/2013_2016_ind_cand_final/Jindal_2016_don_clean.csv')\n",
    "Grahm.to_csv('../../Data/don/2013_2016_ind_cand_final/Grahm_2016_don_clean.csv')\n",
    "Pataki.to_csv('../../Data/don/2013_2016_ind_cand_final/Pataki_2016_don_clean.csv')\n",
    "Clinton.to_csv('../../Data/don/2013_2016_ind_cand_final/Clinton_2016_don_clean.csv')\n",
    "Sanders.to_csv('../../Data/don/2013_2016_ind_cand_final/Sanders_2016_don_clean.csv')\n",
    "Omalley.to_csv('../../Data/don/2013_2016_ind_cand_final/Omalley_2016_don_clean.csv')"
   ]
  },
  {
   "cell_type": "code",
   "execution_count": null,
   "metadata": {},
   "outputs": [],
   "source": []
  },
  {
   "cell_type": "markdown",
   "metadata": {},
   "source": [
    "## Part 3 of data cleaning: Engineering Features"
   ]
  },
  {
   "cell_type": "code",
   "execution_count": 269,
   "metadata": {},
   "outputs": [],
   "source": [
    "df_2016_features_GOP = pd.DataFrame(columns = ['Candidate'])\n",
    "df_2016_features_DCCC = pd.DataFrame(columns = ['Candidate']) "
   ]
  },
  {
   "cell_type": "code",
   "execution_count": 270,
   "metadata": {},
   "outputs": [],
   "source": [
    "df_2016_features_GOP['Candidate'] = ['Trump', 'Cruz','Kasich','Rubio','Carson','Bush','Paul',\n",
    "                                     'Christie', 'Huckabee','Fiorina','Gilmore','Santorum',\n",
    "                                     'Perry','Walker', 'Jindal', 'Grahm','Pataki']\n",
    "\n",
    "df_2016_features_DCCC['Candidate'] = ['Clinton','Sanders','Omalley']   "
   ]
  },
  {
   "cell_type": "code",
   "execution_count": null,
   "metadata": {},
   "outputs": [],
   "source": []
  },
  {
   "cell_type": "code",
   "execution_count": 271,
   "metadata": {},
   "outputs": [],
   "source": [
    "# this function takes a data frame of the candidates names and adds a quarter by quarter column\n",
    "def eng_fet_2008(df1,df2):\n",
    "    for i in df1.index:\n",
    "        data_frame = df2[i]\n",
    "        data_frame.set_index('TRANSACTION_DT',inplace = True)\n",
    "        q1_06 = data_frame.loc['2006-01-01':'2006-03-31']\n",
    "        q2_06 = data_frame.loc['2006-04-01':'2006-06-30']\n",
    "        q3_06 = data_frame.loc['2006-07-01':'2006-09-30']\n",
    "        q4_06 = data_frame.loc['2006-10-01':'2006-12-31']\n",
    "        q1_07 = data_frame.loc['2007-01-01':'2007-03-31']\n",
    "        q2_07 = data_frame.loc['2007-04-01':'2007-06-30']\n",
    "        q3_07 = data_frame.loc['2007-07-01':'2007-09-30']\n",
    "        q4_07 = data_frame.loc['2007-10-01':'2007-12-31']\n",
    "        df1.loc[i,'06_Q1_Don'] = q1_06['TRANSACTION_AMT'].sum()\n",
    "        df1.loc[i,'06_Q2_Don'] = q2_06['TRANSACTION_AMT'].sum()\n",
    "        df1.loc[i,'06_Q3_Don'] = q3_06['TRANSACTION_AMT'].sum()\n",
    "        df1.loc[i,'06_Q4_Don'] = q4_06['TRANSACTION_AMT'].sum()\n",
    "        df1.loc[i,'07_Q1_Don'] = q1_07['TRANSACTION_AMT'].sum()\n",
    "        df1.loc[i,'07_Q2_Don'] = q2_07['TRANSACTION_AMT'].sum()\n",
    "        df1.loc[i,'07_Q3_Don'] = q3_07['TRANSACTION_AMT'].sum()\n",
    "        df1.loc[i,'07_Q4_Don'] = q4_07['TRANSACTION_AMT'].sum()\n",
    "\n",
    "        \n",
    "    return(df1)"
   ]
  },
  {
   "cell_type": "code",
   "execution_count": 272,
   "metadata": {},
   "outputs": [
    {
     "ename": "TypeError",
     "evalue": "eng_fet_2008() missing 2 required positional arguments: 'df1' and 'df2'",
     "output_type": "error",
     "traceback": [
      "\u001b[0;31m---------------------------------------------------------------------------\u001b[0m",
      "\u001b[0;31mTypeError\u001b[0m                                 Traceback (most recent call last)",
      "\u001b[0;32m<ipython-input-272-d1c9288ed165>\u001b[0m in \u001b[0;36m<module>\u001b[0;34m\u001b[0m\n\u001b[0;32m----> 1\u001b[0;31m \u001b[0meng_fet_2008\u001b[0m\u001b[0;34m(\u001b[0m\u001b[0;34m)\u001b[0m\u001b[0;34m\u001b[0m\u001b[0m\n\u001b[0m",
      "\u001b[0;31mTypeError\u001b[0m: eng_fet_2008() missing 2 required positional arguments: 'df1' and 'df2'"
     ]
    }
   ],
   "source": [
    "eng_fet_2008()"
   ]
  },
  {
   "cell_type": "code",
   "execution_count": 273,
   "metadata": {},
   "outputs": [],
   "source": [
    "def eng_fet_2012(df1,df2):\n",
    "    for i in df1.index:\n",
    "        print(df1)\n",
    "        data_frame = df2[i]\n",
    "        data_frame.set_index('TRANSACTION_DT',inplace = True)\n",
    "        q1 = data_frame.loc['2010-01-01':'2010-03-31']\n",
    "        q2 = data_frame.loc['2010-04-01':'2010-06-30']\n",
    "        q3 = data_frame.loc['2010-07-01':'2010-09-30']\n",
    "        q4 = data_frame.loc['2010-10-01':'2010-12-31']\n",
    "        q1_16 = data_frame.loc['2011-01-01':'2011-03-31']\n",
    "        q2_16 = data_frame.loc['2011-04-01':'2011-06-30']\n",
    "        q3_16 = data_frame.loc['2011-07-01':'2011-09-30']\n",
    "        q4_16 = data_frame.loc['2011-10-01':'2011-12-31']\n",
    "        df1.loc[i,'10_Q1_Don'] = q1_10['TRANSACTION_AMT'].sum()\n",
    "        df1.loc[i,'10_Q2_Don'] = q2_10['TRANSACTION_AMT'].sum()\n",
    "        df1.loc[i,'10_Q3_Don'] = q3_10['TRANSACTION_AMT'].sum()\n",
    "        df1.loc[i,'10_Q4_Don'] = q4_10['TRANSACTION_AMT'].sum()\n",
    "        df1.loc[i,'11_Q1_Don'] = q1_11['TRANSACTION_AMT'].sum()\n",
    "        df1.loc[i,'11_Q2_Don'] = q2_11['TRANSACTION_AMT'].sum()\n",
    "        df1.loc[i,'11_Q3_Don'] = q3_11['TRANSACTION_AMT'].sum()\n",
    "        df1.loc[i,'11_Q4_Don'] = q4_11['TRANSACTION_AMT'].sum()\n",
    "        \n",
    "    return(df1)"
   ]
  },
  {
   "cell_type": "code",
   "execution_count": 274,
   "metadata": {},
   "outputs": [
    {
     "ename": "SyntaxError",
     "evalue": "invalid syntax (<ipython-input-274-efb7f632c8cb>, line 1)",
     "output_type": "error",
     "traceback": [
      "\u001b[0;36m  File \u001b[0;32m\"<ipython-input-274-efb7f632c8cb>\"\u001b[0;36m, line \u001b[0;32m1\u001b[0m\n\u001b[0;31m    def eng_fet_2012()\u001b[0m\n\u001b[0m                      ^\u001b[0m\n\u001b[0;31mSyntaxError\u001b[0m\u001b[0;31m:\u001b[0m invalid syntax\n"
     ]
    }
   ],
   "source": [
    "def eng_fet_2012()"
   ]
  },
  {
   "cell_type": "code",
   "execution_count": 275,
   "metadata": {},
   "outputs": [
    {
     "data": {
      "text/plain": [
       "Index(['Unnamed: 0', 'TRANSACTION_DT', 'CMTE_ID', 'AMNDT_IND', 'RPT_TP',\n",
       "       'ENTITY_TP', 'NAME', 'CITY', 'STATE', 'ZIP_CODE', 'EMPLOYER',\n",
       "       'OCCUPATION', 'TRANSACTION_AMT', 'FILE_NUM', 'SUB_ID'],\n",
       "      dtype='object')"
      ]
     },
     "execution_count": 275,
     "metadata": {},
     "output_type": "execute_result"
    }
   ],
   "source": [
    "Trump.columns"
   ]
  },
  {
   "cell_type": "code",
   "execution_count": 276,
   "metadata": {},
   "outputs": [],
   "source": [
    "def eng_fet_2016(df1,df2):\n",
    "    for i in df1.index:\n",
    "        data_frame = df2[i]\n",
    "        data_frame.set_index('TRANSACTION_DT',inplace = True)\n",
    "        data_frame.drop(['Unnamed: 0'], axis = 1,inplace = True) \n",
    "        q1 = data_frame.loc['2015-01-01':'2015-03-31']\n",
    "        q2 = data_frame.loc['2015-04-01':'2015-06-30']\n",
    "        q3 = data_frame.loc['2015-07-01':'2015-09-30']\n",
    "        q4 = data_frame.loc['2015-10-01':'2015-12-31']\n",
    "        q1_16 = data_frame.loc['2016-01-01':'2016-03-31']\n",
    "        q2_16 = data_frame.loc['2016-04-01':'2016-06-30']\n",
    "        q3_16 = data_frame.loc['2016-07-01':'2016-09-30']\n",
    "        df1.loc[i,'15_Q1_Don'] = q1['TRANSACTION_AMT'].sum()\n",
    "        df1.loc[i,'15_Q2_Don'] = q2['TRANSACTION_AMT'].sum()\n",
    "        df1.loc[i,'15_Q3_Don'] = q3['TRANSACTION_AMT'].sum()\n",
    "        df1.loc[i,'15_Q4_Don'] = q4['TRANSACTION_AMT'].sum()\n",
    "        df1.loc[i,'16_Q1_Don'] = q1_16['TRANSACTION_AMT'].sum()\n",
    "        df1.loc[i,'16_Q2_Don'] = q2_16['TRANSACTION_AMT'].sum()\n",
    "        df1.loc[i,'16_Q3_Don'] = q3_16['TRANSACTION_AMT'].sum()\n",
    "    \n",
    "    return(df1)"
   ]
  },
  {
   "cell_type": "code",
   "execution_count": 277,
   "metadata": {},
   "outputs": [],
   "source": [
    "df_2016_GOP = eng_fet_2016(df_2016_features_GOP,[Trump, Cruz, Kasich, Rubio , Carson, Bush,\n",
    "                              Paul, Christie, Huckabee, Fiorina, Gilmore,\n",
    "                              Santorum, Perry, Walker, Jindal ,Grahm, Pataki])\n",
    "df_2016_DCCC = eng_fet_2016(df_2016_features_DCCC,[Clinton,Sanders,Omalley])"
   ]
  },
  {
   "cell_type": "code",
   "execution_count": 278,
   "metadata": {},
   "outputs": [],
   "source": [
    "df_2016_GOP['Dropped_out'] = 1\n",
    "df_2016_DCCC['Dropped_out'] = 1"
   ]
  },
  {
   "cell_type": "code",
   "execution_count": 279,
   "metadata": {},
   "outputs": [],
   "source": [
    "df_2016_GOP.loc[0,'Dropped_out']=0\n",
    "df_2016_DCCC.loc[0,'Dropped_out']=0"
   ]
  },
  {
   "cell_type": "code",
   "execution_count": 280,
   "metadata": {},
   "outputs": [],
   "source": [
    "df_2016_GOP['Days_in_race'] = 0\n",
    "df_2016_DCCC['Days_in_race'] = 0"
   ]
  },
  {
   "cell_type": "code",
   "execution_count": 281,
   "metadata": {},
   "outputs": [
    {
     "data": {
      "text/html": [
       "<div>\n",
       "<style scoped>\n",
       "    .dataframe tbody tr th:only-of-type {\n",
       "        vertical-align: middle;\n",
       "    }\n",
       "\n",
       "    .dataframe tbody tr th {\n",
       "        vertical-align: top;\n",
       "    }\n",
       "\n",
       "    .dataframe thead th {\n",
       "        text-align: right;\n",
       "    }\n",
       "</style>\n",
       "<table border=\"1\" class=\"dataframe\">\n",
       "  <thead>\n",
       "    <tr style=\"text-align: right;\">\n",
       "      <th></th>\n",
       "      <th>Candidate</th>\n",
       "      <th>15_Q1_Don</th>\n",
       "      <th>15_Q2_Don</th>\n",
       "      <th>15_Q3_Don</th>\n",
       "      <th>15_Q4_Don</th>\n",
       "      <th>16_Q1_Don</th>\n",
       "      <th>16_Q2_Don</th>\n",
       "      <th>16_Q3_Don</th>\n",
       "      <th>Dropped_out</th>\n",
       "      <th>Days_in_race</th>\n",
       "    </tr>\n",
       "  </thead>\n",
       "  <tbody>\n",
       "    <tr>\n",
       "      <td>0</td>\n",
       "      <td>Clinton</td>\n",
       "      <td>0.0</td>\n",
       "      <td>39582399.0</td>\n",
       "      <td>22855628.0</td>\n",
       "      <td>25224918.0</td>\n",
       "      <td>35105023.0</td>\n",
       "      <td>48325921.0</td>\n",
       "      <td>68425018.0</td>\n",
       "      <td>0</td>\n",
       "      <td>0</td>\n",
       "    </tr>\n",
       "    <tr>\n",
       "      <td>1</td>\n",
       "      <td>Sanders</td>\n",
       "      <td>0.0</td>\n",
       "      <td>3398762.0</td>\n",
       "      <td>6175733.0</td>\n",
       "      <td>9922254.0</td>\n",
       "      <td>31937906.0</td>\n",
       "      <td>31480631.0</td>\n",
       "      <td>1468646.0</td>\n",
       "      <td>1</td>\n",
       "      <td>0</td>\n",
       "    </tr>\n",
       "    <tr>\n",
       "      <td>2</td>\n",
       "      <td>Omalley</td>\n",
       "      <td>0.0</td>\n",
       "      <td>1908119.0</td>\n",
       "      <td>1068976.0</td>\n",
       "      <td>747498.0</td>\n",
       "      <td>265545.0</td>\n",
       "      <td>48725.0</td>\n",
       "      <td>280.0</td>\n",
       "      <td>1</td>\n",
       "      <td>0</td>\n",
       "    </tr>\n",
       "  </tbody>\n",
       "</table>\n",
       "</div>"
      ],
      "text/plain": [
       "  Candidate  15_Q1_Don   15_Q2_Don   15_Q3_Don   15_Q4_Don   16_Q1_Don  \\\n",
       "0   Clinton        0.0  39582399.0  22855628.0  25224918.0  35105023.0   \n",
       "1   Sanders        0.0   3398762.0   6175733.0   9922254.0  31937906.0   \n",
       "2   Omalley        0.0   1908119.0   1068976.0    747498.0    265545.0   \n",
       "\n",
       "    16_Q2_Don   16_Q3_Don  Dropped_out  Days_in_race  \n",
       "0  48325921.0  68425018.0            0             0  \n",
       "1  31480631.0   1468646.0            1             0  \n",
       "2     48725.0       280.0            1             0  "
      ]
     },
     "execution_count": 281,
     "metadata": {},
     "output_type": "execute_result"
    }
   ],
   "source": [
    "df_2016_DCCC"
   ]
  },
  {
   "cell_type": "markdown",
   "metadata": {},
   "source": [
    "The days in the race for each candidate was taken from a 538 article https://fivethirtyeight.com/features/how-the-republican-field-dwindled-from-17-to-donald-trump/"
   ]
  },
  {
   "cell_type": "code",
   "execution_count": 282,
   "metadata": {},
   "outputs": [],
   "source": [
    "days_in_race_GOP = [323,407,288,337,306,250,302,225,272,282,198,252,99,70,146,203,215]\n",
    "\n",
    "for i in df_2016_GOP.index:\n",
    "    df_2016_GOP.loc[i,'Days_in_race'] = days_in_race_GOP[i]\n",
    "    \n"
   ]
  },
  {
   "cell_type": "code",
   "execution_count": 283,
   "metadata": {},
   "outputs": [
    {
     "data": {
      "text/html": [
       "<div>\n",
       "<style scoped>\n",
       "    .dataframe tbody tr th:only-of-type {\n",
       "        vertical-align: middle;\n",
       "    }\n",
       "\n",
       "    .dataframe tbody tr th {\n",
       "        vertical-align: top;\n",
       "    }\n",
       "\n",
       "    .dataframe thead th {\n",
       "        text-align: right;\n",
       "    }\n",
       "</style>\n",
       "<table border=\"1\" class=\"dataframe\">\n",
       "  <thead>\n",
       "    <tr style=\"text-align: right;\">\n",
       "      <th></th>\n",
       "      <th>Candidate</th>\n",
       "      <th>15_Q1_Don</th>\n",
       "      <th>15_Q2_Don</th>\n",
       "      <th>15_Q3_Don</th>\n",
       "      <th>15_Q4_Don</th>\n",
       "      <th>16_Q1_Don</th>\n",
       "      <th>16_Q2_Don</th>\n",
       "      <th>16_Q3_Don</th>\n",
       "      <th>Dropped_out</th>\n",
       "      <th>Days_in_race</th>\n",
       "    </tr>\n",
       "  </thead>\n",
       "  <tbody>\n",
       "    <tr>\n",
       "      <td>0</td>\n",
       "      <td>Trump</td>\n",
       "      <td>0.0</td>\n",
       "      <td>57124.0</td>\n",
       "      <td>1223573.0</td>\n",
       "      <td>660039.0</td>\n",
       "      <td>1478083.0</td>\n",
       "      <td>11537010.0</td>\n",
       "      <td>27466128.0</td>\n",
       "      <td>0</td>\n",
       "      <td>323</td>\n",
       "    </tr>\n",
       "    <tr>\n",
       "      <td>1</td>\n",
       "      <td>Cruz</td>\n",
       "      <td>3431799.0</td>\n",
       "      <td>6080030.0</td>\n",
       "      <td>7990521.0</td>\n",
       "      <td>12952462.0</td>\n",
       "      <td>14110728.0</td>\n",
       "      <td>9703827.0</td>\n",
       "      <td>-255264.0</td>\n",
       "      <td>1</td>\n",
       "      <td>407</td>\n",
       "    </tr>\n",
       "    <tr>\n",
       "      <td>2</td>\n",
       "      <td>Kasich</td>\n",
       "      <td>0.0</td>\n",
       "      <td>0.0</td>\n",
       "      <td>3757566.0</td>\n",
       "      <td>2775546.0</td>\n",
       "      <td>5957062.0</td>\n",
       "      <td>2624341.0</td>\n",
       "      <td>100.0</td>\n",
       "      <td>1</td>\n",
       "      <td>288</td>\n",
       "    </tr>\n",
       "    <tr>\n",
       "      <td>3</td>\n",
       "      <td>Rubio</td>\n",
       "      <td>214858.0</td>\n",
       "      <td>7448052.0</td>\n",
       "      <td>4917827.0</td>\n",
       "      <td>12141420.0</td>\n",
       "      <td>11723199.0</td>\n",
       "      <td>3515029.0</td>\n",
       "      <td>8694.0</td>\n",
       "      <td>1</td>\n",
       "      <td>337</td>\n",
       "    </tr>\n",
       "    <tr>\n",
       "      <td>4</td>\n",
       "      <td>Carson</td>\n",
       "      <td>697442.0</td>\n",
       "      <td>2838752.0</td>\n",
       "      <td>8798758.0</td>\n",
       "      <td>10463558.0</td>\n",
       "      <td>4057417.0</td>\n",
       "      <td>860841.0</td>\n",
       "      <td>-50.0</td>\n",
       "      <td>1</td>\n",
       "      <td>306</td>\n",
       "    </tr>\n",
       "    <tr>\n",
       "      <td>5</td>\n",
       "      <td>Bush</td>\n",
       "      <td>0.0</td>\n",
       "      <td>11234521.0</td>\n",
       "      <td>12588882.0</td>\n",
       "      <td>6509098.0</td>\n",
       "      <td>2623122.0</td>\n",
       "      <td>10207.0</td>\n",
       "      <td>-532.0</td>\n",
       "      <td>1</td>\n",
       "      <td>250</td>\n",
       "    </tr>\n",
       "    <tr>\n",
       "      <td>6</td>\n",
       "      <td>Paul</td>\n",
       "      <td>0.0</td>\n",
       "      <td>2196356.0</td>\n",
       "      <td>1210869.0</td>\n",
       "      <td>1061789.0</td>\n",
       "      <td>392269.0</td>\n",
       "      <td>32147.0</td>\n",
       "      <td>5400.0</td>\n",
       "      <td>1</td>\n",
       "      <td>302</td>\n",
       "    </tr>\n",
       "    <tr>\n",
       "      <td>7</td>\n",
       "      <td>Christie</td>\n",
       "      <td>0.0</td>\n",
       "      <td>0.0</td>\n",
       "      <td>3982137.0</td>\n",
       "      <td>2755589.0</td>\n",
       "      <td>1208098.0</td>\n",
       "      <td>94949.0</td>\n",
       "      <td>500.0</td>\n",
       "      <td>1</td>\n",
       "      <td>225</td>\n",
       "    </tr>\n",
       "    <tr>\n",
       "      <td>8</td>\n",
       "      <td>Huckabee</td>\n",
       "      <td>0.0</td>\n",
       "      <td>1397773.0</td>\n",
       "      <td>498327.0</td>\n",
       "      <td>373261.0</td>\n",
       "      <td>112020.0</td>\n",
       "      <td>19215.0</td>\n",
       "      <td>9000.0</td>\n",
       "      <td>1</td>\n",
       "      <td>272</td>\n",
       "    </tr>\n",
       "    <tr>\n",
       "      <td>9</td>\n",
       "      <td>Fiorina</td>\n",
       "      <td>0.0</td>\n",
       "      <td>974827.0</td>\n",
       "      <td>3611776.0</td>\n",
       "      <td>1646121.0</td>\n",
       "      <td>349002.0</td>\n",
       "      <td>0.0</td>\n",
       "      <td>0.0</td>\n",
       "      <td>1</td>\n",
       "      <td>282</td>\n",
       "    </tr>\n",
       "    <tr>\n",
       "      <td>10</td>\n",
       "      <td>Gilmore</td>\n",
       "      <td>0.0</td>\n",
       "      <td>0.0</td>\n",
       "      <td>57550.0</td>\n",
       "      <td>26959.0</td>\n",
       "      <td>13050.0</td>\n",
       "      <td>1850.0</td>\n",
       "      <td>4150.0</td>\n",
       "      <td>1</td>\n",
       "      <td>198</td>\n",
       "    </tr>\n",
       "    <tr>\n",
       "      <td>11</td>\n",
       "      <td>Santorum</td>\n",
       "      <td>0.0</td>\n",
       "      <td>468122.0</td>\n",
       "      <td>311319.0</td>\n",
       "      <td>167194.0</td>\n",
       "      <td>111059.0</td>\n",
       "      <td>12292.0</td>\n",
       "      <td>8575.0</td>\n",
       "      <td>1</td>\n",
       "      <td>252</td>\n",
       "    </tr>\n",
       "    <tr>\n",
       "      <td>12</td>\n",
       "      <td>Perry</td>\n",
       "      <td>0.0</td>\n",
       "      <td>997370.0</td>\n",
       "      <td>259996.0</td>\n",
       "      <td>0.0</td>\n",
       "      <td>0.0</td>\n",
       "      <td>0.0</td>\n",
       "      <td>0.0</td>\n",
       "      <td>1</td>\n",
       "      <td>99</td>\n",
       "    </tr>\n",
       "    <tr>\n",
       "      <td>13</td>\n",
       "      <td>Walker</td>\n",
       "      <td>0.0</td>\n",
       "      <td>511990.0</td>\n",
       "      <td>3589681.0</td>\n",
       "      <td>707896.0</td>\n",
       "      <td>215364.0</td>\n",
       "      <td>101915.0</td>\n",
       "      <td>89047.0</td>\n",
       "      <td>1</td>\n",
       "      <td>70</td>\n",
       "    </tr>\n",
       "    <tr>\n",
       "      <td>14</td>\n",
       "      <td>Jindal</td>\n",
       "      <td>0.0</td>\n",
       "      <td>514316.0</td>\n",
       "      <td>499601.0</td>\n",
       "      <td>272274.0</td>\n",
       "      <td>0.0</td>\n",
       "      <td>0.0</td>\n",
       "      <td>0.0</td>\n",
       "      <td>1</td>\n",
       "      <td>146</td>\n",
       "    </tr>\n",
       "    <tr>\n",
       "      <td>15</td>\n",
       "      <td>Grahm</td>\n",
       "      <td>871265.0</td>\n",
       "      <td>1358002.0</td>\n",
       "      <td>966207.0</td>\n",
       "      <td>557624.0</td>\n",
       "      <td>327641.0</td>\n",
       "      <td>112250.0</td>\n",
       "      <td>45700.0</td>\n",
       "      <td>1</td>\n",
       "      <td>203</td>\n",
       "    </tr>\n",
       "    <tr>\n",
       "      <td>16</td>\n",
       "      <td>Pataki</td>\n",
       "      <td>0.0</td>\n",
       "      <td>239836.0</td>\n",
       "      <td>149629.0</td>\n",
       "      <td>85825.0</td>\n",
       "      <td>31598.0</td>\n",
       "      <td>0.0</td>\n",
       "      <td>0.0</td>\n",
       "      <td>1</td>\n",
       "      <td>215</td>\n",
       "    </tr>\n",
       "  </tbody>\n",
       "</table>\n",
       "</div>"
      ],
      "text/plain": [
       "   Candidate  15_Q1_Don   15_Q2_Don   15_Q3_Don   15_Q4_Don   16_Q1_Don  \\\n",
       "0      Trump        0.0     57124.0   1223573.0    660039.0   1478083.0   \n",
       "1       Cruz  3431799.0   6080030.0   7990521.0  12952462.0  14110728.0   \n",
       "2     Kasich        0.0         0.0   3757566.0   2775546.0   5957062.0   \n",
       "3      Rubio   214858.0   7448052.0   4917827.0  12141420.0  11723199.0   \n",
       "4     Carson   697442.0   2838752.0   8798758.0  10463558.0   4057417.0   \n",
       "5       Bush        0.0  11234521.0  12588882.0   6509098.0   2623122.0   \n",
       "6       Paul        0.0   2196356.0   1210869.0   1061789.0    392269.0   \n",
       "7   Christie        0.0         0.0   3982137.0   2755589.0   1208098.0   \n",
       "8   Huckabee        0.0   1397773.0    498327.0    373261.0    112020.0   \n",
       "9    Fiorina        0.0    974827.0   3611776.0   1646121.0    349002.0   \n",
       "10   Gilmore        0.0         0.0     57550.0     26959.0     13050.0   \n",
       "11  Santorum        0.0    468122.0    311319.0    167194.0    111059.0   \n",
       "12     Perry        0.0    997370.0    259996.0         0.0         0.0   \n",
       "13    Walker        0.0    511990.0   3589681.0    707896.0    215364.0   \n",
       "14    Jindal        0.0    514316.0    499601.0    272274.0         0.0   \n",
       "15     Grahm   871265.0   1358002.0    966207.0    557624.0    327641.0   \n",
       "16    Pataki        0.0    239836.0    149629.0     85825.0     31598.0   \n",
       "\n",
       "     16_Q2_Don   16_Q3_Don  Dropped_out  Days_in_race  \n",
       "0   11537010.0  27466128.0            0           323  \n",
       "1    9703827.0   -255264.0            1           407  \n",
       "2    2624341.0       100.0            1           288  \n",
       "3    3515029.0      8694.0            1           337  \n",
       "4     860841.0       -50.0            1           306  \n",
       "5      10207.0      -532.0            1           250  \n",
       "6      32147.0      5400.0            1           302  \n",
       "7      94949.0       500.0            1           225  \n",
       "8      19215.0      9000.0            1           272  \n",
       "9          0.0         0.0            1           282  \n",
       "10      1850.0      4150.0            1           198  \n",
       "11     12292.0      8575.0            1           252  \n",
       "12         0.0         0.0            1            99  \n",
       "13    101915.0     89047.0            1            70  \n",
       "14         0.0         0.0            1           146  \n",
       "15    112250.0     45700.0            1           203  \n",
       "16         0.0         0.0            1           215  "
      ]
     },
     "execution_count": 283,
     "metadata": {},
     "output_type": "execute_result"
    }
   ],
   "source": [
    "df_2016_GOP"
   ]
  },
  {
   "cell_type": "code",
   "execution_count": 284,
   "metadata": {},
   "outputs": [
    {
     "data": {
      "text/html": [
       "<div>\n",
       "<style scoped>\n",
       "    .dataframe tbody tr th:only-of-type {\n",
       "        vertical-align: middle;\n",
       "    }\n",
       "\n",
       "    .dataframe tbody tr th {\n",
       "        vertical-align: top;\n",
       "    }\n",
       "\n",
       "    .dataframe thead th {\n",
       "        text-align: right;\n",
       "    }\n",
       "</style>\n",
       "<table border=\"1\" class=\"dataframe\">\n",
       "  <thead>\n",
       "    <tr style=\"text-align: right;\">\n",
       "      <th></th>\n",
       "      <th>Candidate</th>\n",
       "      <th>15_Q1_Don</th>\n",
       "      <th>15_Q2_Don</th>\n",
       "      <th>15_Q3_Don</th>\n",
       "      <th>15_Q4_Don</th>\n",
       "      <th>16_Q1_Don</th>\n",
       "      <th>16_Q2_Don</th>\n",
       "      <th>16_Q3_Don</th>\n",
       "      <th>Dropped_out</th>\n",
       "      <th>Days_in_race</th>\n",
       "    </tr>\n",
       "  </thead>\n",
       "  <tbody>\n",
       "    <tr>\n",
       "      <td>0</td>\n",
       "      <td>Clinton</td>\n",
       "      <td>0.0</td>\n",
       "      <td>39582399.0</td>\n",
       "      <td>22855628.0</td>\n",
       "      <td>25224918.0</td>\n",
       "      <td>35105023.0</td>\n",
       "      <td>48325921.0</td>\n",
       "      <td>68425018.0</td>\n",
       "      <td>0</td>\n",
       "      <td>329</td>\n",
       "    </tr>\n",
       "    <tr>\n",
       "      <td>1</td>\n",
       "      <td>Sanders</td>\n",
       "      <td>0.0</td>\n",
       "      <td>3398762.0</td>\n",
       "      <td>6175733.0</td>\n",
       "      <td>9922254.0</td>\n",
       "      <td>31937906.0</td>\n",
       "      <td>31480631.0</td>\n",
       "      <td>1468646.0</td>\n",
       "      <td>1</td>\n",
       "      <td>427</td>\n",
       "    </tr>\n",
       "    <tr>\n",
       "      <td>2</td>\n",
       "      <td>Omalley</td>\n",
       "      <td>0.0</td>\n",
       "      <td>1908119.0</td>\n",
       "      <td>1068976.0</td>\n",
       "      <td>747498.0</td>\n",
       "      <td>265545.0</td>\n",
       "      <td>48725.0</td>\n",
       "      <td>280.0</td>\n",
       "      <td>1</td>\n",
       "      <td>247</td>\n",
       "    </tr>\n",
       "  </tbody>\n",
       "</table>\n",
       "</div>"
      ],
      "text/plain": [
       "  Candidate  15_Q1_Don   15_Q2_Don   15_Q3_Don   15_Q4_Don   16_Q1_Don  \\\n",
       "0   Clinton        0.0  39582399.0  22855628.0  25224918.0  35105023.0   \n",
       "1   Sanders        0.0   3398762.0   6175733.0   9922254.0  31937906.0   \n",
       "2   Omalley        0.0   1908119.0   1068976.0    747498.0    265545.0   \n",
       "\n",
       "    16_Q2_Don   16_Q3_Don  Dropped_out  Days_in_race  \n",
       "0  48325921.0  68425018.0            0           329  \n",
       "1  31480631.0   1468646.0            1           427  \n",
       "2     48725.0       280.0            1           247  "
      ]
     },
     "execution_count": 284,
     "metadata": {},
     "output_type": "execute_result"
    }
   ],
   "source": [
    "days_in_race_DCCC = [329,427,247]\n",
    "for i in df_2016_DCCC.index:\n",
    "    df_2016_DCCC.loc[i,'Days_in_race'] = days_in_race_DCCC[i]\n",
    "df_2016_DCCC"
   ]
  },
  {
   "cell_type": "code",
   "execution_count": 285,
   "metadata": {},
   "outputs": [],
   "source": [
    "df_2016_GOP.to_csv('../../Data/Model/2016_modeling_GOP.csv')\n",
    "df_2016_DCCC.to_csv('../../Data/Model/2016_modeling_DCCC.csv')"
   ]
  },
  {
   "cell_type": "code",
   "execution_count": null,
   "metadata": {},
   "outputs": [],
   "source": []
  }
 ],
 "metadata": {
  "kernelspec": {
   "display_name": "Python 3",
   "language": "python",
   "name": "python3"
  },
  "language_info": {
   "codemirror_mode": {
    "name": "ipython",
    "version": 3
   },
   "file_extension": ".py",
   "mimetype": "text/x-python",
   "name": "python",
   "nbconvert_exporter": "python",
   "pygments_lexer": "ipython3",
   "version": "3.6.5"
  }
 },
 "nbformat": 4,
 "nbformat_minor": 2
}
