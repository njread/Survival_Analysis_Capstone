{
 "cells": [
  {
   "cell_type": "markdown",
   "metadata": {},
   "source": [
    "# Capstone Project\n",
    "\n",
    "\n",
    "## Data Cleaning\n",
    "\n",
    "### Problem Statement:\n",
    "When predicting outcomes of elections there are many factors that go into the success of an individual candidates campaign. Having cash on hand for expenses is vital for a campaign to survive and we believe that it can be an important factor in predicting weather the campaign will be successful or unsuccessful but not the only factor. In this project we believe that we can predict the outcomes of elections based on the financial contribution rates and the main expenditures of house campaigns. We seek to find if there is a \"critical mass\" of money spent on a variety of factors including paid media, staffing and transportation etc. that a candidate can use in order to flip or retain a seat in US primary elections.\n",
    "\n",
    "Using a combination of network analysis of donor relationships and regression methods. we believe that we can create a model to predict if a candidates campaign will be successful or if their campaign will fail.  \n",
    "\n",
    "***For this project we will determine success by the accuracy of how many elections we successfully predict as compared to a base line where we will predict election results based on who has the most money.***\n",
    "\n",
    "\n",
    "\n",
    "\n",
    "\n"
   ]
  },
  {
   "cell_type": "markdown",
   "metadata": {},
   "source": [
    "- [Imports](#import)\n",
    "- [Reading In The Data](#reading)\n",
    "- [Part 1 Data Cleaning](#pt1)\n",
    "- [Part 2 Data Cleaning](#pt2)"
   ]
  },
  {
   "cell_type": "markdown",
   "metadata": {},
   "source": [
    "### Imports \n",
    "<a id=\"import\"></a>"
   ]
  },
  {
   "cell_type": "code",
   "execution_count": 1,
   "metadata": {},
   "outputs": [],
   "source": [
    "import seaborn as sns\n",
    "import pandas  as pd\n",
    "import numpy   as np\n",
    "import glob"
   ]
  },
  {
   "cell_type": "markdown",
   "metadata": {},
   "source": [
    "### Reading in the data\n",
    "<a id=\"reading\"></a>"
   ]
  },
  {
   "cell_type": "markdown",
   "metadata": {},
   "source": [
    "After contacting the FEC we were able to bulk download the data for  Individual Campaign Donations,  Campaign Expenditures and political Action Committees (PAC's) donations. This resulted in a 27.5 GB data set which exists on an external hard drive. The file paths for the years exist below and are organized into the smallest forms that Pandas can handle. Due to the volume of donations in the 2016 and current election we have broken these out into 2 data frames. "
   ]
  },
  {
   "cell_type": "code",
   "execution_count": 619,
   "metadata": {},
   "outputs": [],
   "source": [
    "# file path for all of the donatinos on external hard drive. All pulled from FEC.GOV \n",
    "file_path_2005_2008 = [\n",
    "            '/Volumes/Polotics_capstone_drive/capstone/Data/2005-2006/Donations',\n",
    "            '/Volumes/Polotics_capstone_drive/capstone/Data/2007-2008/Donations'\n",
    "            ]\n",
    "file_path_2009_2012 = [\n",
    "            '/Volumes/Polotics_capstone_drive/capstone/Data/2009-2010/Donations',\n",
    "            '/Volumes/Polotics_capstone_drive/capstone/Data/2011-2012/Donations/indiv12/by_date'\n",
    "            ]\n",
    "\n",
    "file_path_2013_2016 = [\n",
    "            '/Volumes/Polotics_capstone_drive/capstone/Data/2013-2014/Donations/indiv14/by_date',\n",
    "            '/Volumes/Polotics_capstone_drive/capstone/Data/2015-2016/Donatoins/indiv16/by_date'    \n",
    "            ]\n",
    "\n",
    "file_path_2016_pt2 = [\n",
    "            '/Volumes/Polotics_capstone_drive/capstone/Data/2015-2016/Donatoins/by_date_2'\n",
    "            ]\n",
    "\n",
    "file_path_2017_2020 = [\n",
    "            '/Volumes/Polotics_capstone_drive/capstone/Data/2017-2018/Donations/indiv18/by_date',\n",
    "            ]\n",
    "\n",
    "file_path_2017_2020_pt2 =[\n",
    "            '/Volumes/Polotics_capstone_drive/capstone/Data/2017-2018/Donations/2017-18_pt2',\n",
    "            '/Volumes/Polotics_capstone_drive/capstone/Data/2019-2020/Donations/indiv20/by_date'\n",
    "            ]\n"
   ]
  },
  {
   "cell_type": "code",
   "execution_count": 620,
   "metadata": {},
   "outputs": [],
   "source": [
    "# File path for the campaings expenditures on external hard drive. All files pulled from FEC.Gov\n",
    "\n",
    "File_path_exp_2005_2008=['/Volumes/Polotics_capstone_drive/capstone/Data/2005-2006/Exp',\n",
    "                         '/Volumes/Polotics_capstone_drive/capstone/Data/2007-2008/Exp']\n",
    "\n",
    "File_path_exp_2009_2012=['/Volumes/Polotics_capstone_drive/capstone/Data/2009-2010/Exp',\n",
    "                         '/Volumes/Polotics_capstone_drive/capstone/Data/2011-2012/Exp']\n",
    "\n",
    "File_path_exp_2013_2016=['/Volumes/Polotics_capstone_drive/capstone/Data/2013-2014/Exp',\n",
    "                         '/Volumes/Polotics_capstone_drive/capstone/Data/2015-2016/Exp']\n",
    "\n",
    "File_path_exp_2017_2020=['/Volumes/Polotics_capstone_drive/capstone/Data/2017-2018/Exp',\n",
    "                         '/Volumes/Polotics_capstone_drive/capstone/Data/2019-2020/Exp']"
   ]
  },
  {
   "cell_type": "code",
   "execution_count": 621,
   "metadata": {},
   "outputs": [],
   "source": [
    "# File path for the super pac contrubutions on external hard drive. All files pulled from FEC.Gov\n",
    "\n",
    "File_path_pac_2005_2008=['/Volumes/Polotics_capstone_drive/capstone/Data/2005-2006/PAC',\n",
    "                         '/Volumes/Polotics_capstone_drive/capstone/Data/2007-2008/PAC']\n",
    "\n",
    "File_path_pac_2009_2012=['/Volumes/Polotics_capstone_drive/capstone/Data/2009-2010/PAC',\n",
    "                         '/Volumes/Polotics_capstone_drive/capstone/Data/2011-2012/PAC']\n",
    "\n",
    "File_path_pac_2013_2016=['/Volumes/Polotics_capstone_drive/capstone/Data/2013-2014/PAC',\n",
    "                         '/Volumes/Polotics_capstone_drive/capstone/Data/2015-2016/PAC']\n",
    "\n",
    "File_path_pac_2017_2020=['/Volumes/Polotics_capstone_drive/capstone/Data/2017-2018/PAC',\n",
    "                         '/Volumes/Polotics_capstone_drive/capstone/Data/2019-2020/PAC']"
   ]
  },
  {
   "cell_type": "code",
   "execution_count": 622,
   "metadata": {
    "scrolled": false
   },
   "outputs": [],
   "source": [
    "# function for reading in the data useing glob package\n",
    "def gather_files(file_path):\n",
    "    full_lines = []\n",
    "    for path in file_path:\n",
    "        files = [f for f in glob.glob(path + \"**/*.txt\", recursive=True)]\n",
    "        for file in files:\n",
    "            print(f'I am working on {file}')\n",
    "            with open(file, encoding = 'utf8', errors = 'ignore') as f:\n",
    "                for line in f:\n",
    "                    line_list = [i.strip() for i in line.split('|')]\n",
    "                    full_lines.append(line_list)\n",
    "    print(\"Now converting to Data Frame\")\n",
    "    df = pd.DataFrame(full_lines)\n",
    "    print(\"All done your datafram is ready\")\n",
    "    return(df)"
   ]
  },
  {
   "cell_type": "code",
   "execution_count": 7,
   "metadata": {
    "scrolled": true
   },
   "outputs": [
    {
     "name": "stdout",
     "output_type": "stream",
     "text": [
      "I am working on /Volumes/Polotics_capstone_drive/capstone/Data/2017-2018/Donations/2017-18_pt2/itcont_2018_20180705_20180825.txt\n",
      "I am working on /Volumes/Polotics_capstone_drive/capstone/Data/2017-2018/Donations/2017-18_pt2/itcont_2018_20180826_20180928.txt\n",
      "I am working on /Volumes/Polotics_capstone_drive/capstone/Data/2017-2018/Donations/2017-18_pt2/itcont_2018_20180929_20181019.txt\n",
      "I am working on /Volumes/Polotics_capstone_drive/capstone/Data/2017-2018/Donations/2017-18_pt2/itcont_2018_20181020_20181106.txt\n",
      "I am working on /Volumes/Polotics_capstone_drive/capstone/Data/2017-2018/Donations/2017-18_pt2/itcont_2018_20181107_20181230.txt\n",
      "I am working on /Volumes/Polotics_capstone_drive/capstone/Data/2017-2018/Donations/2017-18_pt2/itcont_2018_20181231_52010302.txt\n",
      "I am working on /Volumes/Polotics_capstone_drive/capstone/Data/2019-2020/Donations/indiv20/by_date/itcont_2020_20010425_20190425.txt\n",
      "I am working on /Volumes/Polotics_capstone_drive/capstone/Data/2019-2020/Donations/indiv20/by_date/itcont_2020_20190426_20190628.txt\n",
      "I am working on /Volumes/Polotics_capstone_drive/capstone/Data/2019-2020/Donations/indiv20/by_date/itcont_2020_20190629_20190908.txt\n",
      "I am working on /Volumes/Polotics_capstone_drive/capstone/Data/2019-2020/Donations/indiv20/by_date/itcont_2020_20190909_20191031.txt\n",
      "Now converting to Data Frame\n",
      "All done your datafram is ready\n"
     ]
    }
   ],
   "source": [
    "# this function for reading in the file path of the data\n",
    "# use nameing convention df_startYear_endYear for data frames names\n",
    "file_path_2017_2020_pt2 = gather_files(file_path_2017_2020_pt2)\n"
   ]
  },
  {
   "cell_type": "markdown",
   "metadata": {},
   "source": [
    "## Part 1 of Data Cleaning : Managing size of data and data types\n",
    "<a id=\"pt1\"></a>\n",
    "---\n",
    "in the following functions we will reduce the number of columns and convert necessary values to integers or floats. This will further reduce the size of the files allowing us to work with them in a more realistic way "
   ]
  },
  {
   "cell_type": "markdown",
   "metadata": {},
   "source": [
    "### Cleaning Donations\n",
    "<a id=\"Cleaning_Donations\"></a>"
   ]
  },
  {
   "cell_type": "code",
   "execution_count": 8,
   "metadata": {
    "scrolled": true
   },
   "outputs": [],
   "source": [
    "\n",
    "def Names_of_col_for_donations(df):\n",
    "    # names of columns given from the FEC\n",
    "    \n",
    "    df.rename(columns={0: 'CMTE_ID', 1:'AMNDT_IND', 2:'RPT_TP', 3:'TRANSACTION_PGI',\n",
    "                       4:'IMAGE_NUM', 5:'TRANSACTION_TP', 6:'ENTITY_TP', 7:'NAME',8:'CITY',\n",
    "                       9:'STATE', 10:'ZIP_CODE', 11:'EMPLOYER', 12:'OCCUPATION',\n",
    "                       13:'TRANSACTION_DT', 14:'TRANSACTION_AMT', 15:'OTHER_ID',\n",
    "                       16:'TRAN_ID', 17:'FILE_NUM', 18:'MEMO_CD', 19:'MEMO_TEXT',\n",
    "                       20:'SUB_ID'},\n",
    "                       inplace=True)\n",
    "    print('Column names changed')\n",
    "    # Droppign of un needed columns \n",
    "    df.drop(['IMAGE_NUM',\n",
    "             'TRANSACTION_PGI',\n",
    "             'MEMO_TEXT',\n",
    "             'TRANSACTION_TP',\n",
    "             'TRAN_ID',\n",
    "             'OTHER_ID',\n",
    "            'MEMO_TEXT',\n",
    "            'MEMO_CD'], axis = 1,inplace = True) \n",
    "    print(\"un needed columns were droped :) \")\n",
    "    \n",
    "    # converting to the correct data type\n",
    "    df['TRANSACTION_AMT'] = df['TRANSACTION_AMT'].astype(str).astype(int)\n",
    "    df['SUB_ID'] = df['SUB_ID'].astype(str).astype(int)\n",
    "    df['TRANSACTION_DT'] = df['TRANSACTION_DT'].astype(str)\n",
    "    print('Data types changed')\n",
    "    \n",
    "    # Date time operation and cleaning sets any missing values to be 0 then drops them\n",
    "    df['TRANSACTION_DT'].replace(to_replace =\"\", \n",
    "                             value ='0',inplace = True)\n",
    "    df = df[df.TRANSACTION_DT != '0']\n",
    "    df.fillna(0)\n",
    "    print('Dropped 0s')\n",
    "    \n",
    "    # sets the values to be a date time object \n",
    "    df['TRANSACTION_DT'] = pd.to_datetime(df['TRANSACTION_DT'], format='%m%d%Y',errors = 'coerce')\n",
    "    df.set_index('TRANSACTION_DT',inplace = True)\n",
    "    df = df.loc['CHANGE FOR THE CORRECT DATE RANGE']\n",
    "    print('Date time object')\n",
    "    \n",
    "    # sorts the vlaues to be in order \n",
    "    df.sort_index(inplace = True)\n",
    "    # forces any dates that were entered wron to be droped \n",
    "    print('data is organized ')\n",
    "    # drops unneeded columns  \n",
    "    return(df)\n"
   ]
  },
  {
   "cell_type": "markdown",
   "metadata": {},
   "source": [
    "### Cleaning Expenses\n",
    "<a id=\"Cleaning_Expenses\"></a>"
   ]
  },
  {
   "cell_type": "code",
   "execution_count": 9,
   "metadata": {},
   "outputs": [],
   "source": [
    "def Names_of_col_for_expenses(df):\n",
    "\n",
    "    # names of columns given from the FEC\n",
    "    \n",
    "    df.rename(columns={0:'CMTE_ID', 1:'AMNDT_IND', 2:'RPT_YR', 3:'RPT_TP', 4:'IMAGE_NUM',\n",
    "                       5:'LINE_NUM', 6:'FORM_TP_CD', 7:'SCHED_TP_CD', 8:'NAME', 9:'CITY',\n",
    "                       10:'STATE', 11:'ZIP_CODE', 12:'TRANSACTION_DT',13:'TRANSACTION_AMT',\n",
    "                       14:'TRANSACTION_PGI', 15:'PURPOSE', 16:'CATEGORY', 17:'CATEGORY_DESC',\n",
    "                       18:'MEMO_CD', 19:'MEMO_TEXT', 20:'ENTITY_TP', 21:'SUB_ID',\n",
    "                       22:'FILE_NUM', 23:'TRAN_ID', 24:'BACK_REF_TRAN_ID'}, inplace=True)\n",
    "    print('Column names changed')\n",
    "    # drops unneeded columns \n",
    "    df.drop(['IMAGE_NUM',\n",
    "             'TRANSACTION_PGI',\n",
    "             'MEMO_TEXT',\n",
    "             'TRAN_ID',\n",
    "            'SCHED_TP_CD',\n",
    "            'LINE_NUM',\n",
    "            'MEMO_CD',\n",
    "            'MEMO_TEXT'\n",
    "            ], axis = 1,inplace = True) \n",
    "    print(\"un needed columns were droped :) \")\n",
    "\n",
    "    # makes the necisary values to be the correct data type\n",
    "    \n",
    "    df['TRANSACTION_AMT'].replace(to_replace =[\"\"], \n",
    "                             value ='0',inplace = True)\n",
    "    df = df[df.TRANSACTION_AMT != '0']\n",
    "    df['TRANSACTION_AMT'] = df['TRANSACTION_AMT'].astype(str).astype(float)\n",
    "    df['SUB_ID'] = df['SUB_ID'].astype(str).astype(int)\n",
    "    df['TRANSACTION_DT'] = df['TRANSACTION_DT'].astype(str)\n",
    "    df.fillna(0)\n",
    "    print('Data types changed')\n",
    "    \n",
    "    # Date time operation and cleaning sets any missing values to be 0 then drops them\n",
    "    \n",
    "    df['TRANSACTION_DT'].replace(to_replace =\"\", \n",
    "                             value ='0',inplace = True)\n",
    "    df = df[df.TRANSACTION_DT != '0']\n",
    "    print('Dropped 0s')\n",
    "    \n",
    "    # sets the values to be a date time object \n",
    "    \n",
    "    df['TRANSACTION_DT'] = pd.to_datetime(df['TRANSACTION_DT'], format='%m/%d/%Y',errors = 'coerce')\n",
    "    df.set_index('TRANSACTION_DT',inplace = True)\n",
    "    df = df.loc['CHANGE FOR THE CORRECT DATE RANGE']\n",
    "    print('Date time object')\n",
    "    \n",
    "    # sorts the vlaues to be in order \n",
    "    \n",
    "    df.sort_index(inplace = True)\n",
    "    \n",
    "    # forces any dates that were entered wron to be droped \n",
    "    \n",
    "    print('data is organized ')\n",
    "    \n",
    "    return(df)"
   ]
  },
  {
   "cell_type": "markdown",
   "metadata": {},
   "source": [
    "## Warning:\n",
    "Reading in the data for this project takes 3 hours on average and exceeds most computers RAM storage capabilities. To get around this I highly advise the user to restart the Kernal after each election cycle is read in. The final cleaned data sets are provided to the user in the Data folder in this file path `('../../Data')`"
   ]
  },
  {
   "cell_type": "code",
   "execution_count": 623,
   "metadata": {},
   "outputs": [
    {
     "ename": "NameError",
     "evalue": "name 'Names_of_col_for_donations' is not defined",
     "output_type": "error",
     "traceback": [
      "\u001b[0;31m---------------------------------------------------------------------------\u001b[0m",
      "\u001b[0;31mNameError\u001b[0m                                 Traceback (most recent call last)",
      "\u001b[0;32m<ipython-input-623-9f1b48901b28>\u001b[0m in \u001b[0;36m<module>\u001b[0;34m\u001b[0m\n\u001b[1;32m      1\u001b[0m \u001b[0;31m# Makes csv of donataions with the first steps of cleaning our data\u001b[0m\u001b[0;34m\u001b[0m\u001b[0;34m\u001b[0m\u001b[0m\n\u001b[0;32m----> 2\u001b[0;31m \u001b[0mNames_of_col_for_donations\u001b[0m\u001b[0;34m(\u001b[0m\u001b[0;34m'list of files'\u001b[0m\u001b[0;34m)\u001b[0m\u001b[0;34m.\u001b[0m\u001b[0mto_csv\u001b[0m\u001b[0;34m(\u001b[0m\u001b[0;34m'Path to save cleaned csv'\u001b[0m\u001b[0;34m)\u001b[0m\u001b[0;34m\u001b[0m\u001b[0m\n\u001b[0m",
      "\u001b[0;31mNameError\u001b[0m: name 'Names_of_col_for_donations' is not defined"
     ]
    }
   ],
   "source": [
    "# Makes csv of donataions with the first steps of cleaning our data \n",
    "Names_of_col_for_donations('list of files').to_csv('Path to save cleaned csv')"
   ]
  },
  {
   "cell_type": "code",
   "execution_count": null,
   "metadata": {},
   "outputs": [],
   "source": [
    "# Makes csv of Expenses with the first steps of cleaning our data \n",
    "Names_of_col_for_expenses('list of files').to_csv('file_Path_For_exp')"
   ]
  },
  {
   "cell_type": "markdown",
   "metadata": {},
   "source": [
    "## Part 2 of data cleaning: Specifying Specific Candidates\n",
    "<a id=\"pt2\"></a>\n",
    "\n",
    "---\n",
    "After running all of our data through the appropriate functions we can now work with our our clean data (about 10GB) which is much more manageable. Our next step in cleaning the data is to isolate what campaigns we need to target. We can achieve this with some independent research and help from the FEC_MASTER_LIST which is available for download at the FEC website. This file the holds every campaign that has been registered with the agency from its inception  or alternatively you can visit the FEC websight and search for a specific candidate and find their ID on their respective home page. The FEC gives us every committee including Legislative, House and Senate campaigns however we only need to look at those that dealt with the primaries in the years 2008, 2012, 2016 and the current campaign 2020. \n",
    "\n"
   ]
  },
  {
   "cell_type": "markdown",
   "metadata": {},
   "source": [
    "We will decide if candidates are significant to the race if they were on a national debate stage, or polled at %2 in a national poll. This will allow us to narrow down our candidate pool to include only seriously considered candidates and avoid candidates that run insignificant campaigns and never drop out. We will also only be taking into account candidates from the two major political parties the GOP for republicans and DCCC for the democrats"
   ]
  },
  {
   "cell_type": "markdown",
   "metadata": {},
   "source": [
    "We will write all of these data frames to their own CSV to be used later in this notebook. This further reduces the amount of RAM we will need to allocate for this process of cleaning. "
   ]
  },
  {
   "cell_type": "markdown",
   "metadata": {},
   "source": [
    "### 2008 individual donations to candidates\n",
    "<a id=\" 2008_individual_donations_to_candidates\"></a>"
   ]
  },
  {
   "cell_type": "code",
   "execution_count": 70,
   "metadata": {},
   "outputs": [],
   "source": [
    "# read in the data frame for the 2008 election\n",
    "df_2005_2008_donations = pd.read_csv('../../Data/don/2005_2008.csv')"
   ]
  },
  {
   "cell_type": "code",
   "execution_count": 71,
   "metadata": {},
   "outputs": [],
   "source": [
    "# list of the Democratic candidates in the primary 2008 with the CMTE_ID\n",
    "Obama = df_2005_2008_donations.loc[df_2005_2008_donations['CMTE_ID'].isin(['C00431445'])]\n",
    "Clinton = df_2005_2008_donations.loc[df_2005_2008_donations['CMTE_ID'].isin(['C00431569'])]\n",
    "Edwards = df_2005_2008_donations.loc[df_2005_2008_donations['CMTE_ID'].isin(['C00431205'])]\n",
    "Richardson = df_2005_2008_donations.loc[df_2005_2008_donations['CMTE_ID'].isin(['C00431577'])]\n",
    "Biden = df_2005_2008_donations.loc[df_2005_2008_donations['CMTE_ID'].isin(['C00334037'])]\n",
    "Dodd = df_2005_2008_donations.loc[df_2005_2008_donations['CMTE_ID'].isin(['C00431379'])]\n",
    "Gravel = df_2005_2008_donations.loc[df_2005_2008_donations['CMTE_ID'].isin(['C00423202'])]\n",
    "Kucinich = df_2005_2008_donations.loc[df_2005_2008_donations['CMTE_ID'].isin(['C00430975'])]"
   ]
  },
  {
   "cell_type": "code",
   "execution_count": 72,
   "metadata": {},
   "outputs": [],
   "source": [
    "# list of the Republican candidates in the primary 2008\n",
    "McCain = df_2005_2008_donations.loc[df_2005_2008_donations['CMTE_ID'].isin(['C00430470'])]\n",
    "Huckabee = df_2005_2008_donations.loc[df_2005_2008_donations['CMTE_ID'].isin(['C00431809'])]\n",
    "Romney = df_2005_2008_donations.loc[df_2005_2008_donations['CMTE_ID'].isin(['C00431171'])]\n",
    "Paul = df_2005_2008_donations.loc[df_2005_2008_donations['CMTE_ID'].isin(['C00432914'])]\n",
    "Thompson = df_2005_2008_donations.loc[df_2005_2008_donations['CMTE_ID'].isin(['C00438507'])]\n",
    "Keyes = df_2005_2008_donations.loc[df_2005_2008_donations['CMTE_ID'].isin(['C00452532'])]\n",
    "Hunter = df_2005_2008_donations.loc[df_2005_2008_donations['CMTE_ID'].isin(['C00431411'])]\n",
    "Giuliani = df_2005_2008_donations.loc[df_2005_2008_donations['CMTE_ID'].isin(['C00430512'])]"
   ]
  },
  {
   "cell_type": "code",
   "execution_count": 624,
   "metadata": {},
   "outputs": [],
   "source": [
    "# writer the candidates the the proper csvs\n",
    "# Democrat candidates for 2008\n",
    "Obama.to_csv('../../Data/don/2005_2008_ind_cand/Obama_2008.csv')\n",
    "Clinton.to_csv('../../Data/don/2005_2008_ind_cand/Clinton_2008.csv')\n",
    "Edwards.to_csv('../../Data/don/2005_2008_ind_cand/Edwards_2008.csv')\n",
    "Richardson.to_csv('../../Data/don/2005_2008_ind_cand/Richardson_2008.csv')\n",
    "Biden.to_csv('../../Data/don/2005_2008_ind_cand/Biden_2008.csv')\n",
    "Dodd.to_csv('../../Data/don/2005_2008_ind_cand/Dodd_2008.csv')\n",
    "Gravel.to_csv('../../Data/don/2005_2008_ind_cand/Gravel_2008.csv')\n",
    "Kucinich.to_csv('../../Data/don/2005_2008_ind_cand/Kucinich_2008.csv')\n",
    "# Republican candidates for 2008\n",
    "McCain.to_csv('../../Data/don/2005_2008_ind_cand/McCain_2008.csv')\n",
    "Huckabee.to_csv('../../Data/don/2005_2008_ind_cand/Huckabee_2008.csv')\n",
    "Romney.to_csv('../../Data/don/2005_2008_ind_cand/Romney_2008.csv')\n",
    "Paul.to_csv('../../Data/don/2005_2008_ind_cand/Paul_2008.csv')\n",
    "Thompson.to_csv('../../Data/don/2005_2008_ind_cand/Thompson_2008.csv')\n",
    "Keyes.to_csv('../../Data/don/2005_2008_ind_cand/Keyes_2008.csv')\n",
    "Hunter.to_csv('../../Data/don/2005_2008_ind_cand/Hunter_2008.csv') \n",
    "Giuliani.to_csv('../../Data/don/2005_2008_ind_cand/Giuliani_2008.csv')"
   ]
  },
  {
   "cell_type": "markdown",
   "metadata": {},
   "source": [
    "### 2012 individual donations to candidates\n",
    "<a id=\" 2012_individual_donations_to_candidates\"></a>"
   ]
  },
  {
   "cell_type": "code",
   "execution_count": 625,
   "metadata": {},
   "outputs": [
    {
     "name": "stderr",
     "output_type": "stream",
     "text": [
      "/Library/Frameworks/Python.framework/Versions/3.6/lib/python3.6/site-packages/IPython/core/interactiveshell.py:3058: DtypeWarning: Columns (8) have mixed types. Specify dtype option on import or set low_memory=False.\n",
      "  interactivity=interactivity, compiler=compiler, result=result)\n"
     ]
    }
   ],
   "source": [
    "# read in the correect data frame for the 2012 elections\n",
    "df_2009_2012_donations = pd.read_csv('../../Data/don/2009_2012.csv')"
   ]
  },
  {
   "cell_type": "code",
   "execution_count": 80,
   "metadata": {},
   "outputs": [],
   "source": [
    "# Republican candidates for 2012\n",
    "Romney = df_2009_2012_donations.loc[df_2009_2012_donations['CMTE_ID'].isin(['C00431171'])]\n",
    "Santorum = df_2009_2012_donations.loc[df_2009_2012_donations['CMTE_ID'].isin(['C00496034'])] \n",
    "Paul = df_2009_2012_donations.loc[df_2009_2012_donations['CMTE_ID'].isin(['C00495820'])]\n",
    "Gingrich = df_2009_2012_donations.loc[df_2009_2012_donations['CMTE_ID'].isin(['C00496497'])] "
   ]
  },
  {
   "cell_type": "code",
   "execution_count": 81,
   "metadata": {},
   "outputs": [],
   "source": [
    "# write the candidates to the propper csvs \n",
    "Romney.to_csv('../../Data/don/2009_2012_ind_cand/Romney_2012.csv')\n",
    "Santorum.to_csv('../../Data/don/2009_2012_ind_cand/Santorum_2012.csv')\n",
    "Paul.to_csv('../../Data/don/2009_2012_ind_cand/Paul_2012.csv') \n",
    "Gingrich.to_csv('../../Data/don/2009_2012_ind_cand/Gingrich_2012.csv')"
   ]
  },
  {
   "cell_type": "markdown",
   "metadata": {},
   "source": [
    "There are no democrat candidates in 2012 because Obama won the white house in 2008 so the democrats were incumbents as a result we only have the republican candidates to deal with for this election cycle. "
   ]
  },
  {
   "cell_type": "markdown",
   "metadata": {},
   "source": [
    "### 2016 donations to individual candidates\n",
    "<a id=\" 2016_individual_donations_to_candidates\"></a>"
   ]
  },
  {
   "cell_type": "code",
   "execution_count": 82,
   "metadata": {},
   "outputs": [],
   "source": [
    "#part 1 of the donations 2013-2016\n",
    "df_2013_2016_donations = pd.read_csv('../../Data/don/2013_2016.csv')\n",
    "\n",
    "#part 2 of the donations 2016\n",
    "df_2013_2016_donations_pt2 = pd.read_csv('../../Data/don/2013_2016_pt2.csv')"
   ]
  },
  {
   "cell_type": "markdown",
   "metadata": {},
   "source": [
    "`Pandas` is unable to handle all of the rows for the 2016 and 2020 elections so we will break them up into a part 1 and part 2"
   ]
  },
  {
   "cell_type": "code",
   "execution_count": 83,
   "metadata": {},
   "outputs": [],
   "source": [
    "# Republican candidates for 2016\n",
    "\n",
    "Trump = df_2013_2016_donations.loc[df_2013_2016_donations['CMTE_ID'].isin(['C00580100'])]\n",
    "Cruz = df_2013_2016_donations.loc[df_2013_2016_donations['CMTE_ID'].isin(['C00574624'])]\n",
    "Kasich = df_2013_2016_donations.loc[df_2013_2016_donations['CMTE_ID'].isin(['C00581876'])]\n",
    "Rubio = df_2013_2016_donations.loc[df_2013_2016_donations['CMTE_ID'].isin(['C00458844'])]\n",
    "Carson = df_2013_2016_donations.loc[df_2013_2016_donations['CMTE_ID'].isin(['C00573519'])]\n",
    "Bush = df_2013_2016_donations.loc[df_2013_2016_donations['CMTE_ID'].isin(['C00579458'])]\n",
    "Paul = df_2013_2016_donations.loc[df_2013_2016_donations['CMTE_ID'].isin(['C00575449'])]\n",
    "Christie = df_2013_2016_donations.loc[df_2013_2016_donations['CMTE_ID'].isin(['C00580399'])]\n",
    "Huckabee = df_2013_2016_donations.loc[df_2013_2016_donations['CMTE_ID'].isin(['C00577981'])]\n",
    "Fiorina = df_2013_2016_donations.loc[df_2013_2016_donations['CMTE_ID'].isin(['C00577312'])]\n",
    "Gilmore = df_2013_2016_donations.loc[df_2013_2016_donations['CMTE_ID'].isin(['C00582668'])]\n",
    "Santorum = df_2013_2016_donations.loc[df_2013_2016_donations['CMTE_ID'].isin(['C00578492'])]\n",
    "Perry = df_2013_2016_donations.loc[df_2013_2016_donations['CMTE_ID'].isin(['C00500587'])]\n",
    "Walker = df_2013_2016_donations.loc[df_2013_2016_donations['CMTE_ID'].isin(['C00580480'])]\n",
    "Jindal = df_2013_2016_donations.loc[df_2013_2016_donations['CMTE_ID'].isin(['C00580159'])]\n",
    "Graham = df_2013_2016_donations.loc[df_2013_2016_donations['CMTE_ID'].isin(['C00578757'])]\n",
    "Pataki = df_2013_2016_donations.loc[df_2013_2016_donations['CMTE_ID'].isin(['C00578245'])]"
   ]
  },
  {
   "cell_type": "code",
   "execution_count": 84,
   "metadata": {},
   "outputs": [],
   "source": [
    "# Democrat candidates for 2016\n",
    "Clinton_2016 = df_2013_2016_donations.loc[df_2013_2016_donations['CMTE_ID'].isin(['C00575795'])]\n",
    "Sanders_2016 = df_2013_2016_donations.loc[df_2013_2016_donations['CMTE_ID'].isin(['C00577130'])]\n",
    "OMalley = df_2013_2016_donations.loc[df_2013_2016_donations['CMTE_ID'].isin(['C00578658'])]"
   ]
  },
  {
   "cell_type": "code",
   "execution_count": 85,
   "metadata": {},
   "outputs": [],
   "source": [
    "# write the candidates to csvs\n",
    "#republican nomanies\n",
    "Trump.to_csv('../../Data/don/2013_2016_ind_cand/Trump_2016.csv')\n",
    "Cruz.to_csv('../../Data/don/2013_2016_ind_cand/Cruz_2016.csv')\n",
    "Kasich.to_csv('../../Data/don/2013_2016_ind_cand/Kasich_2016.csv') \n",
    "Rubio.to_csv('../../Data/don/2013_2016_ind_cand/Rubio_2016.csv')\n",
    "Carson.to_csv('../../Data/don/2013_2016_ind_cand/Carson_2016.csv')\n",
    "Bush.to_csv('../../Data/don/2013_2016_ind_cand/Bush_2016.csv')\n",
    "Paul.to_csv('../../Data/don/2013_2016_ind_cand/Paul_2016.csv') \n",
    "Christie.to_csv('../../Data/don/2013_2016_ind_cand/Christie_2016.csv')\n",
    "Huckabee.to_csv('../../Data/don/2013_2016_ind_cand/Huckabee_2016.csv')\n",
    "Fiorina.to_csv('../../Data/don/2013_2016_ind_cand/Fiorina_2016.csv')\n",
    "Gilmore.to_csv('../../Data/don/2013_2016_ind_cand/Gilmore_2016.csv') \n",
    "Santorum.to_csv('../../Data/don/2013_2016_ind_cand/Santorum_2016.csv')\n",
    "Perry.to_csv('../../Data/don/2013_2016_ind_cand/Perry_2016.csv')\n",
    "Walker.to_csv('../../Data/don/2013_2016_ind_cand/Walker_2016.csv')\n",
    "Jindal.to_csv('../../Data/don/2013_2016_ind_cand/Jindal_2016.csv') \n",
    "Graham.to_csv('../../Data/don/2013_2016_ind_cand/Grahm_2016.csv')\n",
    "Pataki.to_csv('../../Data/don/2013_2016_ind_cand/Pataki_2016.csv')\n",
    "# demacratic nomanies \n",
    "Clinton_2016.to_csv('../../Data/don/2013_2016_ind_cand/Clinton_2016.csv')\n",
    "Sanders_2016.to_csv('../../Data/don/2013_2016_ind_cand/Sanders_2016.csv') \n",
    "OMalley.to_csv('../../Data/don/2013_2016_ind_cand/Omalley_2016.csv')"
   ]
  },
  {
   "cell_type": "code",
   "execution_count": 86,
   "metadata": {},
   "outputs": [],
   "source": [
    "# Republican candidates for 2016_pt2\n",
    "Trump2 = df_2013_2016_donations_pt2.loc[df_2013_2016_donations_pt2['CMTE_ID'].isin(['C00580100'])]\n",
    "Cruz2 = df_2013_2016_donations_pt2.loc[df_2013_2016_donations_pt2['CMTE_ID'].isin(['C00574624'])]\n",
    "Kasich2 = df_2013_2016_donations_pt2.loc[df_2013_2016_donations_pt2['CMTE_ID'].isin(['C00581876'])]\n",
    "Rubio2 = df_2013_2016_donations_pt2.loc[df_2013_2016_donations_pt2['CMTE_ID'].isin(['C00458844'])]\n",
    "Carson2 = df_2013_2016_donations_pt2.loc[df_2013_2016_donations_pt2['CMTE_ID'].isin(['C00573519'])]\n",
    "Bush2 = df_2013_2016_donations_pt2.loc[df_2013_2016_donations_pt2['CMTE_ID'].isin(['C00579458'])]\n",
    "Paul2 = df_2013_2016_donations_pt2.loc[df_2013_2016_donations_pt2['CMTE_ID'].isin(['C00575449'])]\n",
    "Christie2 = df_2013_2016_donations_pt2.loc[df_2013_2016_donations_pt2['CMTE_ID'].isin(['C00580399'])]\n",
    "Huckabee2 = df_2013_2016_donations_pt2.loc[df_2013_2016_donations_pt2['CMTE_ID'].isin(['C00577981'])]\n",
    "Fiorina2 = df_2013_2016_donations_pt2.loc[df_2013_2016_donations_pt2['CMTE_ID'].isin(['C00577312'])]\n",
    "Gilmore2 = df_2013_2016_donations_pt2.loc[df_2013_2016_donations_pt2['CMTE_ID'].isin(['C00582668'])]\n",
    "Santorum2 = df_2013_2016_donations_pt2.loc[df_2013_2016_donations_pt2['CMTE_ID'].isin(['C00578492'])]\n",
    "Perry2 = df_2013_2016_donations_pt2.loc[df_2013_2016_donations_pt2['CMTE_ID'].isin(['C00500587'])]\n",
    "Walker2 = df_2013_2016_donations_pt2.loc[df_2013_2016_donations_pt2['CMTE_ID'].isin(['C00580480'])]\n",
    "Jindal2 = df_2013_2016_donations_pt2.loc[df_2013_2016_donations_pt2['CMTE_ID'].isin(['C00580159'])]\n",
    "Graham2 = df_2013_2016_donations_pt2.loc[df_2013_2016_donations_pt2['CMTE_ID'].isin(['C00578757'])]\n",
    "Pataki2 = df_2013_2016_donations_pt2.loc[df_2013_2016_donations_pt2['CMTE_ID'].isin(['C00578245'])]\n",
    "# Democratic candidates for 2016_pt2\n",
    "# Democrat candidates for 2016\n",
    "Clinton_20162 = df_2013_2016_donations_pt2.loc[df_2013_2016_donations_pt2['CMTE_ID'].isin(['C00575795'])]\n",
    "Sanders_20162 = df_2013_2016_donations_pt2.loc[df_2013_2016_donations_pt2['CMTE_ID'].isin(['C00577130'])]\n",
    "OMalley2 = df_2013_2016_donations_pt2.loc[df_2013_2016_donations_pt2['CMTE_ID'].isin(['C00578658'])]"
   ]
  },
  {
   "cell_type": "code",
   "execution_count": 87,
   "metadata": {},
   "outputs": [],
   "source": [
    "# write the candidate to new csvs making sure to rename the csvs to pt2\n",
    "Trump2.to_csv('../../Data/don/2013_2016_ind_cand/Trump_2016_pt2.csv')\n",
    "Cruz2.to_csv('../../Data/don/2013_2016_ind_cand/Cruz_2016_pt2.csv')\n",
    "Kasich2.to_csv('../../Data/don/2013_2016_ind_cand/Kasich_2016_pt2.csv') \n",
    "Rubio2.to_csv('../../Data/don/2013_2016_ind_cand/Rubio_2016_pt2.csv')\n",
    "Carson2.to_csv('../../Data/don/2013_2016_ind_cand/Carson_2016_pt2.csv')\n",
    "Bush2.to_csv('../../Data/don/2013_2016_ind_cand/Bush_2016_pt2.csv')\n",
    "Paul2.to_csv('../../Data/don/2013_2016_ind_cand/Paul_2016_pt2.csv') \n",
    "Christie2.to_csv('../../Data/don/2013_2016_ind_cand/Christie_2016_pt2.csv')\n",
    "Huckabee2.to_csv('../../Data/don/2013_2016_ind_cand/Huckabee_2016_pt2.csv')\n",
    "Fiorina2.to_csv('../../Data/don/2013_2016_ind_cand/Fiorina_2016_pt2.csv')\n",
    "Gilmore2.to_csv('../../Data/don/2013_2016_ind_cand/Gilmore_2016_pt2.csv') \n",
    "Santorum2.to_csv('../../Data/don/2013_2016_ind_cand/Santorum_2016_pt2.csv')\n",
    "Perry2.to_csv('../../Data/don/2013_2016_ind_cand/Perry_2016_pt2.csv')\n",
    "Walker2.to_csv('../../Data/don/2013_2016_ind_cand/Walker_2016_pt2.csv')\n",
    "Jindal2.to_csv('../../Data/don/2013_2016_ind_cand/Jindal_2016_pt2.csv') \n",
    "Graham2.to_csv('../../Data/don/2013_2016_ind_cand/Grahm_2016_pt2.csv')\n",
    "Pataki2.to_csv('../../Data/don/2013_2016_ind_cand/Pataki_2016_pt2.csv')\n",
    "# demacratic nomanies \n",
    "Clinton_20162.to_csv('../../Data/don/2013_2016_ind_cand/Clinton_2016_pt2.csv')\n",
    "Sanders_20162.to_csv('../../Data/don/2013_2016_ind_cand/Sanders_2016_pt2.csv') \n",
    "OMalley2.to_csv('../../Data/don/2013_2016_ind_cand/Omalley_2016_pt2.csv')"
   ]
  },
  {
   "cell_type": "markdown",
   "metadata": {},
   "source": [
    "### 2020 donations to individual candidates\n",
    "<a id=\" 2020_individual_donations_to_candidates\"></a>"
   ]
  },
  {
   "cell_type": "code",
   "execution_count": 506,
   "metadata": {},
   "outputs": [
    {
     "name": "stderr",
     "output_type": "stream",
     "text": [
      "/Library/Frameworks/Python.framework/Versions/3.6/lib/python3.6/site-packages/IPython/core/interactiveshell.py:3058: DtypeWarning: Columns (8) have mixed types. Specify dtype option on import or set low_memory=False.\n",
      "  interactivity=interactivity, compiler=compiler, result=result)\n"
     ]
    }
   ],
   "source": [
    "# read in the needed data\n",
    "df_2017_2020_donations = pd.read_csv('../../Data/don/2017_2020.csv')\n",
    "df_2017_2020_donations_2 = pd.read_csv('../../Data/don/2017_2020_pt2.csv')"
   ]
  },
  {
   "cell_type": "markdown",
   "metadata": {},
   "source": [
    "Because Donald Trump won the 2016 presidential election we do not have any candidates from the Republican party "
   ]
  },
  {
   "cell_type": "code",
   "execution_count": 626,
   "metadata": {},
   "outputs": [],
   "source": [
    "# part one of the 2020 candidates\n",
    "Biden = df_2017_2020_donations.loc[df_2017_2020_donations['CMTE_ID'].isin(['C00703975'])]\n",
    "Booker = df_2017_2020_donations.loc[df_2017_2020_donations['CMTE_ID'].isin(['C00695510'])]\n",
    "Buttigieg = df_2017_2020_donations.loc[df_2017_2020_donations['CMTE_ID'].isin(['C00697441'])]\n",
    "Castro = df_2017_2020_donations.loc[df_2017_2020_donations['CMTE_ID'].isin(['C00693044'])]\n",
    "Delaney = df_2017_2020_donations.loc[df_2017_2020_donations['CMTE_ID'].isin(['C00508416'])]\n",
    "Gabbard = df_2017_2020_donations.loc[df_2017_2020_donations['CMTE_ID'].isin(['C00693713'])]\n",
    "Klobuchar = df_2017_2020_donations.loc[df_2017_2020_donations['CMTE_ID'].isin(['C00696419'])]\n",
    "Sanders = df_2017_2020_donations.loc[df_2017_2020_donations['CMTE_ID'].isin(['C00696948'])]\n",
    "Steyer = df_2017_2020_donations.loc[df_2017_2020_donations['CMTE_ID'].isin(['C00711614'])]\n",
    "Warren = df_2017_2020_donations.loc[df_2017_2020_donations['CMTE_ID'].isin(['C00693234'])]\n",
    "Williamson = df_2017_2020_donations.loc[df_2017_2020_donations['CMTE_ID'].isin(['C00696054'])]\n",
    "Yang = df_2017_2020_donations.loc[df_2017_2020_donations['CMTE_ID'].isin(['C00659938'])]"
   ]
  },
  {
   "cell_type": "code",
   "execution_count": 507,
   "metadata": {},
   "outputs": [],
   "source": [
    "# part two of the 2020 candidates\n",
    "Biden_2 = df_2017_2020_donations_2.loc[df_2017_2020_donations_2['CMTE_ID'].isin(['C00703975'])]\n",
    "Booker_2 = df_2017_2020_donations_2.loc[df_2017_2020_donations_2['CMTE_ID'].isin(['C00695510'])]\n",
    "Buttigieg_2 = df_2017_2020_donations_2.loc[df_2017_2020_donations_2['CMTE_ID'].isin(['C00697441'])]\n",
    "Castro_2 = df_2017_2020_donations_2.loc[df_2017_2020_donations_2['CMTE_ID'].isin(['C00693044'])]\n",
    "Delaney_2 = df_2017_2020_donations_2.loc[df_2017_2020_donations_2['CMTE_ID'].isin(['C00508416'])]\n",
    "Gabbard_2 = df_2017_2020_donations_2.loc[df_2017_2020_donations_2['CMTE_ID'].isin(['C00693713'])]\n",
    "Klobuchar_2 = df_2017_2020_donations_2.loc[df_2017_2020_donations_2['CMTE_ID'].isin(['C00696419'])]\n",
    "Sanders_2 = df_2017_2020_donations_2.loc[df_2017_2020_donations_2['CMTE_ID'].isin(['C00696948'])]\n",
    "Steyer_2 = df_2017_2020_donations_2.loc[df_2017_2020_donations_2['CMTE_ID'].isin(['C00711614'])]\n",
    "Warren_2 = df_2017_2020_donations_2.loc[df_2017_2020_donations_2['CMTE_ID'].isin(['C00693234'])]\n",
    "Williamson_2 = df_2017_2020_donations_2.loc[df_2017_2020_donations_2['CMTE_ID'].isin(['C00696054'])]\n",
    "Yang_2 = df_2017_2020_donations_2.loc[df_2017_2020_donations_2['CMTE_ID'].isin(['C00659938'])]"
   ]
  },
  {
   "cell_type": "code",
   "execution_count": 508,
   "metadata": {},
   "outputs": [],
   "source": [
    "# write part 1 to the correct csv\n",
    "Biden.to_csv('../../Data/don/2017_2020_ind_cand/Biden.csv')\n",
    "Booker.to_csv('../../Data/don/2017_2020_ind_cand/Booker.csv')\n",
    "Buttigieg.to_csv('../../Data/don/2017_2020_ind_cand/Buttigieg.csv')\n",
    "Castro.to_csv('../../Data/don/2017_2020_ind_cand/Castro.csv') \n",
    "Delaney.to_csv('../../Data/don/2017_2020_ind_cand/Delaney.csv')\n",
    "Gabbard.to_csv('../../Data/don/2017_2020_ind_cand/Gabbard.csv')\n",
    "Klobuchar.to_csv('../../Data/don/2017_2020_ind_cand/Klobuchar.csv')\n",
    "Sanders.to_csv('../../Data/don/2017_2020_ind_cand/Sanders.csv')\n",
    "Steyer.to_csv('../../Data/don/2017_2020_ind_cand/Steyer.csv')\n",
    "Warren.to_csv('../../Data/don/2017_2020_ind_cand/Warren.csv')\n",
    "Williamson.to_csv('../../Data/don/2017_2020_ind_cand/Williamson.csv')\n",
    "Yang.to_csv('../../Data/don/2017_2020_ind_cand/Yang.csv')"
   ]
  },
  {
   "cell_type": "code",
   "execution_count": 509,
   "metadata": {},
   "outputs": [],
   "source": [
    "# write part 2 to the correct csv makeing sure not to over write part 1\n",
    "Biden_2.to_csv('../../Data/don/2017_2020_ind_cand/Biden2.csv')\n",
    "Booker_2.to_csv('../../Data/don/2017_2020_ind_cand/Booker2.csv')\n",
    "Buttigieg_2.to_csv('../../Data/don/2017_2020_ind_cand/Buttigieg2.csv')\n",
    "Castro_2.to_csv('../../Data/don/2017_2020_ind_cand/Castro2.csv') \n",
    "Delaney_2.to_csv('../../Data/don/2017_2020_ind_cand/Delaney2.csv')\n",
    "Gabbard_2.to_csv('../../Data/don/2017_2020_ind_cand/Gabbard2.csv')\n",
    "Klobuchar_2.to_csv('../../Data/don/2017_2020_ind_cand/Klobuchar2.csv')\n",
    "Sanders_2.to_csv('../../Data/don/2017_2020_ind_cand/Sanders2.csv')\n",
    "Steyer_2.to_csv('../../Data/don/2017_2020_ind_cand/Steyer2.csv')\n",
    "Warren_2.to_csv('../../Data/don/2017_2020_ind_cand/Warren2.csv')\n",
    "Williamson_2.to_csv('../../Data/don/2017_2020_ind_cand/Williamson2.csv')\n",
    "Yang_2.to_csv('../../Data/don/2017_2020_ind_cand/Yang2.csv')"
   ]
  },
  {
   "cell_type": "markdown",
   "metadata": {},
   "source": [
    "### Expenditures"
   ]
  },
  {
   "cell_type": "markdown",
   "metadata": {},
   "source": [
    "#### Expenditures for 2008 by candidate\n",
    "<a id=\"2008_expenditures_by_candidate\"></a>"
   ]
  },
  {
   "cell_type": "code",
   "execution_count": 88,
   "metadata": {},
   "outputs": [
    {
     "name": "stderr",
     "output_type": "stream",
     "text": [
      "/Library/Frameworks/Python.framework/Versions/3.6/lib/python3.6/site-packages/IPython/core/interactiveshell.py:3058: DtypeWarning: Columns (11) have mixed types. Specify dtype option on import or set low_memory=False.\n",
      "  interactivity=interactivity, compiler=compiler, result=result)\n"
     ]
    }
   ],
   "source": [
    "df_2008_exp = pd.read_csv('../../Data/exp/2005_2008_exp.csv') "
   ]
  },
  {
   "cell_type": "code",
   "execution_count": 89,
   "metadata": {},
   "outputs": [],
   "source": [
    "df_2008_exp.drop(columns=['AMNDT_IND','RPT_TP','LINE_NUM','FORM_TP_CD','NAME','CITY',\n",
    "                          'CATEGORY','CATEGORY_DESC','MEMO_CD','ENTITY_TP','25'],inplace = True)"
   ]
  },
  {
   "cell_type": "code",
   "execution_count": 90,
   "metadata": {},
   "outputs": [],
   "source": [
    "# list of the Democratic candidates in the primary 2008\n",
    "Obama = df_2008_exp.loc[df_2008_exp['CMTE_ID'].isin(['C00431445'])]\n",
    "Clinton = df_2008_exp.loc[df_2008_exp['CMTE_ID'].isin(['C00431569'])]\n",
    "Edwards = df_2008_exp.loc[df_2008_exp['CMTE_ID'].isin(['C00431205'])]\n",
    "Richardson = df_2008_exp.loc[df_2008_exp['CMTE_ID'].isin(['C00431577'])]\n",
    "Biden = df_2008_exp.loc[df_2008_exp['CMTE_ID'].isin(['C00334037'])]\n",
    "Dodd = df_2008_exp.loc[df_2008_exp['CMTE_ID'].isin(['C00431379'])]\n",
    "Gravel = df_2008_exp.loc[df_2008_exp['CMTE_ID'].isin(['C00423202'])]\n",
    "Kucinich = df_2008_exp.loc[df_2008_exp['CMTE_ID'].isin(['C00430975'])]\n",
    "# list of the Republican candidates in the primary 2008\n",
    "McCain = df_2008_exp.loc[df_2008_exp['CMTE_ID'].isin(['C00430470'])]\n",
    "Huckabee = df_2008_exp.loc[df_2008_exp['CMTE_ID'].isin(['C00431809'])]\n",
    "Romney = df_2008_exp.loc[df_2008_exp['CMTE_ID'].isin(['C00431171'])]\n",
    "Paul = df_2008_exp.loc[df_2008_exp['CMTE_ID'].isin(['C00432914'])]\n",
    "Thompson = df_2008_exp.loc[df_2008_exp['CMTE_ID'].isin(['C00438507'])]\n",
    "Keyes = df_2008_exp.loc[df_2008_exp['CMTE_ID'].isin(['C00452532'])]\n",
    "Hunter = df_2008_exp.loc[df_2008_exp['CMTE_ID'].isin(['C00431411'])]\n",
    "Giuliani = df_2008_exp.loc[df_2008_exp['CMTE_ID'].isin(['C00430512'])]"
   ]
  },
  {
   "cell_type": "code",
   "execution_count": 92,
   "metadata": {},
   "outputs": [],
   "source": [
    "Obama.to_csv('../../Data/exp/2008_ind_cand_exp/obama_exp.csv')\n",
    "Clinton.to_csv('../../Data/exp/2008_ind_cand_exp/Clinton_exp.csv')\n",
    "Edwards.to_csv('../../Data/exp/2008_ind_cand_exp/Edwards_exp.csv')\n",
    "Richardson.to_csv('../../Data/exp/2008_ind_cand_exp/Richardson_exp.csv')\n",
    "Biden.to_csv('../../Data/exp/2008_ind_cand_exp/Biden_exp.csv')\n",
    "Dodd.to_csv('../../Data/exp/2008_ind_cand_exp/Dodd_exp.csv')\n",
    "Gravel.to_csv('../../Data/exp/2008_ind_cand_exp/Gravel_exp.csv')\n",
    "Kucinich.to_csv('../../Data/exp/2008_ind_cand_exp/Kucinish_exp.csv')\n",
    "McCain.to_csv('../../Data/exp/2008_ind_cand_exp/MaCain_exp.csv')\n",
    "Huckabee.to_csv('../../Data/exp/2008_ind_cand_exp/Huckabee_exp.csv')\n",
    "Romney.to_csv('../../Data/exp/2008_ind_cand_exp/Romney_exp.csv')\n",
    "Paul.to_csv('../../Data/exp/2008_ind_cand_exp/Paul_exp.csv')\n",
    "Thompson.to_csv('../../Data/exp/2008_ind_cand_exp/Thompson_exp.csv')\n",
    "Keyes.to_csv('../../Data/exp/2008_ind_cand_exp/Keyes_exp.csv')\n",
    "Hunter.to_csv('../../Data/exp/2008_ind_cand_exp/Hunter_exp.csv')\n",
    "Giuliani.to_csv('../../Data/exp/2008_ind_cand_exp/Giuliani_exp.csv')"
   ]
  },
  {
   "cell_type": "markdown",
   "metadata": {},
   "source": [
    "#### Expenditures for 2012 by candidate\n",
    "<a id=\"2012_expenditures_by_candidate\"></a>"
   ]
  },
  {
   "cell_type": "code",
   "execution_count": 93,
   "metadata": {},
   "outputs": [
    {
     "name": "stderr",
     "output_type": "stream",
     "text": [
      "/Library/Frameworks/Python.framework/Versions/3.6/lib/python3.6/site-packages/IPython/core/interactiveshell.py:3058: DtypeWarning: Columns (11,14) have mixed types. Specify dtype option on import or set low_memory=False.\n",
      "  interactivity=interactivity, compiler=compiler, result=result)\n"
     ]
    }
   ],
   "source": [
    "df_2012_exp = pd.read_csv('../../Data/exp/2009_2012_exp.csv') "
   ]
  },
  {
   "cell_type": "code",
   "execution_count": 94,
   "metadata": {},
   "outputs": [],
   "source": [
    "df_2012_exp.drop(columns=['AMNDT_IND','RPT_TP','LINE_NUM','FORM_TP_CD','NAME','CITY',\n",
    "                          'CATEGORY','CATEGORY_DESC','MEMO_CD','ENTITY_TP','25'],inplace = True)"
   ]
  },
  {
   "cell_type": "code",
   "execution_count": 95,
   "metadata": {},
   "outputs": [],
   "source": [
    "Romney_exp = df_2012_exp.loc[df_2012_exp['CMTE_ID'].isin(['C00431171'])]\n",
    "Santorum_exp =df_2012_exp.loc[df_2012_exp['CMTE_ID'].isin(['C00496034'])] \n",
    "Paul_exp = df_2012_exp.loc[df_2012_exp['CMTE_ID'].isin(['C00495820'])]\n",
    "Gingrich_exp = df_2012_exp.loc[df_2012_exp['CMTE_ID'].isin(['C00496497'])] "
   ]
  },
  {
   "cell_type": "code",
   "execution_count": 96,
   "metadata": {},
   "outputs": [],
   "source": [
    "Romney_exp.to_csv('../../Data/exp/2012_ind_cand_exp/Romney_exp.csv')\n",
    "Santorum_exp.to_csv('../../Data/exp/2012_ind_cand_exp/Santorum_exp.csv')\n",
    "Paul_exp.to_csv('../../Data/exp/2012_ind_cand_exp/Paul_exp.csv')\n",
    "Gingrich_exp.to_csv('../../Data/exp/2012_ind_cand_exp/Gingrich_exp.csv')"
   ]
  },
  {
   "cell_type": "markdown",
   "metadata": {},
   "source": [
    "#### Expenditures for 2016 by candidate\n",
    "<a id=\"2016_expenditures_by_candidate\"></a>"
   ]
  },
  {
   "cell_type": "code",
   "execution_count": 97,
   "metadata": {},
   "outputs": [
    {
     "name": "stderr",
     "output_type": "stream",
     "text": [
      "/Library/Frameworks/Python.framework/Versions/3.6/lib/python3.6/site-packages/IPython/core/interactiveshell.py:3058: DtypeWarning: Columns (12) have mixed types. Specify dtype option on import or set low_memory=False.\n",
      "  interactivity=interactivity, compiler=compiler, result=result)\n"
     ]
    }
   ],
   "source": [
    "df_2016_exp = pd.read_csv('../../Data/exp/2013_2016_exp.csv') "
   ]
  },
  {
   "cell_type": "code",
   "execution_count": 98,
   "metadata": {},
   "outputs": [],
   "source": [
    "df_2016_exp.drop(columns=['AMNDT_IND','RPT_TP','FORM_TP_CD','NAME','CITY',\n",
    "                          'CATEGORY','CATEGORY_DESC','MEMO_CD','ENTITY_TP','25'],inplace = True)"
   ]
  },
  {
   "cell_type": "code",
   "execution_count": 146,
   "metadata": {},
   "outputs": [],
   "source": [
    "Trump_exp = df_2016_exp.loc[df_2016_exp['CMTE_ID'].isin(['C00580100'])]\n",
    "Cruz_exp = df_2016_exp.loc[df_2016_exp['CMTE_ID'].isin(['C00574624'])]\n",
    "Kasich_exp = df_2016_exp.loc[df_2016_exp['CMTE_ID'].isin(['C00581876'])]\n",
    "Rubio_exp = df_2016_exp.loc[df_2016_exp['CMTE_ID'].isin(['C00458844'])]\n",
    "Carson_exp = df_2016_exp.loc[df_2016_exp['CMTE_ID'].isin(['C00573519'])]\n",
    "Bush_exp = df_2016_exp.loc[df_2016_exp['CMTE_ID'].isin(['C00579458'])]\n",
    "Paul_exp = df_2016_exp.loc[df_2016_exp['CMTE_ID'].isin(['C00575449'])]\n",
    "Christie_exp = df_2016_exp.loc[df_2016_exp['CMTE_ID'].isin(['C00580399'])]\n",
    "Huckabee_exp = df_2016_exp.loc[df_2016_exp['CMTE_ID'].isin(['C00577981'])]\n",
    "Fiorina_exp = df_2016_exp.loc[df_2016_exp['CMTE_ID'].isin(['C00577312'])]\n",
    "Gilmore_exp = df_2016_exp.loc[df_2016_exp['CMTE_ID'].isin(['C00582668'])]\n",
    "Santorum_exp = df_2016_exp.loc[df_2016_exp['CMTE_ID'].isin(['C00578492'])]\n",
    "Perry_exp = df_2016_exp.loc[df_2016_exp['CMTE_ID'].isin(['C00500587'])]\n",
    "Walker_exp = df_2016_exp.loc[df_2016_exp['CMTE_ID'].isin(['C00580480'])]\n",
    "Jindal_exp = df_2016_exp.loc[df_2016_exp['CMTE_ID'].isin(['C00580159'])]\n",
    "Graham_exp = df_2016_exp.loc[df_2016_exp['CMTE_ID'].isin(['C00578757'])]\n",
    "Pataki_exp = df_2016_exp.loc[df_2016_exp['CMTE_ID'].isin(['C00578245'])]\n",
    "# Demoratic candidates for 2016_pt2\n",
    "# Democrat candidates for 2016\n",
    "Clinton_2016_exp = df_2016_exp.loc[df_2016_exp['CMTE_ID'].isin(['C00575795'])]\n",
    "Sanders_2016_exp = df_2016_exp.loc[df_2016_exp['CMTE_ID'].isin(['C00577130'])]\n",
    "OMalley_exp = df_2016_exp.loc[df_2016_exp['CMTE_ID'].isin(['C00578658'])]"
   ]
  },
  {
   "cell_type": "code",
   "execution_count": 100,
   "metadata": {},
   "outputs": [],
   "source": [
    "Trump_exp.to_csv('../../Data/exp/2016_ind_cand_exp/Trump_exp.csv')\n",
    "Cruz_exp.to_csv('../../Data/exp/2016_ind_cand_exp/Cruz_exp.csv')\n",
    "Kasich_exp.to_csv('../../Data/exp/2016_ind_cand_exp/Kasich_exp.csv')\n",
    "Rubio_exp.to_csv('../../Data/exp/2016_ind_cand_exp/Rubio_exp.csv')\n",
    "Carson_exp.to_csv('../../Data/exp/2016_ind_cand_exp/Carson_exp.csv')\n",
    "Bush_exp.to_csv('../../Data/exp/2016_ind_cand_exp/Bush_exp.csv')\n",
    "Paul_exp.to_csv('../../Data/exp/2016_ind_cand_exp/Paul_exp.csv')\n",
    "Christie_exp.to_csv('../../Data/exp/2016_ind_cand_exp/Christie_exp.csv')\n",
    "Huckabee_exp.to_csv('../../Data/exp/2016_ind_cand_exp/Huckabee_exp.csv')\n",
    "Fiorina_exp.to_csv('../../Data/exp/2016_ind_cand_exp/Fiorina_exp.csv')\n",
    "Gilmore_exp.to_csv('../../Data/exp/2016_ind_cand_exp/Gilmore_exp.csv')\n",
    "Santorum_exp.to_csv('../../Data/exp/2016_ind_cand_exp/Santorum_exp.csv')\n",
    "Perry_exp.to_csv('../../Data/exp/2016_ind_cand_exp/Perry_exp.csv')\n",
    "Walker_exp.to_csv('../../Data/exp/2016_ind_cand_exp/Walker_exp.csv')\n",
    "Jindal_exp.to_csv('../../Data/exp/2016_ind_cand_exp/Jindal_exp.csv')\n",
    "Graham_exp.to_csv('../../Data/exp/2016_ind_cand_exp/Graham_exp.csv')\n",
    "Pataki_exp.to_csv('../../Data/exp/2016_ind_cand_exp/Pataki_exp.csv')\n",
    "Clinton_2016_exp.to_csv('../../Data/exp/2016_ind_cand_exp/Clinton_exp.csv')\n",
    "Sanders_2016_exp.to_csv('../../Data/exp/2016_ind_cand_exp/Sanders_exp.csv')\n",
    "OMalley_exp.to_csv('../../Data/exp/2016_ind_cand_exp/OMalley_exp.csv')"
   ]
  },
  {
   "cell_type": "markdown",
   "metadata": {},
   "source": [
    "#### Expenditures for 2020 candidates\n",
    "<a id=\"2020_expenditures_by_candidate\"></a>"
   ]
  },
  {
   "cell_type": "code",
   "execution_count": 627,
   "metadata": {},
   "outputs": [
    {
     "name": "stderr",
     "output_type": "stream",
     "text": [
      "/Library/Frameworks/Python.framework/Versions/3.6/lib/python3.6/site-packages/IPython/core/interactiveshell.py:3058: DtypeWarning: Columns (12) have mixed types. Specify dtype option on import or set low_memory=False.\n",
      "  interactivity=interactivity, compiler=compiler, result=result)\n"
     ]
    }
   ],
   "source": [
    "df_2020_exp = pd.read_csv('../../Data/exp/2017_2020_exp.csv')"
   ]
  },
  {
   "cell_type": "code",
   "execution_count": 628,
   "metadata": {},
   "outputs": [],
   "source": [
    "Biden_exp =df_2020_exp.loc[df_2020_exp['CMTE_ID'].isin(['C00703975'])]\n",
    "Booker_exp =df_2020_exp.loc[df_2020_exp['CMTE_ID'].isin(['C00695510'])]\n",
    "Buttigieg_exp =df_2020_exp.loc[df_2020_exp['CMTE_ID'].isin(['C00697441'])]\n",
    "Castro_exp =df_2020_exp.loc[df_2020_exp['CMTE_ID'].isin(['C00693044'])]\n",
    "Delaney_exp =df_2020_exp.loc[df_2020_exp['CMTE_ID'].isin(['C00508416'])]\n",
    "Gabbard_exp =df_2020_exp.loc[df_2020_exp['CMTE_ID'].isin(['C00693713'])]\n",
    "Klobuchar_exp =df_2020_exp.loc[df_2020_exp['CMTE_ID'].isin(['C00696419'])]\n",
    "Sanders_exp =df_2020_exp.loc[df_2020_exp['CMTE_ID'].isin(['C00696948'])]\n",
    "Steyer_exp =df_2020_exp.loc[df_2020_exp['CMTE_ID'].isin(['C00711614'])]\n",
    "Warren_exp =df_2020_exp.loc[df_2020_exp['CMTE_ID'].isin(['C00693234'])]\n",
    "Williamson_exp =df_2020_exp.loc[df_2020_exp['CMTE_ID'].isin(['C00696054'])]\n",
    "Yang_exp =df_2020_exp.loc[df_2020_exp['CMTE_ID'].isin(['C00659938'])]"
   ]
  },
  {
   "cell_type": "code",
   "execution_count": 634,
   "metadata": {},
   "outputs": [],
   "source": [
    "Biden_exp.to_csv('../../Data/exp/2020_exp/Biden_exp.csv')\n",
    "Booker_exp.to_csv('../../Data/exp/2020_exp/Booker_exp.csv')\n",
    "Buttigieg_exp.to_csv('../../Data/exp/2020_exp/Buttigieg_exp.csv')\n",
    "Castro_exp.to_csv('../../Data/exp/2020_exp/Castro_exp.csv') \n",
    "Delaney_exp.to_csv('../../Data/exp/2020_exp/Delaney_exp.csv')\n",
    "Gabbard_exp.to_csv('../../Data/exp/2020_exp/Gabbard_exp.csv')\n",
    "Klobuchar_exp.to_csv('../../Data/exp/2020_exp/Klobuchar_exp.csv')\n",
    "Sanders_exp.to_csv('../../Data/exp/2020_exp/Sanders_exp.csv')\n",
    "Steyer_exp.to_csv('../../Data/exp/2020_exp/Steyer_exp.csv')\n",
    "Warren_exp.to_csv('../../Data/exp/2020_exp/Warren_exp.csv')\n",
    "Williamson_exp.to_csv('../../Data/exp/2020_exp/Williamson_exp.csv')\n",
    "Yang_exp.to_csv('../../Data/exp/2020_exp/Yang_exp.csv')"
   ]
  },
  {
   "cell_type": "markdown",
   "metadata": {},
   "source": [
    "### Condensing 2016 & 2020 data"
   ]
  },
  {
   "cell_type": "markdown",
   "metadata": {},
   "source": [
    "After looking at size of this data set I believe that we can further reduce the csv's into just 2016 and 2020 and not need a parts 1 and 2. To do this we will merge the data frames using `pd.concat` we can do this be cause we are expecting the same rows for each data frame. "
   ]
  },
  {
   "cell_type": "markdown",
   "metadata": {},
   "source": [
    "#### 2016 individual candidates condensed "
   ]
  },
  {
   "cell_type": "code",
   "execution_count": 101,
   "metadata": {},
   "outputs": [
    {
     "name": "stderr",
     "output_type": "stream",
     "text": [
      "/Library/Frameworks/Python.framework/Versions/3.6/lib/python3.6/site-packages/IPython/core/interactiveshell.py:3058: DtypeWarning: Columns (9) have mixed types. Specify dtype option on import or set low_memory=False.\n",
      "  interactivity=interactivity, compiler=compiler, result=result)\n"
     ]
    }
   ],
   "source": [
    "# read in just the csv for the candidates\n",
    "Trump_pt2= pd.read_csv('../../Data/don/2013_2016_ind_cand/Trump_2016_pt2.csv')\n",
    "Cruz_pt2= pd.read_csv('../../Data/don/2013_2016_ind_cand/Cruz_2016_pt2.csv')\n",
    "Kasich_pt2= pd.read_csv('../../Data/don/2013_2016_ind_cand/Kasich_2016_pt2.csv') \n",
    "Rubio_pt2= pd.read_csv('../../Data/don/2013_2016_ind_cand/Rubio_2016_pt2.csv')\n",
    "Carson_pt2= pd.read_csv('../../Data/don/2013_2016_ind_cand/Carson_2016_pt2.csv')\n",
    "Bush_pt2= pd.read_csv('../../Data/don/2013_2016_ind_cand/Bush_2016_pt2.csv')\n",
    "Paul_pt2= pd.read_csv('../../Data/don/2013_2016_ind_cand/Paul_2016_pt2.csv') \n",
    "Christie_pt2= pd.read_csv('../../Data/don/2013_2016_ind_cand/Christie_2016_pt2.csv')\n",
    "Huckabee_pt2= pd.read_csv('../../Data/don/2013_2016_ind_cand/Huckabee_2016_pt2.csv')\n",
    "Fiorina_pt2= pd.read_csv('../../Data/don/2013_2016_ind_cand/Fiorina_2016_pt2.csv')\n",
    "Gilmore_pt2= pd.read_csv('../../Data/don/2013_2016_ind_cand/Gilmore_2016_pt2.csv') \n",
    "Santorum_pt2= pd.read_csv('../../Data/don/2013_2016_ind_cand/Santorum_2016_pt2.csv')\n",
    "Perry_pt2= pd.read_csv('../../Data/don/2013_2016_ind_cand/Perry_2016_pt2.csv')\n",
    "Walker_pt2= pd.read_csv('../../Data/don/2013_2016_ind_cand/Walker_2016_pt2.csv')\n",
    "Jindal_pt2= pd.read_csv('../../Data/don/2013_2016_ind_cand/Jindal_2016_pt2.csv') \n",
    "Grahm_pt2= pd.read_csv('../../Data/don/2013_2016_ind_cand/Grahm_2016_pt2.csv')\n",
    "Pataki_pt2= pd.read_csv('../../Data/don/2013_2016_ind_cand/Pataki_2016_pt2.csv')\n",
    "# demacratic nomanies \n",
    "Clinton_pt2= pd.read_csv('../../Data/don/2013_2016_ind_cand/Clinton_2016_pt2.csv')\n",
    "Sanders_pt2= pd.read_csv('../../Data/don/2013_2016_ind_cand/Sanders_2016_pt2.csv') \n",
    "Omalley_pt2= pd.read_csv('../../Data/don/2013_2016_ind_cand/Omalley_2016_pt2.csv')"
   ]
  },
  {
   "cell_type": "code",
   "execution_count": 102,
   "metadata": {},
   "outputs": [],
   "source": [
    "# read in just the path for the candidates \n",
    "Trump_pt1= pd.read_csv('../../Data/don/2013_2016_ind_cand/Trump_2016.csv')\n",
    "Cruz_pt1= pd.read_csv('../../Data/don/2013_2016_ind_cand/Cruz_2016.csv')\n",
    "Kasich_pt1= pd.read_csv('../../Data/don/2013_2016_ind_cand/Kasich_2016.csv') \n",
    "Rubio_pt1= pd.read_csv('../../Data/don/2013_2016_ind_cand/Rubio_2016.csv')\n",
    "Carson_pt1= pd.read_csv('../../Data/don/2013_2016_ind_cand/Carson_2016.csv')\n",
    "Bush_pt1= pd.read_csv('../../Data/don/2013_2016_ind_cand/Bush_2016.csv')\n",
    "Paul_pt1= pd.read_csv('../../Data/don/2013_2016_ind_cand/Paul_2016.csv') \n",
    "Christie_pt1= pd.read_csv('../../Data/don/2013_2016_ind_cand/Christie_2016.csv')\n",
    "Huckabee_pt1= pd.read_csv('../../Data/don/2013_2016_ind_cand/Huckabee_2016.csv')\n",
    "Fiorina_pt1= pd.read_csv('../../Data/don/2013_2016_ind_cand/Fiorina_2016.csv')\n",
    "Gilmore_pt1= pd.read_csv('../../Data/don/2013_2016_ind_cand/Gilmore_2016.csv') \n",
    "Santorum_pt1= pd.read_csv('../../Data/don/2013_2016_ind_cand/Santorum_2016.csv')\n",
    "Perry_pt1= pd.read_csv('../../Data/don/2013_2016_ind_cand/Perry_2016.csv')\n",
    "Walker_pt1= pd.read_csv('../../Data/don/2013_2016_ind_cand/Walker_2016.csv')\n",
    "Jindal_pt1= pd.read_csv('../../Data/don/2013_2016_ind_cand/Jindal_2016.csv') \n",
    "Grahm_pt1= pd.read_csv('../../Data/don/2013_2016_ind_cand/Grahm_2016.csv')\n",
    "Pataki_pt1= pd.read_csv('../../Data/don/2013_2016_ind_cand/Pataki_2016.csv')\n",
    "# demacratic nomanies \n",
    "Clinton_pt1= pd.read_csv('../../Data/don/2013_2016_ind_cand/Clinton_2016.csv')\n",
    "Sanders_pt1= pd.read_csv('../../Data/don/2013_2016_ind_cand/Sanders_2016.csv') \n",
    "Omalley_pt1= pd.read_csv('../../Data/don/2013_2016_ind_cand/Omalley_2016.csv')"
   ]
  },
  {
   "cell_type": "code",
   "execution_count": 267,
   "metadata": {},
   "outputs": [],
   "source": [
    "# concat the two data frames together into one data frame \n",
    "Trump = pd.concat([Trump_pt1,Trump_pt2])\n",
    "Cruz = pd.concat([Cruz_pt1,Cruz_pt2])\n",
    "Kasich = pd.concat([Kasich_pt1,Kasich_pt2])\n",
    "Rubio = pd.concat([Rubio_pt1,Rubio_pt2])\n",
    "Carson = pd.concat([Carson_pt1,Carson_pt2])\n",
    "Bush = pd.concat([Bush_pt1,Bush_pt2])\n",
    "Paul = pd.concat([Paul_pt1,Paul_pt2])\n",
    "Christie = pd.concat([Christie_pt1,Christie_pt2])\n",
    "Huckabee = pd.concat([Huckabee_pt1,Huckabee_pt2])\n",
    "Fiorina = pd.concat([Fiorina_pt1,Fiorina_pt2])\n",
    "Gilmore = pd.concat([Gilmore_pt1,Gilmore_pt2])\n",
    "Santorum = pd.concat([Santorum_pt1,Santorum_pt2])\n",
    "Perry = pd.concat([Perry_pt1,Perry_pt2]) \n",
    "Walker = pd.concat([Walker_pt1,Walker_pt2]) \n",
    "Jindal = pd.concat([Jindal_pt1,Jindal_pt2]) \n",
    "Grahm = pd.concat([Grahm_pt1,Grahm_pt2])  \n",
    "Pataki = pd.concat([Pataki_pt1,Pataki_pt2])\n",
    "Clinton = pd.concat([Clinton_pt1,Clinton_pt2])\n",
    "Sanders = pd.concat([Sanders_pt1,Sanders_pt2])\n",
    "Omalley = pd.concat([Omalley_pt1,Omalley_pt2])"
   ]
  },
  {
   "cell_type": "code",
   "execution_count": 510,
   "metadata": {},
   "outputs": [],
   "source": [
    "Biden = pd.read_csv('../../Data/don/2017_2020_ind_cand/Biden.csv')\n",
    "Booker = pd.read_csv('../../Data/don/2017_2020_ind_cand/Booker.csv')\n",
    "Buttigieg = pd.read_csv('../../Data/don/2017_2020_ind_cand/Buttigieg.csv')\n",
    "Castro = pd.read_csv('../../Data/don/2017_2020_ind_cand/Castro.csv') \n",
    "Delaney = pd.read_csv('../../Data/don/2017_2020_ind_cand/Delaney.csv')\n",
    "Gabbard = pd.read_csv('../../Data/don/2017_2020_ind_cand/Gabbard.csv')\n",
    "Klobuchar = pd.read_csv('../../Data/don/2017_2020_ind_cand/Klobuchar.csv')\n",
    "Sanders = pd.read_csv('../../Data/don/2017_2020_ind_cand/Sanders.csv')\n",
    "Steyer = pd.read_csv('../../Data/don/2017_2020_ind_cand/Steyer.csv')\n",
    "Warren = pd.read_csv('../../Data/don/2017_2020_ind_cand/Warren.csv')\n",
    "Williamson = pd.read_csv('../../Data/don/2017_2020_ind_cand/Williamson.csv')\n",
    "Yang = pd.read_csv('../../Data/don/2017_2020_ind_cand/Yang.csv')"
   ]
  },
  {
   "cell_type": "code",
   "execution_count": 511,
   "metadata": {},
   "outputs": [],
   "source": [
    "Biden2 = pd.read_csv('../../Data/don/2017_2020_ind_cand/Biden2.csv')\n",
    "Booker2 = pd.read_csv('../../Data/don/2017_2020_ind_cand/Booker2.csv')\n",
    "Buttigieg2 = pd.read_csv('../../Data/don/2017_2020_ind_cand/Buttigieg2.csv')\n",
    "Castro2 = pd.read_csv('../../Data/don/2017_2020_ind_cand/Castro2.csv') \n",
    "Delaney2 = pd.read_csv('../../Data/don/2017_2020_ind_cand/Delaney2.csv')\n",
    "Gabbard2 = pd.read_csv('../../Data/don/2017_2020_ind_cand/Gabbard2.csv')\n",
    "Klobuchar2 = pd.read_csv('../../Data/don/2017_2020_ind_cand/Klobuchar2.csv')\n",
    "Sanders2 = pd.read_csv('../../Data/don/2017_2020_ind_cand/Sanders2.csv')\n",
    "Steyer2 = pd.read_csv('../../Data/don/2017_2020_ind_cand/Steyer2.csv')\n",
    "Warren2 = pd.read_csv('../../Data/don/2017_2020_ind_cand/Warren2.csv')\n",
    "Williamson2 = pd.read_csv('../../Data/don/2017_2020_ind_cand/Williamson2.csv')\n",
    "Yang2 = pd.read_csv('../../Data/don/2017_2020_ind_cand/Yang2.csv')"
   ]
  },
  {
   "cell_type": "code",
   "execution_count": 512,
   "metadata": {},
   "outputs": [],
   "source": [
    "Biden = pd.concat([Biden,Biden2])\n",
    "Booker = pd.concat([Booker,Booker2])\n",
    "Buttigieg = pd.concat([Buttigieg,Buttigieg2])\n",
    "Castro = pd.concat([Castro,Castro2])\n",
    "Delaney = pd.concat([Delaney,Delaney2])\n",
    "Gabbard = pd.concat([Gabbard,Gabbard2])\n",
    "Klobuchar = pd.concat([Klobuchar,Klobuchar2])\n",
    "Sanders = pd.concat([Sanders,Sanders2])\n",
    "Steyer = pd.concat([Steyer,Steyer2])\n",
    "Warren = pd.concat([Warren,Warren2])\n",
    "Williamson = pd.concat([Williamson,Williamson2])\n",
    "Yang = pd.concat([Yang,Yang2])"
   ]
  },
  {
   "cell_type": "code",
   "execution_count": 515,
   "metadata": {},
   "outputs": [],
   "source": [
    "Biden.to_csv('../../Data/don/2017_2020_ind_cand_final/Biden.csv')\n",
    "Booker.to_csv('../../Data/don/2017_2020_ind_cand_final/Booker.csv')\n",
    "Buttigieg.to_csv('../../Data/don/2017_2020_ind_cand_final/Buttigieg.csv')\n",
    "Castro.to_csv('../../Data/don/2017_2020_ind_cand_final/Castro.csv')\n",
    "Delaney.to_csv('../../Data/don/2017_2020_ind_cand_final/Delaney.csv')\n",
    "Gabbard.to_csv('../../Data/don/2017_2020_ind_cand_final/Gabbard.csv')\n",
    "Klobuchar.to_csv('../../Data/don/2017_2020_ind_cand_final/Klobuchar.csv')\n",
    "Sanders.to_csv('../../Data/don/2017_2020_ind_cand_final/Sanders.csv')\n",
    "Steyer.to_csv('../../Data/don/2017_2020_ind_cand_final/Steyer.csv')\n",
    "Warren.to_csv('../../Data/don/2017_2020_ind_cand_final/Warren.csv')\n",
    "Williamson.to_csv('../../Data/don/2017_2020_ind_cand_final/Williamson.csv')\n",
    "Yang.to_csv('../../Data/don/2017_2020_ind_cand_final/Yang.csv')"
   ]
  },
  {
   "cell_type": "code",
   "execution_count": 268,
   "metadata": {},
   "outputs": [],
   "source": [
    "# put the 2016 candidates in a final csv \n",
    "Trump.to_csv('../../Data/don/2013_2016_ind_cand_final/Trump_2016_don_clean.csv')\n",
    "Cruz.to_csv('../../Data/don/2013_2016_ind_cand_final/Cruz_2016_don_clean.csv')\n",
    "Kasich.to_csv('../../Data/don/2013_2016_ind_cand_final/Kasich_2016_don_clean.csv')\n",
    "Rubio.to_csv('../../Data/don/2013_2016_ind_cand_final/Rubio_2016_don_clean.csv')\n",
    "Carson.to_csv('../../Data/don/2013_2016_ind_cand_final/Carson_2016_don_clean.csv')\n",
    "Bush.to_csv('../../Data/don/2013_2016_ind_cand_final/Bush_2016_don_clean.csv')\n",
    "Paul.to_csv('../../Data/don/2013_2016_ind_cand_final/Paul_2016_don_clean.csv')\n",
    "Christie.to_csv('../../Data/don/2013_2016_ind_cand_final/Christie_2016_don_clean.csv')\n",
    "Huckabee.to_csv('../../Data/don/2013_2016_ind_cand_final/Huckabee_2016_don_clean.csv')\n",
    "Fiorina.to_csv('../../Data/don/2013_2016_ind_cand_final/Fiorina_2016_don_clean.csv')\n",
    "Gilmore.to_csv('../../Data/don/2013_2016_ind_cand_final/Gilmore_2016_don_clean.csv')\n",
    "Santorum.to_csv('../../Data/don/2013_2016_ind_cand_final/Santorm_2016_don_clean.csv')\n",
    "Perry.to_csv('../../Data/don/2013_2016_ind_cand_final/Perry_2016_don_clean.csv')\n",
    "Walker.to_csv('../../Data/don/2013_2016_ind_cand_final/Walker_2016_don_clean.csv')\n",
    "Jindal.to_csv('../../Data/don/2013_2016_ind_cand_final/Jindal_2016_don_clean.csv')\n",
    "Grahm.to_csv('../../Data/don/2013_2016_ind_cand_final/Grahm_2016_don_clean.csv')\n",
    "Pataki.to_csv('../../Data/don/2013_2016_ind_cand_final/Pataki_2016_don_clean.csv')\n",
    "Clinton.to_csv('../../Data/don/2013_2016_ind_cand_final/Clinton_2016_don_clean.csv')\n",
    "Sanders.to_csv('../../Data/don/2013_2016_ind_cand_final/Sanders_2016_don_clean.csv')\n",
    "Omalley.to_csv('../../Data/don/2013_2016_ind_cand_final/Omalley_2016_don_clean.csv')"
   ]
  },
  {
   "cell_type": "markdown",
   "metadata": {},
   "source": [
    "Now that this process is finished our data is clearly organized in the correct folders and can be used for other sections. The folder should be around 4GB of data containing the 2008-2020 donations and expenditures for the individual candidates. Our data still needs to be organized into a format to be read in by the life lines package so we will further organize this data and boil it down to one row for each candidate showing the quarter by quarter donations expenditures and a one hot encoded column of the types of expenditures.  "
   ]
  },
  {
   "cell_type": "markdown",
   "metadata": {},
   "source": [
    "### Data Cleaning part 3: Organizing the Data"
   ]
  },
  {
   "cell_type": "markdown",
   "metadata": {},
   "source": [
    "#### 2008 organization"
   ]
  },
  {
   "cell_type": "code",
   "execution_count": 587,
   "metadata": {},
   "outputs": [
    {
     "name": "stderr",
     "output_type": "stream",
     "text": [
      "/Library/Frameworks/Python.framework/Versions/3.6/lib/python3.6/site-packages/IPython/core/interactiveshell.py:3058: DtypeWarning: Columns (9) have mixed types. Specify dtype option on import or set low_memory=False.\n",
      "  interactivity=interactivity, compiler=compiler, result=result)\n"
     ]
    }
   ],
   "source": [
    "Obama = pd.read_csv('../../Data/don/2005_2008_ind_cand/Obama_2008.csv')\n",
    "Clinton = pd.read_csv('../../Data/don/2005_2008_ind_cand/Clinton_2008.csv')\n",
    "Edwards = pd.read_csv('../../Data/don/2005_2008_ind_cand/Edwards_2008.csv')\n",
    "Richardson = pd.read_csv('../../Data/don/2005_2008_ind_cand/Richardson_2008.csv')\n",
    "Biden = pd.read_csv('../../Data/don/2005_2008_ind_cand/Biden_2008.csv')\n",
    "Dodd = pd.read_csv('../../Data/don/2005_2008_ind_cand/Dodd_2008.csv')\n",
    "Gravel = pd.read_csv('../../Data/don/2005_2008_ind_cand/Gravel_2008.csv')\n",
    "Kucinich = pd.read_csv('../../Data/don/2005_2008_ind_cand/Kucinich_2008.csv')\n",
    "McCain = pd.read_csv('../../Data/don/2005_2008_ind_cand/McCain_2008.csv')\n",
    "Huckabee = pd.read_csv('../../Data/don/2005_2008_ind_cand/Huckabee_2008.csv')\n",
    "Romney = pd.read_csv('../../Data/don/2005_2008_ind_cand/Romney_2008.csv')\n",
    "Paul = pd.read_csv('../../Data/don/2005_2008_ind_cand/Paul_2008.csv')\n",
    "Thompson = pd.read_csv('../../Data/don/2005_2008_ind_cand/Thompson_2008.csv')\n",
    "Keyes = pd.read_csv('../../Data/don/2005_2008_ind_cand/Keyes_2008.csv')\n",
    "Hunter = pd.read_csv('../../Data/don/2005_2008_ind_cand/Hunter_2008.csv') \n",
    "Giuliani = pd.read_csv('../../Data/don/2005_2008_ind_cand/Giuliani_2008.csv')"
   ]
  },
  {
   "cell_type": "code",
   "execution_count": 588,
   "metadata": {},
   "outputs": [],
   "source": [
    "df_2008_GOP = pd.DataFrame(columns = ['Candidate'])\n",
    "df_2008_DCCC = pd.DataFrame(columns = ['Candidate'])\n",
    "df_2008_GOP['Candidate'] = ['McCain','Huckabee','Romney','Paul',\n",
    "                                     'Thompson','Keyes','Hunter','Giuliani']\n",
    "df_2008_DCCC['Candidate'] = ['Obama','Clinton','Edwards','Richardson',\n",
    "                                     'Biden','Dodd','Gravel','Kucinich']"
   ]
  },
  {
   "cell_type": "code",
   "execution_count": 589,
   "metadata": {},
   "outputs": [],
   "source": [
    "def eng_fet_2008(df1,df2):\n",
    "    for i in df1.index:\n",
    "        data_frame = df2[i]\n",
    "        data_frame.set_index('TRANSACTION_DT',inplace = True)\n",
    "        q1_06 = data_frame.loc['2007-01-01':'2007-03-31']\n",
    "        q2_06 = data_frame.loc['2007-04-01':'2007-06-30']\n",
    "        q3_06 = data_frame.loc['2007-07-01':'2007-09-30']\n",
    "        q4_06 = data_frame.loc['2007-10-01':'2007-12-31']\n",
    "        q1_07 = data_frame.loc['2008-01-01':'2008-03-31']\n",
    "        q2_07 = data_frame.loc['2008-04-01':'2008-06-30']\n",
    "        q3_07 = data_frame.loc['2008-07-01':'2008-09-30']\n",
    "        df1.loc[i,'Q1_Don1'] = q1_06['TRANSACTION_AMT'].sum()\n",
    "        df1.loc[i,'Q2_Don1'] = q2_06['TRANSACTION_AMT'].sum()\n",
    "        df1.loc[i,'Q3_Don1'] = q3_06['TRANSACTION_AMT'].sum()\n",
    "        df1.loc[i,'Q4_Don1'] = q4_06['TRANSACTION_AMT'].sum()\n",
    "        df1.loc[i,'Q1_Don2'] = q1_07['TRANSACTION_AMT'].sum()\n",
    "        df1.loc[i,'Q2_Don2'] = q2_07['TRANSACTION_AMT'].sum()\n",
    "        df1.loc[i,'Q3_Don2'] = q3_07['TRANSACTION_AMT'].sum()\n",
    "\n",
    "        \n",
    "    return(df1)"
   ]
  },
  {
   "cell_type": "code",
   "execution_count": 590,
   "metadata": {},
   "outputs": [],
   "source": [
    "df_2008_GOP = eng_fet_2008(df_2008_GOP,[McCain,Huckabee,Romney,Paul,\n",
    "                                     Thompson,Keyes,Hunter,Giuliani])"
   ]
  },
  {
   "cell_type": "code",
   "execution_count": 591,
   "metadata": {},
   "outputs": [],
   "source": [
    "df_2008_DCCC = eng_fet_2008(df_2008_DCCC,[Obama,Clinton,Edwards,Richardson,\n",
    "                                     Biden,Dodd,Gravel,Kucinich])"
   ]
  },
  {
   "cell_type": "code",
   "execution_count": 592,
   "metadata": {},
   "outputs": [
    {
     "data": {
      "text/html": [
       "<div>\n",
       "<style scoped>\n",
       "    .dataframe tbody tr th:only-of-type {\n",
       "        vertical-align: middle;\n",
       "    }\n",
       "\n",
       "    .dataframe tbody tr th {\n",
       "        vertical-align: top;\n",
       "    }\n",
       "\n",
       "    .dataframe thead th {\n",
       "        text-align: right;\n",
       "    }\n",
       "</style>\n",
       "<table border=\"1\" class=\"dataframe\">\n",
       "  <thead>\n",
       "    <tr style=\"text-align: right;\">\n",
       "      <th></th>\n",
       "      <th>Candidate</th>\n",
       "      <th>Q1_Don1</th>\n",
       "      <th>Q2_Don1</th>\n",
       "      <th>Q3_Don1</th>\n",
       "      <th>Q4_Don1</th>\n",
       "      <th>Q1_Don2</th>\n",
       "      <th>Q2_Don2</th>\n",
       "      <th>Q3_Don2</th>\n",
       "    </tr>\n",
       "  </thead>\n",
       "  <tbody>\n",
       "    <tr>\n",
       "      <td>0</td>\n",
       "      <td>McCain</td>\n",
       "      <td>10572667.0</td>\n",
       "      <td>9499468.0</td>\n",
       "      <td>3884122.0</td>\n",
       "      <td>4617881.0</td>\n",
       "      <td>30783780.0</td>\n",
       "      <td>30877217.0</td>\n",
       "      <td>39673011.0</td>\n",
       "    </tr>\n",
       "    <tr>\n",
       "      <td>1</td>\n",
       "      <td>Huckabee</td>\n",
       "      <td>470915.0</td>\n",
       "      <td>597085.0</td>\n",
       "      <td>657684.0</td>\n",
       "      <td>4109812.0</td>\n",
       "      <td>3567779.0</td>\n",
       "      <td>10046.0</td>\n",
       "      <td>-100.0</td>\n",
       "    </tr>\n",
       "    <tr>\n",
       "      <td>2</td>\n",
       "      <td>Romney</td>\n",
       "      <td>19992357.0</td>\n",
       "      <td>11731042.0</td>\n",
       "      <td>8126026.0</td>\n",
       "      <td>7425878.0</td>\n",
       "      <td>12538327.0</td>\n",
       "      <td>12625.0</td>\n",
       "      <td>4440300.0</td>\n",
       "    </tr>\n",
       "    <tr>\n",
       "      <td>3</td>\n",
       "      <td>Paul</td>\n",
       "      <td>393849.0</td>\n",
       "      <td>1237704.0</td>\n",
       "      <td>2760628.0</td>\n",
       "      <td>7594897.0</td>\n",
       "      <td>2207018.0</td>\n",
       "      <td>196908.0</td>\n",
       "      <td>2209.0</td>\n",
       "    </tr>\n",
       "    <tr>\n",
       "      <td>4</td>\n",
       "      <td>Thompson</td>\n",
       "      <td>0.0</td>\n",
       "      <td>3046101.0</td>\n",
       "      <td>5571056.0</td>\n",
       "      <td>3898244.0</td>\n",
       "      <td>757172.0</td>\n",
       "      <td>-325.0</td>\n",
       "      <td>16420.0</td>\n",
       "    </tr>\n",
       "    <tr>\n",
       "      <td>5</td>\n",
       "      <td>Keyes</td>\n",
       "      <td>0.0</td>\n",
       "      <td>0.0</td>\n",
       "      <td>0.0</td>\n",
       "      <td>0.0</td>\n",
       "      <td>0.0</td>\n",
       "      <td>0.0</td>\n",
       "      <td>9575.0</td>\n",
       "    </tr>\n",
       "    <tr>\n",
       "      <td>6</td>\n",
       "      <td>Hunter</td>\n",
       "      <td>400443.0</td>\n",
       "      <td>256348.0</td>\n",
       "      <td>168230.0</td>\n",
       "      <td>213722.0</td>\n",
       "      <td>36570.0</td>\n",
       "      <td>0.0</td>\n",
       "      <td>0.0</td>\n",
       "    </tr>\n",
       "    <tr>\n",
       "      <td>7</td>\n",
       "      <td>Giuliani</td>\n",
       "      <td>13591875.0</td>\n",
       "      <td>16315764.0</td>\n",
       "      <td>10203277.0</td>\n",
       "      <td>12968792.0</td>\n",
       "      <td>8739298.0</td>\n",
       "      <td>30347.0</td>\n",
       "      <td>-3000.0</td>\n",
       "    </tr>\n",
       "  </tbody>\n",
       "</table>\n",
       "</div>"
      ],
      "text/plain": [
       "  Candidate     Q1_Don1     Q2_Don1     Q3_Don1     Q4_Don1     Q1_Don2  \\\n",
       "0    McCain  10572667.0   9499468.0   3884122.0   4617881.0  30783780.0   \n",
       "1  Huckabee    470915.0    597085.0    657684.0   4109812.0   3567779.0   \n",
       "2    Romney  19992357.0  11731042.0   8126026.0   7425878.0  12538327.0   \n",
       "3      Paul    393849.0   1237704.0   2760628.0   7594897.0   2207018.0   \n",
       "4  Thompson         0.0   3046101.0   5571056.0   3898244.0    757172.0   \n",
       "5     Keyes         0.0         0.0         0.0         0.0         0.0   \n",
       "6    Hunter    400443.0    256348.0    168230.0    213722.0     36570.0   \n",
       "7  Giuliani  13591875.0  16315764.0  10203277.0  12968792.0   8739298.0   \n",
       "\n",
       "      Q2_Don2     Q3_Don2  \n",
       "0  30877217.0  39673011.0  \n",
       "1     10046.0      -100.0  \n",
       "2     12625.0   4440300.0  \n",
       "3    196908.0      2209.0  \n",
       "4      -325.0     16420.0  \n",
       "5         0.0      9575.0  \n",
       "6         0.0         0.0  \n",
       "7     30347.0     -3000.0  "
      ]
     },
     "execution_count": 592,
     "metadata": {},
     "output_type": "execute_result"
    }
   ],
   "source": [
    "df_2008_GOP"
   ]
  },
  {
   "cell_type": "code",
   "execution_count": 593,
   "metadata": {},
   "outputs": [],
   "source": [
    "days_in_race_GOP_2008 = [554,401,359,458,139,214,446,359]\n",
    "days_in_race_DCCC_2008 = [564,504,406, 354,361,357,863,408]\n",
    "df_2008_GOP['Dropped_out'] = 1\n",
    "df_2008_DCCC['Dropped_out'] = 1\n",
    "df_2008_GOP.loc[0,'Dropped_out']=0\n",
    "df_2008_GOP.loc[2,'Dropped_out']=0\n",
    "df_2008_DCCC.loc[0,'Dropped_out']=0\n",
    "df_2008_DCCC.loc[6,'Dropped_out']=0\n",
    "df_2008_GOP['Days_in_race'] = 0\n",
    "df_2008_DCCC['Days_in_race'] = 0\n",
    "for i in df_2008_GOP.index:\n",
    "    df_2008_GOP.loc[i,'Days_in_race'] = days_in_race_GOP_2008[i]\n",
    "for i in df_2008_DCCC.index:\n",
    "    df_2008_DCCC.loc[i,'Days_in_race'] = days_in_race_DCCC_2008[i]"
   ]
  },
  {
   "cell_type": "code",
   "execution_count": 594,
   "metadata": {},
   "outputs": [],
   "source": [
    " df_2008_DCCC.to_csv('../../Data/Model/2008_modeling_DCCC.csv')"
   ]
  },
  {
   "cell_type": "code",
   "execution_count": 595,
   "metadata": {},
   "outputs": [],
   "source": [
    "df_2008_GOP.to_csv('../../Data/Model/2008_modeling_GOP.csv')"
   ]
  },
  {
   "cell_type": "markdown",
   "metadata": {},
   "source": [
    "#### 2012 organization"
   ]
  },
  {
   "cell_type": "code",
   "execution_count": 596,
   "metadata": {},
   "outputs": [],
   "source": [
    "df_2012_features_GOP = pd.DataFrame(columns = ['Candidate'])\n",
    "df_2012_features_GOP['Candidate'] = ['Romney','Santorum', 'Paul','Gingrich']"
   ]
  },
  {
   "cell_type": "code",
   "execution_count": 597,
   "metadata": {},
   "outputs": [],
   "source": [
    "# read in the data frames that we created earlier for 2012\n",
    "Romney = pd.read_csv('../../Data/don/2009_2012_ind_cand/Romney_2012.csv')\n",
    "Santorum = pd.read_csv('../../Data/don/2009_2012_ind_cand/Santorum_2012.csv')\n",
    "Paul = pd.read_csv('../../Data/don/2009_2012_ind_cand/Paul_2012.csv') \n",
    "Gingrich = pd.read_csv('../../Data/don/2009_2012_ind_cand/Gingrich_2012.csv')"
   ]
  },
  {
   "cell_type": "code",
   "execution_count": 598,
   "metadata": {},
   "outputs": [],
   "source": [
    "def eng_fet_2012(df1,df2):\n",
    "    for i in df1.index:\n",
    "        data_frame = df2[i]\n",
    "        data_frame.set_index('TRANSACTION_DT',inplace = True)\n",
    "        q1_10 = data_frame.loc['2011-01-01':'2011-03-31']\n",
    "        q2_10 = data_frame.loc['2011-04-01':'2011-06-30']\n",
    "        q3_10 = data_frame.loc['2011-07-01':'2011-09-30']\n",
    "        q4_10 = data_frame.loc['2011-10-01':'2011-12-31']\n",
    "        q1_11 = data_frame.loc['2012-01-01':'2012-03-31']\n",
    "        q2_11 = data_frame.loc['2012-04-01':'2012-06-30']\n",
    "        q3_11 = data_frame.loc['2012-07-01':'2012-09-30']\n",
    "        q4_11 = data_frame.loc['2012-10-01':'2012-12-31']\n",
    "        df1.loc[i,'Q1_Don1'] = q1_10['TRANSACTION_AMT'].sum()\n",
    "        df1.loc[i,'Q2_Don1'] = q2_10['TRANSACTION_AMT'].sum()\n",
    "        df1.loc[i,'Q3_Don1'] = q3_10['TRANSACTION_AMT'].sum()\n",
    "        df1.loc[i,'Q4_Don1'] = q4_10['TRANSACTION_AMT'].sum()\n",
    "        df1.loc[i,'Q1_Don2'] = q1_11['TRANSACTION_AMT'].sum()\n",
    "        df1.loc[i,'Q2_Don2'] = q2_11['TRANSACTION_AMT'].sum()\n",
    "        df1.loc[i,'Q3_Don2'] = q3_11['TRANSACTION_AMT'].sum()\n",
    "        \n",
    "    return(df1)"
   ]
  },
  {
   "cell_type": "code",
   "execution_count": 599,
   "metadata": {},
   "outputs": [],
   "source": [
    "df_2012_GOP = eng_fet_2012(df_2012_features_GOP,[Romney, Santorum, Paul, Gingrich])"
   ]
  },
  {
   "cell_type": "code",
   "execution_count": 600,
   "metadata": {},
   "outputs": [],
   "source": [
    "days_in_race_GOP_2012 = [453,319,407,402]\n",
    "df_2012_GOP['Dropped_out'] = 1\n",
    "df_2012_GOP.loc[0,'Dropped_out']=0\n",
    "df_2012_GOP.loc[2,'Dropped_out']=0\n",
    "df_2012_GOP['Days_in_race'] = 0\n",
    "for i in df_2012_GOP.index:\n",
    "    df_2012_GOP.loc[i,'Days_in_race'] = days_in_race_GOP_2012[i]"
   ]
  },
  {
   "cell_type": "code",
   "execution_count": 602,
   "metadata": {},
   "outputs": [],
   "source": [
    "df_2012_GOP.to_csv('../../Data/Model/2012_modeling_GOP.csv')"
   ]
  },
  {
   "cell_type": "markdown",
   "metadata": {},
   "source": [
    "#### 2016 organization"
   ]
  },
  {
   "cell_type": "code",
   "execution_count": 603,
   "metadata": {},
   "outputs": [],
   "source": [
    "df_2016_features_GOP = pd.DataFrame(columns = ['Candidate'])\n",
    "df_2016_features_DCCC = pd.DataFrame(columns = ['Candidate']) "
   ]
  },
  {
   "cell_type": "code",
   "execution_count": 604,
   "metadata": {},
   "outputs": [],
   "source": [
    "df_2016_features_GOP['Candidate'] = ['Trump', 'Cruz','Kasich','Rubio','Carson','Bush','Paul',\n",
    "                                     'Christie', 'Huckabee','Fiorina','Gilmore','Santorum',\n",
    "                                     'Perry','Walker', 'Jindal', 'Grahm','Pataki']\n",
    "df_2016_features_DCCC['Candidate'] = ['Clinton','Sanders','Omalley']   "
   ]
  },
  {
   "cell_type": "code",
   "execution_count": 605,
   "metadata": {},
   "outputs": [
    {
     "name": "stderr",
     "output_type": "stream",
     "text": [
      "/Library/Frameworks/Python.framework/Versions/3.6/lib/python3.6/site-packages/IPython/core/interactiveshell.py:3058: DtypeWarning: Columns (10) have mixed types. Specify dtype option on import or set low_memory=False.\n",
      "  interactivity=interactivity, compiler=compiler, result=result)\n"
     ]
    }
   ],
   "source": [
    "# read in the data frames so they can be used in the function\n",
    "Trump =pd.read_csv('../../Data/don/2013_2016_ind_cand_final/Trump_2016_don_clean.csv')\n",
    "Cruz =pd.read_csv('../../Data/don/2013_2016_ind_cand_final/Cruz_2016_don_clean.csv')\n",
    "Kasich =pd.read_csv('../../Data/don/2013_2016_ind_cand_final/Kasich_2016_don_clean.csv')\n",
    "Rubio =pd.read_csv('../../Data/don/2013_2016_ind_cand_final/Rubio_2016_don_clean.csv')\n",
    "Carson =pd.read_csv('../../Data/don/2013_2016_ind_cand_final/Carson_2016_don_clean.csv')\n",
    "Bush =pd.read_csv('../../Data/don/2013_2016_ind_cand_final/Bush_2016_don_clean.csv')\n",
    "Paul =pd.read_csv('../../Data/don/2013_2016_ind_cand_final/Paul_2016_don_clean.csv')\n",
    "Christie =pd.read_csv('../../Data/don/2013_2016_ind_cand_final/Christie_2016_don_clean.csv')\n",
    "Huckabee =pd.read_csv('../../Data/don/2013_2016_ind_cand_final/Huckabee_2016_don_clean.csv')\n",
    "Fiorina =pd.read_csv('../../Data/don/2013_2016_ind_cand_final/Fiorina_2016_don_clean.csv')\n",
    "Gilmore =pd.read_csv('../../Data/don/2013_2016_ind_cand_final/Gilmore_2016_don_clean.csv')\n",
    "Santorum =pd.read_csv('../../Data/don/2013_2016_ind_cand_final/Santorm_2016_don_clean.csv')\n",
    "Perry =pd.read_csv('../../Data/don/2013_2016_ind_cand_final/Perry_2016_don_clean.csv')\n",
    "Walker =pd.read_csv('../../Data/don/2013_2016_ind_cand_final/Walker_2016_don_clean.csv')\n",
    "Jindal =pd.read_csv('../../Data/don/2013_2016_ind_cand_final/Jindal_2016_don_clean.csv')\n",
    "Grahm =pd.read_csv('../../Data/don/2013_2016_ind_cand_final/Grahm_2016_don_clean.csv')\n",
    "Pataki =pd.read_csv('../../Data/don/2013_2016_ind_cand_final/Pataki_2016_don_clean.csv')\n",
    "Clinton =pd.read_csv('../../Data/don/2013_2016_ind_cand_final/Clinton_2016_don_clean.csv')\n",
    "Sanders =pd.read_csv('../../Data/don/2013_2016_ind_cand_final/Sanders_2016_don_clean.csv')\n",
    "Omalley =pd.read_csv('../../Data/don/2013_2016_ind_cand_final/Omalley_2016_don_clean.csv')"
   ]
  },
  {
   "cell_type": "code",
   "execution_count": 606,
   "metadata": {},
   "outputs": [],
   "source": [
    "def eng_fet_2016(df1,df2):\n",
    "    for i in df1.index:\n",
    "        data_frame = df2[i]\n",
    "        data_frame.set_index('TRANSACTION_DT',inplace = True)\n",
    "        data_frame.drop(['Unnamed: 0'], axis = 1,inplace = True)\n",
    "        data_frame.drop(['Unnamed: 0.1'], axis = 1,inplace = True) \n",
    "        q1 = data_frame.loc['2015-01-01':'2015-03-31']\n",
    "        q2 = data_frame.loc['2015-04-01':'2015-06-30']\n",
    "        q3 = data_frame.loc['2015-07-01':'2015-09-30']\n",
    "        q4 = data_frame.loc['2015-10-01':'2015-12-31']\n",
    "        q1_16 = data_frame.loc['2016-01-01':'2016-03-31']\n",
    "        q2_16 = data_frame.loc['2016-04-01':'2016-06-30']\n",
    "        q3_16 = data_frame.loc['2016-07-01':'2016-09-30']\n",
    "        df1.loc[i,'Q1_Don1'] = q1['TRANSACTION_AMT'].sum()\n",
    "        df1.loc[i,'Q2_Don1'] = q2['TRANSACTION_AMT'].sum()\n",
    "        df1.loc[i,'Q3_Don1'] = q3['TRANSACTION_AMT'].sum()\n",
    "        df1.loc[i,'Q4_Don1'] = q4['TRANSACTION_AMT'].sum()\n",
    "        df1.loc[i,'Q1_Don2'] = q1_16['TRANSACTION_AMT'].sum()\n",
    "        df1.loc[i,'Q2_Don2'] = q2_16['TRANSACTION_AMT'].sum()\n",
    "        df1.loc[i,'Q3_Don2'] = q3_16['TRANSACTION_AMT'].sum()\n",
    "    \n",
    "    return(df1)"
   ]
  },
  {
   "cell_type": "code",
   "execution_count": 607,
   "metadata": {},
   "outputs": [],
   "source": [
    "df_2016_GOP = eng_fet_2016(df_2016_features_GOP,[Trump, Cruz, Kasich, Rubio , Carson, Bush,\n",
    "                              Paul, Christie, Huckabee, Fiorina, Gilmore,\n",
    "                              Santorum, Perry, Walker, Jindal ,Grahm, Pataki])\n",
    "df_2016_DCCC = eng_fet_2016(df_2016_features_DCCC,[Clinton,Sanders,Omalley])"
   ]
  },
  {
   "cell_type": "code",
   "execution_count": 608,
   "metadata": {},
   "outputs": [],
   "source": [
    "df_2016_GOP['Dropped_out'] = 1\n",
    "df_2016_DCCC['Dropped_out'] = 1\n",
    "df_2016_GOP.loc[0,'Dropped_out']=0\n",
    "df_2016_DCCC.loc[0,'Dropped_out']=0\n",
    "df_2016_GOP['Days_in_race'] = 0\n",
    "df_2016_DCCC['Days_in_race'] = 0\n",
    "days_in_race_GOP = [323,407,288,337,306,250,302,225,272,282,198,252,99,70,146,203,215]\n",
    "for i in df_2016_GOP.index:\n",
    "    df_2016_GOP.loc[i,'Days_in_race'] = days_in_race_GOP[i]\n",
    "days_in_race_DCCC = [329,427,247]\n",
    "for i in df_2016_DCCC.index:\n",
    "    df_2016_DCCC.loc[i,'Days_in_race'] = days_in_race_DCCC[i]"
   ]
  },
  {
   "cell_type": "code",
   "execution_count": null,
   "metadata": {},
   "outputs": [],
   "source": []
  },
  {
   "cell_type": "code",
   "execution_count": null,
   "metadata": {},
   "outputs": [],
   "source": []
  },
  {
   "cell_type": "code",
   "execution_count": 609,
   "metadata": {},
   "outputs": [],
   "source": [
    "df_2016_GOP.to_csv('../../Data/Model/2016_modeling_GOP.csv')\n",
    "df_2016_DCCC.to_csv('../../Data/Model/2016_modeling_DCCC.csv')"
   ]
  },
  {
   "cell_type": "markdown",
   "metadata": {},
   "source": [
    "#### 2020 organization"
   ]
  },
  {
   "cell_type": "code",
   "execution_count": 610,
   "metadata": {},
   "outputs": [],
   "source": [
    "Biden = pd.read_csv('../../Data/don/2017_2020_ind_cand_final/Biden.csv')\n",
    "Booker = pd.read_csv('../../Data/don/2017_2020_ind_cand_final/Booker.csv')\n",
    "Buttigieg = pd.read_csv('../../Data/don/2017_2020_ind_cand_final/Buttigieg.csv')\n",
    "Castro = pd.read_csv('../../Data/don/2017_2020_ind_cand_final/Castro.csv')\n",
    "Delaney = pd.read_csv('../../Data/don/2017_2020_ind_cand_final/Delaney.csv')\n",
    "Gabbard = pd.read_csv('../../Data/don/2017_2020_ind_cand_final/Gabbard.csv')\n",
    "Klobuchar = pd.read_csv('../../Data/don/2017_2020_ind_cand_final/Klobuchar.csv')\n",
    "Sanders = pd.read_csv('../../Data/don/2017_2020_ind_cand_final/Sanders.csv')\n",
    "Steyer = pd.read_csv('../../Data/don/2017_2020_ind_cand_final/Steyer.csv')\n",
    "Warren = pd.read_csv('../../Data/don/2017_2020_ind_cand_final/Warren.csv')\n",
    "Williamson = pd.read_csv('../../Data/don/2017_2020_ind_cand_final/Williamson.csv')\n",
    "Yang = pd.read_csv('../../Data/don/2017_2020_ind_cand_final/Yang.csv')"
   ]
  },
  {
   "cell_type": "code",
   "execution_count": 611,
   "metadata": {},
   "outputs": [],
   "source": [
    "df_2020_features_DCCC = pd.DataFrame(columns = ['Candidate']) "
   ]
  },
  {
   "cell_type": "code",
   "execution_count": 612,
   "metadata": {},
   "outputs": [],
   "source": [
    "df_2020_features_DCCC['Candidate'] = ['Biden','Booker','Buttigieg','Castro',\n",
    "                                     'Gabbard','Klobuchar','Sanders','Steyer','Warren',\n",
    "                                     'Williamson','Yang']"
   ]
  },
  {
   "cell_type": "code",
   "execution_count": 613,
   "metadata": {},
   "outputs": [
    {
     "data": {
      "text/html": [
       "<div>\n",
       "<style scoped>\n",
       "    .dataframe tbody tr th:only-of-type {\n",
       "        vertical-align: middle;\n",
       "    }\n",
       "\n",
       "    .dataframe tbody tr th {\n",
       "        vertical-align: top;\n",
       "    }\n",
       "\n",
       "    .dataframe thead th {\n",
       "        text-align: right;\n",
       "    }\n",
       "</style>\n",
       "<table border=\"1\" class=\"dataframe\">\n",
       "  <thead>\n",
       "    <tr style=\"text-align: right;\">\n",
       "      <th></th>\n",
       "      <th>Unnamed: 0</th>\n",
       "      <th>Unnamed: 0.1</th>\n",
       "      <th>TRANSACTION_DT</th>\n",
       "      <th>CMTE_ID</th>\n",
       "      <th>AMNDT_IND</th>\n",
       "      <th>RPT_TP</th>\n",
       "      <th>ENTITY_TP</th>\n",
       "      <th>NAME</th>\n",
       "      <th>CITY</th>\n",
       "      <th>STATE</th>\n",
       "      <th>ZIP_CODE</th>\n",
       "      <th>EMPLOYER</th>\n",
       "      <th>OCCUPATION</th>\n",
       "      <th>TRANSACTION_AMT</th>\n",
       "      <th>FILE_NUM</th>\n",
       "      <th>SUB_ID</th>\n",
       "    </tr>\n",
       "  </thead>\n",
       "  <tbody>\n",
       "    <tr>\n",
       "      <td>0</td>\n",
       "      <td>0</td>\n",
       "      <td>11702015</td>\n",
       "      <td>2019-04-18</td>\n",
       "      <td>C00703975</td>\n",
       "      <td>A</td>\n",
       "      <td>Q2</td>\n",
       "      <td>IND</td>\n",
       "      <td>DISCIULLO, JEFFREY G</td>\n",
       "      <td>OXON HILL</td>\n",
       "      <td>MD</td>\n",
       "      <td>207451583.0</td>\n",
       "      <td>WRIGHT &amp; TALISMAN, PC</td>\n",
       "      <td>ATTORNEY</td>\n",
       "      <td>500</td>\n",
       "      <td>1360571</td>\n",
       "      <td>4102920191675969667</td>\n",
       "    </tr>\n",
       "    <tr>\n",
       "      <td>1</td>\n",
       "      <td>1</td>\n",
       "      <td>11703182</td>\n",
       "      <td>2019-04-18</td>\n",
       "      <td>C00703975</td>\n",
       "      <td>A</td>\n",
       "      <td>Q2</td>\n",
       "      <td>IND</td>\n",
       "      <td>SPECTOR, JANICE C</td>\n",
       "      <td>SPRINGFIELD</td>\n",
       "      <td>VA</td>\n",
       "      <td>221504604.0</td>\n",
       "      <td>RETIRED</td>\n",
       "      <td>RETIRED</td>\n",
       "      <td>2800</td>\n",
       "      <td>1360571</td>\n",
       "      <td>4102920191675998025</td>\n",
       "    </tr>\n",
       "    <tr>\n",
       "      <td>2</td>\n",
       "      <td>2</td>\n",
       "      <td>11703425</td>\n",
       "      <td>2019-04-18</td>\n",
       "      <td>C00703975</td>\n",
       "      <td>A</td>\n",
       "      <td>Q2</td>\n",
       "      <td>IND</td>\n",
       "      <td>SPECTOR, BARRY S</td>\n",
       "      <td>SPRINGFIELD</td>\n",
       "      <td>VA</td>\n",
       "      <td>221504604.0</td>\n",
       "      <td>NOT EMPLOYED</td>\n",
       "      <td>NOT EMPLOYED</td>\n",
       "      <td>2800</td>\n",
       "      <td>1360571</td>\n",
       "      <td>4102920191675998022</td>\n",
       "    </tr>\n",
       "    <tr>\n",
       "      <td>3</td>\n",
       "      <td>3</td>\n",
       "      <td>11764299</td>\n",
       "      <td>2019-04-20</td>\n",
       "      <td>C00703975</td>\n",
       "      <td>A</td>\n",
       "      <td>Q2</td>\n",
       "      <td>IND</td>\n",
       "      <td>SWICK, JOANNE H</td>\n",
       "      <td>SARASOTA</td>\n",
       "      <td>FL</td>\n",
       "      <td>342364848.0</td>\n",
       "      <td>SELF-EMPLOYED</td>\n",
       "      <td>RETIRED</td>\n",
       "      <td>300</td>\n",
       "      <td>1360571</td>\n",
       "      <td>4102920191675999300</td>\n",
       "    </tr>\n",
       "    <tr>\n",
       "      <td>4</td>\n",
       "      <td>4</td>\n",
       "      <td>11764927</td>\n",
       "      <td>2019-04-20</td>\n",
       "      <td>C00703975</td>\n",
       "      <td>A</td>\n",
       "      <td>Q2</td>\n",
       "      <td>IND</td>\n",
       "      <td>TAYLOR, MICHELE E</td>\n",
       "      <td>ATLANTA</td>\n",
       "      <td>GA</td>\n",
       "      <td>30309.0</td>\n",
       "      <td>NOT EMPLOYED</td>\n",
       "      <td>NOT EMPLOYED</td>\n",
       "      <td>2800</td>\n",
       "      <td>1360571</td>\n",
       "      <td>4102920191675999703</td>\n",
       "    </tr>\n",
       "  </tbody>\n",
       "</table>\n",
       "</div>"
      ],
      "text/plain": [
       "   Unnamed: 0  Unnamed: 0.1 TRANSACTION_DT    CMTE_ID AMNDT_IND RPT_TP  \\\n",
       "0           0      11702015     2019-04-18  C00703975         A     Q2   \n",
       "1           1      11703182     2019-04-18  C00703975         A     Q2   \n",
       "2           2      11703425     2019-04-18  C00703975         A     Q2   \n",
       "3           3      11764299     2019-04-20  C00703975         A     Q2   \n",
       "4           4      11764927     2019-04-20  C00703975         A     Q2   \n",
       "\n",
       "  ENTITY_TP                  NAME         CITY STATE     ZIP_CODE  \\\n",
       "0       IND  DISCIULLO, JEFFREY G    OXON HILL    MD  207451583.0   \n",
       "1       IND     SPECTOR, JANICE C  SPRINGFIELD    VA  221504604.0   \n",
       "2       IND      SPECTOR, BARRY S  SPRINGFIELD    VA  221504604.0   \n",
       "3       IND       SWICK, JOANNE H     SARASOTA    FL  342364848.0   \n",
       "4       IND     TAYLOR, MICHELE E      ATLANTA    GA      30309.0   \n",
       "\n",
       "                EMPLOYER    OCCUPATION  TRANSACTION_AMT  FILE_NUM  \\\n",
       "0  WRIGHT & TALISMAN, PC      ATTORNEY              500   1360571   \n",
       "1                RETIRED       RETIRED             2800   1360571   \n",
       "2           NOT EMPLOYED  NOT EMPLOYED             2800   1360571   \n",
       "3          SELF-EMPLOYED       RETIRED              300   1360571   \n",
       "4           NOT EMPLOYED  NOT EMPLOYED             2800   1360571   \n",
       "\n",
       "                SUB_ID  \n",
       "0  4102920191675969667  \n",
       "1  4102920191675998025  \n",
       "2  4102920191675998022  \n",
       "3  4102920191675999300  \n",
       "4  4102920191675999703  "
      ]
     },
     "execution_count": 613,
     "metadata": {},
     "output_type": "execute_result"
    }
   ],
   "source": [
    "Biden.head()"
   ]
  },
  {
   "cell_type": "code",
   "execution_count": 614,
   "metadata": {},
   "outputs": [],
   "source": [
    "def eng_fet_2020(df1,df2):\n",
    "    for i in df1.index:\n",
    "        data_frame = df2[i]\n",
    "        data_frame.set_index('TRANSACTION_DT',inplace = True)\n",
    "        data_frame.drop(['Unnamed: 0'], axis = 1,inplace = True)\n",
    "        data_frame.drop(['Unnamed: 0.1'], axis = 1,inplace = True)\n",
    "        q1 = data_frame.loc['2019-01-01':'2019-03-31']\n",
    "        q2 = data_frame.loc['2019-04-01':'2019-06-30']\n",
    "        q3 = data_frame.loc['2019-07-01':'2019-09-30']\n",
    "        q4 = data_frame.loc['2019-10-01':'2019-12-31']\n",
    "        q1_16 = data_frame.loc['2020-01-01':'2020-03-31']\n",
    "        q2_16 = data_frame.loc['2020-04-01':'2020-06-30']\n",
    "        q3_16 = data_frame.loc['2020-07-01':'2020-09-30']\n",
    "        df1.loc[i,'Q1_Don1'] = q1['TRANSACTION_AMT'].sum()\n",
    "        df1.loc[i,'Q2_Don1'] = q2['TRANSACTION_AMT'].sum()\n",
    "        df1.loc[i,'Q3_Don1'] = q3['TRANSACTION_AMT'].sum()\n",
    "        df1.loc[i,'Q4_Don1'] = q4['TRANSACTION_AMT'].sum()\n",
    "        df1.loc[i,'Q1_Don2'] = q1_16['TRANSACTION_AMT'].sum()\n",
    "        df1.loc[i,'Q2_Don2'] = q2_16['TRANSACTION_AMT'].sum()\n",
    "        df1.loc[i,'Q3_Don2'] = q3_16['TRANSACTION_AMT'].sum()\n",
    "    \n",
    "    return(df1)"
   ]
  },
  {
   "cell_type": "code",
   "execution_count": null,
   "metadata": {},
   "outputs": [],
   "source": []
  },
  {
   "cell_type": "code",
   "execution_count": 615,
   "metadata": {},
   "outputs": [],
   "source": [
    "df_2020_dccc = eng_fet_2020(df_2020_features_DCCC,[Biden,Booker,Buttigieg,Castro,\n",
    "                                     Gabbard,Klobuchar,Sanders,Steyer,Warren,\n",
    "                                     Williamson,Yang])"
   ]
  },
  {
   "cell_type": "code",
   "execution_count": 616,
   "metadata": {},
   "outputs": [],
   "source": [
    "df_2020_dccc['Dropped_out'] = 0\n",
    "df_2020_dccc['Days_in_race'] = 0"
   ]
  },
  {
   "cell_type": "code",
   "execution_count": 617,
   "metadata": {},
   "outputs": [],
   "source": [
    "days_in_race_DCCC_2020 = [223,306,234,326,327,297,288,148,288,384,290]\n",
    "for i in df_2020_dccc.index:\n",
    "    df_2020_dccc.loc[i,'Days_in_race'] = days_in_race_DCCC_2020[i]\n"
   ]
  },
  {
   "cell_type": "code",
   "execution_count": null,
   "metadata": {},
   "outputs": [],
   "source": []
  },
  {
   "cell_type": "code",
   "execution_count": 618,
   "metadata": {},
   "outputs": [],
   "source": [
    "df_2020_dccc.to_csv('../../Data/Model/2020_modeling_DCCC.csv')"
   ]
  },
  {
   "cell_type": "code",
   "execution_count": null,
   "metadata": {},
   "outputs": [],
   "source": []
  },
  {
   "cell_type": "code",
   "execution_count": null,
   "metadata": {},
   "outputs": [],
   "source": []
  }
 ],
 "metadata": {
  "kernelspec": {
   "display_name": "Python 3",
   "language": "python",
   "name": "python3"
  },
  "language_info": {
   "codemirror_mode": {
    "name": "ipython",
    "version": 3
   },
   "file_extension": ".py",
   "mimetype": "text/x-python",
   "name": "python",
   "nbconvert_exporter": "python",
   "pygments_lexer": "ipython3",
   "version": "3.6.5"
  }
 },
 "nbformat": 4,
 "nbformat_minor": 2
}
